{
  "nbformat": 4,
  "nbformat_minor": 0,
  "metadata": {
    "colab": {
      "provenance": [],
      "authorship_tag": "ABX9TyPT/ZYxHV+yf5qgnUNes8is",
      "include_colab_link": true
    },
    "kernelspec": {
      "name": "python3",
      "display_name": "Python 3"
    },
    "language_info": {
      "name": "python"
    }
  },
  "cells": [
    {
      "cell_type": "markdown",
      "metadata": {
        "id": "view-in-github",
        "colab_type": "text"
      },
      "source": [
        "<a href=\"https://colab.research.google.com/github/Ignacio246/colab/blob/main/Actividad_2_4.ipynb\" target=\"_parent\"><img src=\"https://colab.research.google.com/assets/colab-badge.svg\" alt=\"Open In Colab\"/></a>"
      ]
    },
    {
      "cell_type": "code",
      "execution_count": 1,
      "metadata": {
        "id": "QCwsuwU-xZBk"
      },
      "outputs": [],
      "source": [
        "import csv          #leer de forma facil el archivo csv\n",
        "import numpy as np\n",
        "import pandas as pd"
      ]
    },
    {
      "cell_type": "code",
      "source": [
        "#abrir el archivo csv\n",
        "\n",
        "with open('calificaciones_v2.csv','r') as file:\n",
        "    data = list(csv.reader(file,delimiter=\",\"))"
      ],
      "metadata": {
        "id": "Msa5-WvXx-Ts"
      },
      "execution_count": 2,
      "outputs": []
    },
    {
      "cell_type": "code",
      "source": [
        "type(data)"
      ],
      "metadata": {
        "colab": {
          "base_uri": "https://localhost:8080/"
        },
        "id": "y5mNGB7DyEG2",
        "outputId": "0f2cafcd-6bc1-40b0-e567-ef48ba5d7ebe"
      },
      "execution_count": 3,
      "outputs": [
        {
          "output_type": "execute_result",
          "data": {
            "text/plain": [
              "list"
            ]
          },
          "metadata": {},
          "execution_count": 3
        }
      ]
    },
    {
      "cell_type": "code",
      "source": [
        "data =np.array(data)"
      ],
      "metadata": {
        "id": "aldhWebEyGyK"
      },
      "execution_count": 4,
      "outputs": []
    },
    {
      "cell_type": "code",
      "source": [
        "type(data)"
      ],
      "metadata": {
        "colab": {
          "base_uri": "https://localhost:8080/"
        },
        "id": "TpViBs_3yIYQ",
        "outputId": "0c7b2541-7d4a-4762-f254-18118be2d991"
      },
      "execution_count": 5,
      "outputs": [
        {
          "output_type": "execute_result",
          "data": {
            "text/plain": [
              "numpy.ndarray"
            ]
          },
          "metadata": {},
          "execution_count": 5
        }
      ]
    },
    {
      "cell_type": "code",
      "source": [
        "data[:10,:]"
      ],
      "metadata": {
        "colab": {
          "base_uri": "https://localhost:8080/"
        },
        "id": "K5qOrV7cyKD4",
        "outputId": "e66b5291-c87f-4908-f68f-3db073cdeb0b"
      },
      "execution_count": 6,
      "outputs": [
        {
          "output_type": "execute_result",
          "data": {
            "text/plain": [
              "array([['matricula', '11111111'],\n",
              "       ['nombre', 'Alumno 1'],\n",
              "       ['grupo', 'TI11'],\n",
              "       ['Materia 1', '1'],\n",
              "       ['Materia 2', '8'],\n",
              "       ['Materia 3', '1'],\n",
              "       ['Materia 4', '7'],\n",
              "       ['Materia 5', '2'],\n",
              "       ['Materia 5', '2'],\n",
              "       ['estado', 'regular']], dtype='<U9')"
            ]
          },
          "metadata": {},
          "execution_count": 6
        }
      ]
    },
    {
      "cell_type": "code",
      "source": [
        "cabeceras = data.T[0] \n",
        "cabeceras[:15]"
      ],
      "metadata": {
        "colab": {
          "base_uri": "https://localhost:8080/"
        },
        "id": "-AX9lZ10yMZW",
        "outputId": "35efda12-ff7d-4fed-b1ff-30bb35cc9d33"
      },
      "execution_count": 10,
      "outputs": [
        {
          "output_type": "execute_result",
          "data": {
            "text/plain": [
              "array(['matricula', 'nombre', 'grupo', 'Materia 1', 'Materia 2',\n",
              "       'Materia 3', 'Materia 4', 'Materia 5', 'Materia 5', 'estado',\n",
              "       'matricula', 'nombre', 'grupo', 'Materia 1', 'Materia 2'],\n",
              "      dtype='<U9')"
            ]
          },
          "metadata": {},
          "execution_count": 10
        }
      ]
    },
    {
      "cell_type": "code",
      "source": [
        "np.unique(cabeceras)"
      ],
      "metadata": {
        "colab": {
          "base_uri": "https://localhost:8080/"
        },
        "id": "4HLkHVcPyQc1",
        "outputId": "f15f94b0-e09d-45c6-d98a-ebd6b2bd5f32"
      },
      "execution_count": 11,
      "outputs": [
        {
          "output_type": "execute_result",
          "data": {
            "text/plain": [
              "array(['Materia 1', 'Materia 2', 'Materia 3', 'Materia 4', 'Materia 5',\n",
              "       'Materia 6', 'estado', 'grupo', 'matricula', 'nombre'], dtype='<U9')"
            ]
          },
          "metadata": {},
          "execution_count": 11
        }
      ]
    },
    {
      "cell_type": "code",
      "source": [
        "np.unique(cabeceras).size"
      ],
      "metadata": {
        "colab": {
          "base_uri": "https://localhost:8080/"
        },
        "id": "f93vw7Cdybow",
        "outputId": "3f54c8c0-0e1a-426b-f645-b816b9a7a390"
      },
      "execution_count": 12,
      "outputs": [
        {
          "output_type": "execute_result",
          "data": {
            "text/plain": [
              "10"
            ]
          },
          "metadata": {},
          "execution_count": 12
        }
      ]
    },
    {
      "cell_type": "code",
      "source": [
        "cabeceras"
      ],
      "metadata": {
        "id": "8qeJ_mkPydmS"
      },
      "execution_count": null,
      "outputs": []
    },
    {
      "cell_type": "markdown",
      "source": [
        "#### Elimino las cabeceras repetidas"
      ],
      "metadata": {
        "id": "Nla9h5BbzwxG"
      }
    },
    {
      "cell_type": "code",
      "source": [
        "headers = []\n",
        "for row in cabeceras:\n",
        "  if row not in headers:\n",
        "    headers.append(row)\n",
        "\n",
        "print(headers)"
      ],
      "metadata": {
        "colab": {
          "base_uri": "https://localhost:8080/"
        },
        "id": "jxkUYkLGyqQD",
        "outputId": "067e8945-830e-4fc7-d7ee-7c54605f4c15"
      },
      "execution_count": 16,
      "outputs": [
        {
          "output_type": "stream",
          "name": "stdout",
          "text": [
            "['matricula', 'nombre', 'grupo', 'Materia 1', 'Materia 2', 'Materia 3', 'Materia 4', 'Materia 5', 'estado', 'Materia 6']\n"
          ]
        }
      ]
    },
    {
      "cell_type": "code",
      "source": [
        "headers"
      ],
      "metadata": {
        "colab": {
          "base_uri": "https://localhost:8080/"
        },
        "id": "Jn-z9JOzzAil",
        "outputId": "c58672c1-1c22-4d97-8e2b-9e3c3201a54c"
      },
      "execution_count": 17,
      "outputs": [
        {
          "output_type": "execute_result",
          "data": {
            "text/plain": [
              "['matricula',\n",
              " 'nombre',\n",
              " 'grupo',\n",
              " 'Materia 1',\n",
              " 'Materia 2',\n",
              " 'Materia 3',\n",
              " 'Materia 4',\n",
              " 'Materia 5',\n",
              " 'estado',\n",
              " 'Materia 6']"
            ]
          },
          "metadata": {},
          "execution_count": 17
        }
      ]
    },
    {
      "cell_type": "code",
      "source": [
        "headers1 =np.array(headers)\n",
        "headers1"
      ],
      "metadata": {
        "colab": {
          "base_uri": "https://localhost:8080/"
        },
        "id": "P93N5HJGzrlI",
        "outputId": "9ca924ba-d4e2-4662-c7dc-c365889732a8"
      },
      "execution_count": 19,
      "outputs": [
        {
          "output_type": "execute_result",
          "data": {
            "text/plain": [
              "array(['matricula', 'nombre', 'grupo', 'Materia 1', 'Materia 2',\n",
              "       'Materia 3', 'Materia 4', 'Materia 5', 'estado', 'Materia 6'],\n",
              "      dtype='<U9')"
            ]
          },
          "metadata": {},
          "execution_count": 19
        }
      ]
    },
    {
      "cell_type": "code",
      "source": [
        "headers2 = np.delete(headers1, 9)"
      ],
      "metadata": {
        "id": "9NfmxKZU0En6"
      },
      "execution_count": 25,
      "outputs": []
    },
    {
      "cell_type": "code",
      "source": [
        "headers2"
      ],
      "metadata": {
        "colab": {
          "base_uri": "https://localhost:8080/"
        },
        "id": "io8F-sCq1_tz",
        "outputId": "6371cd8c-7f87-4b09-8048-8a2dcc7279b9"
      },
      "execution_count": 26,
      "outputs": [
        {
          "output_type": "execute_result",
          "data": {
            "text/plain": [
              "array(['matricula', 'nombre', 'grupo', 'Materia 1', 'Materia 2',\n",
              "       'Materia 3', 'Materia 4', 'Materia 5', 'estado'], dtype='<U9')"
            ]
          },
          "metadata": {},
          "execution_count": 26
        }
      ]
    },
    {
      "cell_type": "code",
      "source": [
        "np.unique(headers2).size"
      ],
      "metadata": {
        "colab": {
          "base_uri": "https://localhost:8080/"
        },
        "id": "a7T2Xiqh18BY",
        "outputId": "abf7faf0-bce0-491f-f61e-d7b60d768a5a"
      },
      "execution_count": 27,
      "outputs": [
        {
          "output_type": "execute_result",
          "data": {
            "text/plain": [
              "9"
            ]
          },
          "metadata": {},
          "execution_count": 27
        }
      ]
    },
    {
      "cell_type": "markdown",
      "source": [
        "#### Calculamos el numero de registros"
      ],
      "metadata": {
        "id": "W9j5FNyf1sdR"
      }
    },
    {
      "cell_type": "code",
      "source": [
        "no_cabeceras = headers2.size\n",
        "no_cabeceras"
      ],
      "metadata": {
        "colab": {
          "base_uri": "https://localhost:8080/"
        },
        "id": "vGRP0elk1PFQ",
        "outputId": "06489788-29b4-4436-cc1e-0c72c2a2225a"
      },
      "execution_count": 29,
      "outputs": [
        {
          "output_type": "execute_result",
          "data": {
            "text/plain": [
              "9"
            ]
          },
          "metadata": {},
          "execution_count": 29
        }
      ]
    },
    {
      "cell_type": "code",
      "source": [
        "no_registros = data.T[0].size\n",
        "no_registros"
      ],
      "metadata": {
        "colab": {
          "base_uri": "https://localhost:8080/"
        },
        "id": "6EHHNZrF3kEM",
        "outputId": "58d1b83a-c419-461c-9cf1-fd56085500f7"
      },
      "execution_count": 30,
      "outputs": [
        {
          "output_type": "execute_result",
          "data": {
            "text/plain": [
              "434"
            ]
          },
          "metadata": {},
          "execution_count": 30
        }
      ]
    },
    {
      "cell_type": "code",
      "source": [
        "#Permite calcular el numero de registros del archivo \n",
        "filas = no_registros / no_cabeceras\n",
        "filas"
      ],
      "metadata": {
        "colab": {
          "base_uri": "https://localhost:8080/"
        },
        "id": "fl0eFaMN3uLq",
        "outputId": "800fb4d3-68f5-41e6-f98e-57ea23c610dd"
      },
      "execution_count": 31,
      "outputs": [
        {
          "output_type": "execute_result",
          "data": {
            "text/plain": [
              "48.22222222222222"
            ]
          },
          "metadata": {},
          "execution_count": 31
        }
      ]
    },
    {
      "cell_type": "markdown",
      "source": [
        "#### Eliminar cabeceras del array"
      ],
      "metadata": {
        "id": "uXyy5Dc95Mb0"
      }
    },
    {
      "cell_type": "code",
      "source": [
        "data_sin_cabeceras = np.delete(data,0,1)\n",
        "data_sin_cabeceras"
      ],
      "metadata": {
        "id": "rjRfDS-Y5Ovd"
      },
      "execution_count": null,
      "outputs": []
    },
    {
      "cell_type": "code",
      "source": [
        "data_sin_cabeceras"
      ],
      "metadata": {
        "id": "fUpBhdew8Moo"
      },
      "execution_count": null,
      "outputs": []
    },
    {
      "cell_type": "code",
      "source": [],
      "metadata": {
        "id": "GQu-WjWp8TIQ"
      },
      "execution_count": null,
      "outputs": []
    }
  ]
}