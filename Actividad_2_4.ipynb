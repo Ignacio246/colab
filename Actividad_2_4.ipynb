{
  "nbformat": 4,
  "nbformat_minor": 0,
  "metadata": {
    "colab": {
      "provenance": [],
      "authorship_tag": "ABX9TyOrFeurTpYqAHXXyGTca2RE",
      "include_colab_link": true
    },
    "kernelspec": {
      "name": "python3",
      "display_name": "Python 3"
    },
    "language_info": {
      "name": "python"
    }
  },
  "cells": [
    {
      "cell_type": "markdown",
      "metadata": {
        "id": "view-in-github",
        "colab_type": "text"
      },
      "source": [
        "<a href=\"https://colab.research.google.com/github/Ignacio246/colab/blob/main/Actividad_2_4.ipynb\" target=\"_parent\"><img src=\"https://colab.research.google.com/assets/colab-badge.svg\" alt=\"Open In Colab\"/></a>"
      ]
    },
    {
      "cell_type": "code",
      "execution_count": null,
      "metadata": {
        "id": "QCwsuwU-xZBk"
      },
      "outputs": [],
      "source": [
        "import csv          #leer de forma facil el archivo csv\n",
        "import numpy as np\n",
        "import pandas as pd"
      ]
    },
    {
      "cell_type": "code",
      "source": [
        "#abrir el archivo csv\n",
        "\n",
        "with open('calificaciones_v2.csv','r') as file:\n",
        "    data = list(csv.reader(file,delimiter=\",\"))"
      ],
      "metadata": {
        "id": "Msa5-WvXx-Ts"
      },
      "execution_count": null,
      "outputs": []
    },
    {
      "cell_type": "code",
      "source": [
        "type(data)"
      ],
      "metadata": {
        "colab": {
          "base_uri": "https://localhost:8080/"
        },
        "id": "y5mNGB7DyEG2",
        "outputId": "19690ea6-d259-453c-b32c-4c4495e48c0c"
      },
      "execution_count": null,
      "outputs": [
        {
          "output_type": "execute_result",
          "data": {
            "text/plain": [
              "list"
            ]
          },
          "metadata": {},
          "execution_count": 5
        }
      ]
    },
    {
      "cell_type": "code",
      "source": [
        "data =np.array(data)"
      ],
      "metadata": {
        "id": "aldhWebEyGyK"
      },
      "execution_count": null,
      "outputs": []
    },
    {
      "cell_type": "code",
      "source": [
        "type(data)"
      ],
      "metadata": {
        "colab": {
          "base_uri": "https://localhost:8080/"
        },
        "id": "TpViBs_3yIYQ",
        "outputId": "598aaa25-e2b7-449e-c0ac-3680bbea5d1d"
      },
      "execution_count": null,
      "outputs": [
        {
          "output_type": "execute_result",
          "data": {
            "text/plain": [
              "numpy.ndarray"
            ]
          },
          "metadata": {},
          "execution_count": 7
        }
      ]
    },
    {
      "cell_type": "code",
      "source": [
        "data[:10,:]"
      ],
      "metadata": {
        "colab": {
          "base_uri": "https://localhost:8080/"
        },
        "id": "K5qOrV7cyKD4",
        "outputId": "473a86cb-a2ec-4832-85f6-686e89a4b4b7"
      },
      "execution_count": null,
      "outputs": [
        {
          "output_type": "execute_result",
          "data": {
            "text/plain": [
              "array([['matricula', '11111111'],\n",
              "       ['nombre', 'Alumno 1'],\n",
              "       ['grupo', 'TI11'],\n",
              "       ['Materia 1', '1'],\n",
              "       ['Materia 2', '8'],\n",
              "       ['Materia 3', '1'],\n",
              "       ['Materia 4', '7'],\n",
              "       ['Materia 5', '2'],\n",
              "       ['Materia 5', '2'],\n",
              "       ['estado', 'regular']], dtype='<U9')"
            ]
          },
          "metadata": {},
          "execution_count": 8
        }
      ]
    },
    {
      "cell_type": "code",
      "source": [
        "cabeceras = data.T[0] \n",
        "cabeceras[:15]"
      ],
      "metadata": {
        "colab": {
          "base_uri": "https://localhost:8080/"
        },
        "id": "-AX9lZ10yMZW",
        "outputId": "9a1fa0c3-0c7f-4d34-8c71-496a29fd01aa"
      },
      "execution_count": null,
      "outputs": [
        {
          "output_type": "execute_result",
          "data": {
            "text/plain": [
              "array(['matricula', 'nombre', 'grupo', 'Materia 1', 'Materia 2',\n",
              "       'Materia 3', 'Materia 4', 'Materia 5', 'Materia 5', 'estado',\n",
              "       'matricula', 'nombre', 'grupo', 'Materia 1', 'Materia 2'],\n",
              "      dtype='<U9')"
            ]
          },
          "metadata": {},
          "execution_count": 9
        }
      ]
    },
    {
      "cell_type": "code",
      "source": [
        "np.unique(cabeceras)"
      ],
      "metadata": {
        "colab": {
          "base_uri": "https://localhost:8080/"
        },
        "id": "4HLkHVcPyQc1",
        "outputId": "19611d79-e83a-4d0d-9efc-026b63ce24cd"
      },
      "execution_count": null,
      "outputs": [
        {
          "output_type": "execute_result",
          "data": {
            "text/plain": [
              "array(['Materia 1', 'Materia 2', 'Materia 3', 'Materia 4', 'Materia 5',\n",
              "       'Materia 6', 'estado', 'grupo', 'matricula', 'nombre'], dtype='<U9')"
            ]
          },
          "metadata": {},
          "execution_count": 10
        }
      ]
    },
    {
      "cell_type": "code",
      "source": [
        "np.unique(cabeceras).size"
      ],
      "metadata": {
        "colab": {
          "base_uri": "https://localhost:8080/"
        },
        "id": "f93vw7Cdybow",
        "outputId": "0180b961-5eb2-480d-f548-2072382ef8f1"
      },
      "execution_count": null,
      "outputs": [
        {
          "output_type": "execute_result",
          "data": {
            "text/plain": [
              "10"
            ]
          },
          "metadata": {},
          "execution_count": 11
        }
      ]
    },
    {
      "cell_type": "code",
      "source": [
        "cabeceras"
      ],
      "metadata": {
        "id": "8qeJ_mkPydmS",
        "colab": {
          "base_uri": "https://localhost:8080/"
        },
        "outputId": "cb4b3811-db60-4cfb-c768-808fcf50f88a"
      },
      "execution_count": null,
      "outputs": [
        {
          "output_type": "execute_result",
          "data": {
            "text/plain": [
              "array(['matricula', 'nombre', 'grupo', 'Materia 1', 'Materia 2',\n",
              "       'Materia 3', 'Materia 4', 'Materia 5', 'Materia 5', 'estado',\n",
              "       'matricula', 'nombre', 'grupo', 'Materia 1', 'Materia 2',\n",
              "       'Materia 3', 'Materia 4', 'Materia 5', 'estado', 'matricula',\n",
              "       'nombre', 'grupo', 'Materia 1', 'Materia 2', 'Materia 3',\n",
              "       'Materia 4', 'Materia 5', 'estado', 'matricula', 'nombre', 'grupo',\n",
              "       'Materia 1', 'Materia 2', 'Materia 3', 'Materia 4', 'Materia 5',\n",
              "       'estado', 'matricula', 'nombre', 'grupo', 'Materia 1', 'Materia 2',\n",
              "       'Materia 3', 'Materia 4', 'Materia 5', 'estado', 'matricula',\n",
              "       'nombre', 'grupo', 'Materia 1', 'Materia 2', 'Materia 3',\n",
              "       'Materia 4', 'Materia 5', 'estado', 'matricula', 'nombre', 'grupo',\n",
              "       'Materia 1', 'Materia 2', 'Materia 3', 'Materia 4', 'Materia 5',\n",
              "       'estado', 'matricula', 'nombre', 'grupo', 'Materia 1', 'Materia 2',\n",
              "       'Materia 3', 'Materia 4', 'Materia 5', 'estado', 'matricula',\n",
              "       'nombre', 'grupo', 'Materia 1', 'Materia 2', 'Materia 3',\n",
              "       'Materia 4', 'Materia 5', 'estado', 'matricula', 'nombre', 'grupo',\n",
              "       'Materia 1', 'Materia 2', 'Materia 3', 'Materia 4', 'Materia 5',\n",
              "       'estado', 'matricula', 'nombre', 'grupo', 'Materia 1', 'Materia 2',\n",
              "       'Materia 3', 'Materia 4', 'Materia 5', 'estado', 'matricula',\n",
              "       'nombre', 'grupo', 'Materia 1', 'Materia 2', 'Materia 3',\n",
              "       'Materia 4', 'Materia 5', 'Materia 4', 'Materia 5', 'estado',\n",
              "       'matricula', 'nombre', 'grupo', 'Materia 1', 'Materia 2',\n",
              "       'Materia 3', 'Materia 4', 'Materia 5', 'estado', 'matricula',\n",
              "       'nombre', 'grupo', 'Materia 1', 'Materia 2', 'Materia 3',\n",
              "       'Materia 4', 'Materia 5', 'estado', 'matricula', 'nombre', 'grupo',\n",
              "       'Materia 1', 'Materia 2', 'Materia 3', 'Materia 4', 'Materia 5',\n",
              "       'estado', 'matricula', 'nombre', 'grupo', 'Materia 1', 'Materia 2',\n",
              "       'Materia 3', 'Materia 4', 'Materia 5', 'estado', 'matricula',\n",
              "       'nombre', 'grupo', 'Materia 1', 'Materia 2', 'Materia 3',\n",
              "       'Materia 4', 'Materia 5', 'estado', 'matricula', 'nombre', 'grupo',\n",
              "       'Materia 1', 'Materia 2', 'Materia 3', 'Materia 4', 'Materia 5',\n",
              "       'estado', 'matricula', 'nombre', 'grupo', 'Materia 1', 'Materia 2',\n",
              "       'Materia 3', 'Materia 4', 'Materia 5', 'estado', 'matricula',\n",
              "       'nombre', 'grupo', 'Materia 1', 'Materia 2', 'Materia 3',\n",
              "       'Materia 4', 'Materia 5', 'estado', 'matricula', 'nombre', 'grupo',\n",
              "       'Materia 1', 'Materia 2', 'Materia 3', 'Materia 4', 'Materia 5',\n",
              "       'estado', 'matricula', 'nombre', 'grupo', 'Materia 1', 'Materia 2',\n",
              "       'Materia 3', 'Materia 4', 'Materia 5', 'estado', 'matricula',\n",
              "       'nombre', 'grupo', 'Materia 1', 'Materia 2', 'Materia 3',\n",
              "       'Materia 4', 'Materia 5', 'estado', 'matricula', 'nombre', 'grupo',\n",
              "       'Materia 1', 'Materia 2', 'Materia 3', 'Materia 4', 'Materia 5',\n",
              "       'estado', 'matricula', 'nombre', 'grupo', 'Materia 1', 'Materia 2',\n",
              "       'Materia 3', 'Materia 4', 'Materia 5', 'estado', 'matricula',\n",
              "       'nombre', 'grupo', 'Materia 1', 'Materia 2', 'Materia 3',\n",
              "       'Materia 4', 'estado', 'matricula', 'nombre', 'grupo', 'Materia 1',\n",
              "       'Materia 2', 'Materia 3', 'Materia 4', 'Materia 5', 'estado',\n",
              "       'matricula', 'nombre', 'grupo', 'Materia 1', 'Materia 2',\n",
              "       'Materia 3', 'Materia 4', 'Materia 5', 'estado', 'matricula',\n",
              "       'nombre', 'grupo', 'Materia 1', 'Materia 2', 'Materia 3',\n",
              "       'Materia 4', 'Materia 5', 'estado', 'matricula', 'nombre', 'grupo',\n",
              "       'Materia 1', 'Materia 2', 'Materia 3', 'Materia 4', 'Materia 5',\n",
              "       'estado', 'matricula', 'nombre', 'grupo', 'Materia 1', 'Materia 2',\n",
              "       'Materia 3', 'Materia 4', 'Materia 5', 'estado', 'matricula',\n",
              "       'nombre', 'grupo', 'Materia 1', 'Materia 2', 'Materia 3',\n",
              "       'Materia 4', 'Materia 5', 'estado', 'matricula', 'nombre', 'grupo',\n",
              "       'Materia 1', 'Materia 2', 'Materia 3', 'Materia 4', 'Materia 5',\n",
              "       'estado', 'matricula', 'nombre', 'grupo', 'Materia 1', 'Materia 2',\n",
              "       'Materia 3', 'Materia 4', 'Materia 5', 'estado', 'matricula',\n",
              "       'nombre', 'grupo', 'Materia 1', 'Materia 2', 'Materia 3',\n",
              "       'Materia 4', 'Materia 5', 'estado', 'matricula', 'nombre', 'grupo',\n",
              "       'Materia 1', 'Materia 2', 'Materia 3', 'Materia 4', 'Materia 5',\n",
              "       'matricula', 'nombre', 'grupo', 'Materia 1', 'Materia 2',\n",
              "       'Materia 3', 'Materia 4', 'Materia 5', 'estado', 'matricula',\n",
              "       'nombre', 'grupo', 'Materia 1', 'Materia 2', 'Materia 3',\n",
              "       'Materia 4', 'Materia 5', 'estado', 'matricula', 'nombre', 'grupo',\n",
              "       'Materia 1', 'Materia 2', 'Materia 3', 'Materia 4', 'Materia 5',\n",
              "       'estado', 'matricula', 'nombre', 'grupo', 'Materia 1', 'Materia 2',\n",
              "       'Materia 3', 'Materia 4', 'Materia 5', 'estado', 'matricula',\n",
              "       'nombre', 'grupo', 'Materia 1', 'Materia 2', 'Materia 3',\n",
              "       'Materia 4', 'Materia 5', 'estado', 'matricula', 'nombre', 'grupo',\n",
              "       'Materia 1', 'Materia 2', 'Materia 3', 'Materia 4', 'Materia 5',\n",
              "       'estado', 'matricula', 'nombre', 'grupo', 'Materia 1', 'Materia 2',\n",
              "       'Materia 3', 'Materia 4', 'Materia 5', 'estado', 'matricula',\n",
              "       'nombre', 'grupo', 'Materia 1', 'Materia 2', 'Materia 3',\n",
              "       'Materia 4', 'Materia 5', 'estado', 'matricula', 'nombre', 'grupo',\n",
              "       'Materia 1', 'Materia 2', 'Materia 3', 'Materia 4', 'Materia 5',\n",
              "       'estado', 'matricula', 'nombre', 'grupo', 'Materia 1', 'Materia 2',\n",
              "       'Materia 3', 'Materia 4', 'Materia 5', 'estado', 'matricula',\n",
              "       'nombre', 'grupo', 'Materia 1', 'Materia 2', 'Materia 3',\n",
              "       'Materia 4', 'Materia 5', 'estado', 'matricula', 'nombre', 'grupo',\n",
              "       'Materia 1', 'Materia 2', 'Materia 3', 'Materia 4', 'Materia 5',\n",
              "       'Materia 6', 'estado'], dtype='<U9')"
            ]
          },
          "metadata": {},
          "execution_count": 12
        }
      ]
    },
    {
      "cell_type": "markdown",
      "source": [
        "#### Elimino las cabeceras repetidas"
      ],
      "metadata": {
        "id": "Nla9h5BbzwxG"
      }
    },
    {
      "cell_type": "code",
      "source": [
        "headers = []\n",
        "for row in cabeceras:\n",
        "  if row not in headers:\n",
        "    headers.append(row)\n",
        "\n",
        "print(headers)"
      ],
      "metadata": {
        "colab": {
          "base_uri": "https://localhost:8080/"
        },
        "id": "jxkUYkLGyqQD",
        "outputId": "66b1e74a-deb1-46f1-b09e-5c91c8182beb"
      },
      "execution_count": null,
      "outputs": [
        {
          "output_type": "stream",
          "name": "stdout",
          "text": [
            "['matricula', 'nombre', 'grupo', 'Materia 1', 'Materia 2', 'Materia 3', 'Materia 4', 'Materia 5', 'estado', 'Materia 6']\n"
          ]
        }
      ]
    },
    {
      "cell_type": "code",
      "source": [
        "headers"
      ],
      "metadata": {
        "colab": {
          "base_uri": "https://localhost:8080/"
        },
        "id": "Jn-z9JOzzAil",
        "outputId": "26ca9777-f30c-40cc-ff33-216c85cbaf2f"
      },
      "execution_count": null,
      "outputs": [
        {
          "output_type": "execute_result",
          "data": {
            "text/plain": [
              "['matricula',\n",
              " 'nombre',\n",
              " 'grupo',\n",
              " 'Materia 1',\n",
              " 'Materia 2',\n",
              " 'Materia 3',\n",
              " 'Materia 4',\n",
              " 'Materia 5',\n",
              " 'estado',\n",
              " 'Materia 6']"
            ]
          },
          "metadata": {},
          "execution_count": 14
        }
      ]
    },
    {
      "cell_type": "code",
      "source": [
        "headers1 =np.array(headers)\n",
        "headers1"
      ],
      "metadata": {
        "colab": {
          "base_uri": "https://localhost:8080/"
        },
        "id": "P93N5HJGzrlI",
        "outputId": "4d1932a7-4bd4-4f36-8206-1561461e57ba"
      },
      "execution_count": null,
      "outputs": [
        {
          "output_type": "execute_result",
          "data": {
            "text/plain": [
              "array(['matricula', 'nombre', 'grupo', 'Materia 1', 'Materia 2',\n",
              "       'Materia 3', 'Materia 4', 'Materia 5', 'estado', 'Materia 6'],\n",
              "      dtype='<U9')"
            ]
          },
          "metadata": {},
          "execution_count": 15
        }
      ]
    },
    {
      "cell_type": "code",
      "source": [
        "headers2 = np.delete(headers1, 9)"
      ],
      "metadata": {
        "id": "9NfmxKZU0En6"
      },
      "execution_count": null,
      "outputs": []
    },
    {
      "cell_type": "code",
      "source": [
        "headers2"
      ],
      "metadata": {
        "colab": {
          "base_uri": "https://localhost:8080/"
        },
        "id": "io8F-sCq1_tz",
        "outputId": "9b869085-9755-4a92-859f-5afdcd650caa"
      },
      "execution_count": null,
      "outputs": [
        {
          "output_type": "execute_result",
          "data": {
            "text/plain": [
              "array(['matricula', 'nombre', 'grupo', 'Materia 1', 'Materia 2',\n",
              "       'Materia 3', 'Materia 4', 'Materia 5', 'estado'], dtype='<U9')"
            ]
          },
          "metadata": {},
          "execution_count": 17
        }
      ]
    },
    {
      "cell_type": "code",
      "source": [
        "np.unique(headers2).size"
      ],
      "metadata": {
        "colab": {
          "base_uri": "https://localhost:8080/"
        },
        "id": "a7T2Xiqh18BY",
        "outputId": "fbfbc8da-67c7-45fe-b3b3-4ee817151642"
      },
      "execution_count": null,
      "outputs": [
        {
          "output_type": "execute_result",
          "data": {
            "text/plain": [
              "9"
            ]
          },
          "metadata": {},
          "execution_count": 18
        }
      ]
    },
    {
      "cell_type": "markdown",
      "source": [
        "#### Calculamos el numero de registros"
      ],
      "metadata": {
        "id": "W9j5FNyf1sdR"
      }
    },
    {
      "cell_type": "code",
      "source": [
        "no_cabeceras = headers2.size\n",
        "no_cabeceras"
      ],
      "metadata": {
        "colab": {
          "base_uri": "https://localhost:8080/"
        },
        "id": "vGRP0elk1PFQ",
        "outputId": "eb6a7dbf-678d-4034-d044-1cddeaafdfe1"
      },
      "execution_count": null,
      "outputs": [
        {
          "output_type": "execute_result",
          "data": {
            "text/plain": [
              "9"
            ]
          },
          "metadata": {},
          "execution_count": 19
        }
      ]
    },
    {
      "cell_type": "code",
      "source": [
        "no_registros = data.T[0].size\n",
        "no_registros"
      ],
      "metadata": {
        "colab": {
          "base_uri": "https://localhost:8080/"
        },
        "id": "6EHHNZrF3kEM",
        "outputId": "b1a1fef8-6815-424a-a828-46c40c0ffa85"
      },
      "execution_count": null,
      "outputs": [
        {
          "output_type": "execute_result",
          "data": {
            "text/plain": [
              "434"
            ]
          },
          "metadata": {},
          "execution_count": 20
        }
      ]
    },
    {
      "cell_type": "code",
      "source": [
        "#Permite calcular el numero de registros del archivo \n",
        "filas = no_registros / no_cabeceras\n",
        "filas"
      ],
      "metadata": {
        "colab": {
          "base_uri": "https://localhost:8080/"
        },
        "id": "fl0eFaMN3uLq",
        "outputId": "c77b614d-9574-44d9-e5ae-23eaa2b18648"
      },
      "execution_count": null,
      "outputs": [
        {
          "output_type": "execute_result",
          "data": {
            "text/plain": [
              "48.22222222222222"
            ]
          },
          "metadata": {},
          "execution_count": 21
        }
      ]
    },
    {
      "cell_type": "markdown",
      "source": [
        "#### Eliminar cabeceras del array"
      ],
      "metadata": {
        "id": "uXyy5Dc95Mb0"
      }
    },
    {
      "cell_type": "code",
      "source": [
        "data_sin_cabeceras = np.delete(data,0,1)\n",
        "data_sin_cabeceras"
      ],
      "metadata": {
        "id": "rjRfDS-Y5Ovd"
      },
      "execution_count": null,
      "outputs": []
    },
    {
      "cell_type": "code",
      "source": [
        "data_sin_cabeceras"
      ],
      "metadata": {
        "id": "fUpBhdew8Moo"
      },
      "execution_count": null,
      "outputs": []
    },
    {
      "cell_type": "code",
      "source": [
        "data"
      ],
      "metadata": {
        "id": "GQu-WjWp8TIQ"
      },
      "execution_count": null,
      "outputs": []
    },
    {
      "cell_type": "code",
      "source": [
        "datos = pd.read_csv('calificaciones_v2.csv', header=None)\n",
        "datos"
      ],
      "metadata": {
        "colab": {
          "base_uri": "https://localhost:8080/",
          "height": 424
        },
        "id": "YSlst7cOznMu",
        "outputId": "618282a0-4f0e-45be-bca5-dbc48198906c"
      },
      "execution_count": 38,
      "outputs": [
        {
          "output_type": "execute_result",
          "data": {
            "text/plain": [
              "             0         1\n",
              "0    matricula  11111111\n",
              "1       nombre  Alumno 1\n",
              "2        grupo      TI11\n",
              "3    Materia 1         1\n",
              "4    Materia 2         8\n",
              "..         ...       ...\n",
              "429  Materia 3        10\n",
              "430  Materia 4         6\n",
              "431  Materia 5         8\n",
              "432  Materia 6        10\n",
              "433     estado   regular\n",
              "\n",
              "[434 rows x 2 columns]"
            ],
            "text/html": [
              "\n",
              "  <div id=\"df-70d3b4fa-9afd-4c2e-b7c6-4c17b5956b8f\">\n",
              "    <div class=\"colab-df-container\">\n",
              "      <div>\n",
              "<style scoped>\n",
              "    .dataframe tbody tr th:only-of-type {\n",
              "        vertical-align: middle;\n",
              "    }\n",
              "\n",
              "    .dataframe tbody tr th {\n",
              "        vertical-align: top;\n",
              "    }\n",
              "\n",
              "    .dataframe thead th {\n",
              "        text-align: right;\n",
              "    }\n",
              "</style>\n",
              "<table border=\"1\" class=\"dataframe\">\n",
              "  <thead>\n",
              "    <tr style=\"text-align: right;\">\n",
              "      <th></th>\n",
              "      <th>0</th>\n",
              "      <th>1</th>\n",
              "    </tr>\n",
              "  </thead>\n",
              "  <tbody>\n",
              "    <tr>\n",
              "      <th>0</th>\n",
              "      <td>matricula</td>\n",
              "      <td>11111111</td>\n",
              "    </tr>\n",
              "    <tr>\n",
              "      <th>1</th>\n",
              "      <td>nombre</td>\n",
              "      <td>Alumno 1</td>\n",
              "    </tr>\n",
              "    <tr>\n",
              "      <th>2</th>\n",
              "      <td>grupo</td>\n",
              "      <td>TI11</td>\n",
              "    </tr>\n",
              "    <tr>\n",
              "      <th>3</th>\n",
              "      <td>Materia 1</td>\n",
              "      <td>1</td>\n",
              "    </tr>\n",
              "    <tr>\n",
              "      <th>4</th>\n",
              "      <td>Materia 2</td>\n",
              "      <td>8</td>\n",
              "    </tr>\n",
              "    <tr>\n",
              "      <th>...</th>\n",
              "      <td>...</td>\n",
              "      <td>...</td>\n",
              "    </tr>\n",
              "    <tr>\n",
              "      <th>429</th>\n",
              "      <td>Materia 3</td>\n",
              "      <td>10</td>\n",
              "    </tr>\n",
              "    <tr>\n",
              "      <th>430</th>\n",
              "      <td>Materia 4</td>\n",
              "      <td>6</td>\n",
              "    </tr>\n",
              "    <tr>\n",
              "      <th>431</th>\n",
              "      <td>Materia 5</td>\n",
              "      <td>8</td>\n",
              "    </tr>\n",
              "    <tr>\n",
              "      <th>432</th>\n",
              "      <td>Materia 6</td>\n",
              "      <td>10</td>\n",
              "    </tr>\n",
              "    <tr>\n",
              "      <th>433</th>\n",
              "      <td>estado</td>\n",
              "      <td>regular</td>\n",
              "    </tr>\n",
              "  </tbody>\n",
              "</table>\n",
              "<p>434 rows × 2 columns</p>\n",
              "</div>\n",
              "      <button class=\"colab-df-convert\" onclick=\"convertToInteractive('df-70d3b4fa-9afd-4c2e-b7c6-4c17b5956b8f')\"\n",
              "              title=\"Convert this dataframe to an interactive table.\"\n",
              "              style=\"display:none;\">\n",
              "        \n",
              "  <svg xmlns=\"http://www.w3.org/2000/svg\" height=\"24px\"viewBox=\"0 0 24 24\"\n",
              "       width=\"24px\">\n",
              "    <path d=\"M0 0h24v24H0V0z\" fill=\"none\"/>\n",
              "    <path d=\"M18.56 5.44l.94 2.06.94-2.06 2.06-.94-2.06-.94-.94-2.06-.94 2.06-2.06.94zm-11 1L8.5 8.5l.94-2.06 2.06-.94-2.06-.94L8.5 2.5l-.94 2.06-2.06.94zm10 10l.94 2.06.94-2.06 2.06-.94-2.06-.94-.94-2.06-.94 2.06-2.06.94z\"/><path d=\"M17.41 7.96l-1.37-1.37c-.4-.4-.92-.59-1.43-.59-.52 0-1.04.2-1.43.59L10.3 9.45l-7.72 7.72c-.78.78-.78 2.05 0 2.83L4 21.41c.39.39.9.59 1.41.59.51 0 1.02-.2 1.41-.59l7.78-7.78 2.81-2.81c.8-.78.8-2.07 0-2.86zM5.41 20L4 18.59l7.72-7.72 1.47 1.35L5.41 20z\"/>\n",
              "  </svg>\n",
              "      </button>\n",
              "      \n",
              "  <style>\n",
              "    .colab-df-container {\n",
              "      display:flex;\n",
              "      flex-wrap:wrap;\n",
              "      gap: 12px;\n",
              "    }\n",
              "\n",
              "    .colab-df-convert {\n",
              "      background-color: #E8F0FE;\n",
              "      border: none;\n",
              "      border-radius: 50%;\n",
              "      cursor: pointer;\n",
              "      display: none;\n",
              "      fill: #1967D2;\n",
              "      height: 32px;\n",
              "      padding: 0 0 0 0;\n",
              "      width: 32px;\n",
              "    }\n",
              "\n",
              "    .colab-df-convert:hover {\n",
              "      background-color: #E2EBFA;\n",
              "      box-shadow: 0px 1px 2px rgba(60, 64, 67, 0.3), 0px 1px 3px 1px rgba(60, 64, 67, 0.15);\n",
              "      fill: #174EA6;\n",
              "    }\n",
              "\n",
              "    [theme=dark] .colab-df-convert {\n",
              "      background-color: #3B4455;\n",
              "      fill: #D2E3FC;\n",
              "    }\n",
              "\n",
              "    [theme=dark] .colab-df-convert:hover {\n",
              "      background-color: #434B5C;\n",
              "      box-shadow: 0px 1px 3px 1px rgba(0, 0, 0, 0.15);\n",
              "      filter: drop-shadow(0px 1px 2px rgba(0, 0, 0, 0.3));\n",
              "      fill: #FFFFFF;\n",
              "    }\n",
              "  </style>\n",
              "\n",
              "      <script>\n",
              "        const buttonEl =\n",
              "          document.querySelector('#df-70d3b4fa-9afd-4c2e-b7c6-4c17b5956b8f button.colab-df-convert');\n",
              "        buttonEl.style.display =\n",
              "          google.colab.kernel.accessAllowed ? 'block' : 'none';\n",
              "\n",
              "        async function convertToInteractive(key) {\n",
              "          const element = document.querySelector('#df-70d3b4fa-9afd-4c2e-b7c6-4c17b5956b8f');\n",
              "          const dataTable =\n",
              "            await google.colab.kernel.invokeFunction('convertToInteractive',\n",
              "                                                     [key], {});\n",
              "          if (!dataTable) return;\n",
              "\n",
              "          const docLinkHtml = 'Like what you see? Visit the ' +\n",
              "            '<a target=\"_blank\" href=https://colab.research.google.com/notebooks/data_table.ipynb>data table notebook</a>'\n",
              "            + ' to learn more about interactive tables.';\n",
              "          element.innerHTML = '';\n",
              "          dataTable['output_type'] = 'display_data';\n",
              "          await google.colab.output.renderOutput(dataTable, element);\n",
              "          const docLink = document.createElement('div');\n",
              "          docLink.innerHTML = docLinkHtml;\n",
              "          element.appendChild(docLink);\n",
              "        }\n",
              "      </script>\n",
              "    </div>\n",
              "  </div>\n",
              "  "
            ]
          },
          "metadata": {},
          "execution_count": 38
        }
      ]
    },
    {
      "cell_type": "code",
      "source": [
        "dupl= df.drop_duplicates(keep = 'first')\n",
        "dupl.head(30)"
      ],
      "metadata": {
        "colab": {
          "base_uri": "https://localhost:8080/",
          "height": 655
        },
        "id": "6ID7w-q40_PI",
        "outputId": "de6e3041-d366-48ed-d35a-351cf32b71dc"
      },
      "execution_count": 54,
      "outputs": [
        {
          "output_type": "execute_result",
          "data": {
            "text/plain": [
              "            0         1\n",
              "0   matricula  11111111\n",
              "1      nombre  Alumno 1\n",
              "2       grupo      TI11\n",
              "3   Materia 1         1\n",
              "4   Materia 2         8\n",
              "5   Materia 3         1\n",
              "6   Materia 4         7\n",
              "7   Materia 5         2\n",
              "9      estado   regular\n",
              "10  matricula  11111112\n",
              "11     nombre  Alumno 2\n",
              "13  Materia 1        10\n",
              "14  Materia 2         7\n",
              "16  Materia 4         8\n",
              "17  Materia 5         5\n",
              "19  matricula  11111113\n",
              "20     nombre  Alumno 3\n",
              "22  Materia 1          \n",
              "23  Materia 2         1\n",
              "25  Materia 4         3\n",
              "26  Materia 5         0\n",
              "28  matricula  11111114\n",
              "29     nombre  Alumno 4\n",
              "32  Materia 2         4\n",
              "33  Materia 3         3\n",
              "34  Materia 4         2\n",
              "35  Materia 5         7\n",
              "37  matricula  11111115\n",
              "38     nombre  Alumno 5\n",
              "40  Materia 1         9"
            ],
            "text/html": [
              "\n",
              "  <div id=\"df-7066b61c-1506-4b9d-aae2-ad66c8a1ef28\">\n",
              "    <div class=\"colab-df-container\">\n",
              "      <div>\n",
              "<style scoped>\n",
              "    .dataframe tbody tr th:only-of-type {\n",
              "        vertical-align: middle;\n",
              "    }\n",
              "\n",
              "    .dataframe tbody tr th {\n",
              "        vertical-align: top;\n",
              "    }\n",
              "\n",
              "    .dataframe thead th {\n",
              "        text-align: right;\n",
              "    }\n",
              "</style>\n",
              "<table border=\"1\" class=\"dataframe\">\n",
              "  <thead>\n",
              "    <tr style=\"text-align: right;\">\n",
              "      <th></th>\n",
              "      <th>0</th>\n",
              "      <th>1</th>\n",
              "    </tr>\n",
              "  </thead>\n",
              "  <tbody>\n",
              "    <tr>\n",
              "      <th>0</th>\n",
              "      <td>matricula</td>\n",
              "      <td>11111111</td>\n",
              "    </tr>\n",
              "    <tr>\n",
              "      <th>1</th>\n",
              "      <td>nombre</td>\n",
              "      <td>Alumno 1</td>\n",
              "    </tr>\n",
              "    <tr>\n",
              "      <th>2</th>\n",
              "      <td>grupo</td>\n",
              "      <td>TI11</td>\n",
              "    </tr>\n",
              "    <tr>\n",
              "      <th>3</th>\n",
              "      <td>Materia 1</td>\n",
              "      <td>1</td>\n",
              "    </tr>\n",
              "    <tr>\n",
              "      <th>4</th>\n",
              "      <td>Materia 2</td>\n",
              "      <td>8</td>\n",
              "    </tr>\n",
              "    <tr>\n",
              "      <th>5</th>\n",
              "      <td>Materia 3</td>\n",
              "      <td>1</td>\n",
              "    </tr>\n",
              "    <tr>\n",
              "      <th>6</th>\n",
              "      <td>Materia 4</td>\n",
              "      <td>7</td>\n",
              "    </tr>\n",
              "    <tr>\n",
              "      <th>7</th>\n",
              "      <td>Materia 5</td>\n",
              "      <td>2</td>\n",
              "    </tr>\n",
              "    <tr>\n",
              "      <th>9</th>\n",
              "      <td>estado</td>\n",
              "      <td>regular</td>\n",
              "    </tr>\n",
              "    <tr>\n",
              "      <th>10</th>\n",
              "      <td>matricula</td>\n",
              "      <td>11111112</td>\n",
              "    </tr>\n",
              "    <tr>\n",
              "      <th>11</th>\n",
              "      <td>nombre</td>\n",
              "      <td>Alumno 2</td>\n",
              "    </tr>\n",
              "    <tr>\n",
              "      <th>13</th>\n",
              "      <td>Materia 1</td>\n",
              "      <td>10</td>\n",
              "    </tr>\n",
              "    <tr>\n",
              "      <th>14</th>\n",
              "      <td>Materia 2</td>\n",
              "      <td>7</td>\n",
              "    </tr>\n",
              "    <tr>\n",
              "      <th>16</th>\n",
              "      <td>Materia 4</td>\n",
              "      <td>8</td>\n",
              "    </tr>\n",
              "    <tr>\n",
              "      <th>17</th>\n",
              "      <td>Materia 5</td>\n",
              "      <td>5</td>\n",
              "    </tr>\n",
              "    <tr>\n",
              "      <th>19</th>\n",
              "      <td>matricula</td>\n",
              "      <td>11111113</td>\n",
              "    </tr>\n",
              "    <tr>\n",
              "      <th>20</th>\n",
              "      <td>nombre</td>\n",
              "      <td>Alumno 3</td>\n",
              "    </tr>\n",
              "    <tr>\n",
              "      <th>22</th>\n",
              "      <td>Materia 1</td>\n",
              "      <td></td>\n",
              "    </tr>\n",
              "    <tr>\n",
              "      <th>23</th>\n",
              "      <td>Materia 2</td>\n",
              "      <td>1</td>\n",
              "    </tr>\n",
              "    <tr>\n",
              "      <th>25</th>\n",
              "      <td>Materia 4</td>\n",
              "      <td>3</td>\n",
              "    </tr>\n",
              "    <tr>\n",
              "      <th>26</th>\n",
              "      <td>Materia 5</td>\n",
              "      <td>0</td>\n",
              "    </tr>\n",
              "    <tr>\n",
              "      <th>28</th>\n",
              "      <td>matricula</td>\n",
              "      <td>11111114</td>\n",
              "    </tr>\n",
              "    <tr>\n",
              "      <th>29</th>\n",
              "      <td>nombre</td>\n",
              "      <td>Alumno 4</td>\n",
              "    </tr>\n",
              "    <tr>\n",
              "      <th>32</th>\n",
              "      <td>Materia 2</td>\n",
              "      <td>4</td>\n",
              "    </tr>\n",
              "    <tr>\n",
              "      <th>33</th>\n",
              "      <td>Materia 3</td>\n",
              "      <td>3</td>\n",
              "    </tr>\n",
              "    <tr>\n",
              "      <th>34</th>\n",
              "      <td>Materia 4</td>\n",
              "      <td>2</td>\n",
              "    </tr>\n",
              "    <tr>\n",
              "      <th>35</th>\n",
              "      <td>Materia 5</td>\n",
              "      <td>7</td>\n",
              "    </tr>\n",
              "    <tr>\n",
              "      <th>37</th>\n",
              "      <td>matricula</td>\n",
              "      <td>11111115</td>\n",
              "    </tr>\n",
              "    <tr>\n",
              "      <th>38</th>\n",
              "      <td>nombre</td>\n",
              "      <td>Alumno 5</td>\n",
              "    </tr>\n",
              "    <tr>\n",
              "      <th>40</th>\n",
              "      <td>Materia 1</td>\n",
              "      <td>9</td>\n",
              "    </tr>\n",
              "  </tbody>\n",
              "</table>\n",
              "</div>\n",
              "      <button class=\"colab-df-convert\" onclick=\"convertToInteractive('df-7066b61c-1506-4b9d-aae2-ad66c8a1ef28')\"\n",
              "              title=\"Convert this dataframe to an interactive table.\"\n",
              "              style=\"display:none;\">\n",
              "        \n",
              "  <svg xmlns=\"http://www.w3.org/2000/svg\" height=\"24px\"viewBox=\"0 0 24 24\"\n",
              "       width=\"24px\">\n",
              "    <path d=\"M0 0h24v24H0V0z\" fill=\"none\"/>\n",
              "    <path d=\"M18.56 5.44l.94 2.06.94-2.06 2.06-.94-2.06-.94-.94-2.06-.94 2.06-2.06.94zm-11 1L8.5 8.5l.94-2.06 2.06-.94-2.06-.94L8.5 2.5l-.94 2.06-2.06.94zm10 10l.94 2.06.94-2.06 2.06-.94-2.06-.94-.94-2.06-.94 2.06-2.06.94z\"/><path d=\"M17.41 7.96l-1.37-1.37c-.4-.4-.92-.59-1.43-.59-.52 0-1.04.2-1.43.59L10.3 9.45l-7.72 7.72c-.78.78-.78 2.05 0 2.83L4 21.41c.39.39.9.59 1.41.59.51 0 1.02-.2 1.41-.59l7.78-7.78 2.81-2.81c.8-.78.8-2.07 0-2.86zM5.41 20L4 18.59l7.72-7.72 1.47 1.35L5.41 20z\"/>\n",
              "  </svg>\n",
              "      </button>\n",
              "      \n",
              "  <style>\n",
              "    .colab-df-container {\n",
              "      display:flex;\n",
              "      flex-wrap:wrap;\n",
              "      gap: 12px;\n",
              "    }\n",
              "\n",
              "    .colab-df-convert {\n",
              "      background-color: #E8F0FE;\n",
              "      border: none;\n",
              "      border-radius: 50%;\n",
              "      cursor: pointer;\n",
              "      display: none;\n",
              "      fill: #1967D2;\n",
              "      height: 32px;\n",
              "      padding: 0 0 0 0;\n",
              "      width: 32px;\n",
              "    }\n",
              "\n",
              "    .colab-df-convert:hover {\n",
              "      background-color: #E2EBFA;\n",
              "      box-shadow: 0px 1px 2px rgba(60, 64, 67, 0.3), 0px 1px 3px 1px rgba(60, 64, 67, 0.15);\n",
              "      fill: #174EA6;\n",
              "    }\n",
              "\n",
              "    [theme=dark] .colab-df-convert {\n",
              "      background-color: #3B4455;\n",
              "      fill: #D2E3FC;\n",
              "    }\n",
              "\n",
              "    [theme=dark] .colab-df-convert:hover {\n",
              "      background-color: #434B5C;\n",
              "      box-shadow: 0px 1px 3px 1px rgba(0, 0, 0, 0.15);\n",
              "      filter: drop-shadow(0px 1px 2px rgba(0, 0, 0, 0.3));\n",
              "      fill: #FFFFFF;\n",
              "    }\n",
              "  </style>\n",
              "\n",
              "      <script>\n",
              "        const buttonEl =\n",
              "          document.querySelector('#df-7066b61c-1506-4b9d-aae2-ad66c8a1ef28 button.colab-df-convert');\n",
              "        buttonEl.style.display =\n",
              "          google.colab.kernel.accessAllowed ? 'block' : 'none';\n",
              "\n",
              "        async function convertToInteractive(key) {\n",
              "          const element = document.querySelector('#df-7066b61c-1506-4b9d-aae2-ad66c8a1ef28');\n",
              "          const dataTable =\n",
              "            await google.colab.kernel.invokeFunction('convertToInteractive',\n",
              "                                                     [key], {});\n",
              "          if (!dataTable) return;\n",
              "\n",
              "          const docLinkHtml = 'Like what you see? Visit the ' +\n",
              "            '<a target=\"_blank\" href=https://colab.research.google.com/notebooks/data_table.ipynb>data table notebook</a>'\n",
              "            + ' to learn more about interactive tables.';\n",
              "          element.innerHTML = '';\n",
              "          dataTable['output_type'] = 'display_data';\n",
              "          await google.colab.output.renderOutput(dataTable, element);\n",
              "          const docLink = document.createElement('div');\n",
              "          docLink.innerHTML = docLinkHtml;\n",
              "          element.appendChild(docLink);\n",
              "        }\n",
              "      </script>\n",
              "    </div>\n",
              "  </div>\n",
              "  "
            ]
          },
          "metadata": {},
          "execution_count": 54
        }
      ]
    },
    {
      "cell_type": "code",
      "source": [],
      "metadata": {
        "id": "1C59yOAD2EL4"
      },
      "execution_count": null,
      "outputs": []
    }
  ]
}