{
  "nbformat": 4,
  "nbformat_minor": 0,
  "metadata": {
    "colab": {
      "provenance": [],
      "authorship_tag": "ABX9TyPsQ8a6F5KsF6F5EA1DDIlL",
      "include_colab_link": true
    },
    "kernelspec": {
      "name": "python3",
      "display_name": "Python 3"
    },
    "language_info": {
      "name": "python"
    }
  },
  "cells": [
    {
      "cell_type": "markdown",
      "metadata": {
        "id": "view-in-github",
        "colab_type": "text"
      },
      "source": [
        "<a href=\"https://colab.research.google.com/github/Ignacio246/colab/blob/main/Actividad_1_5.ipynb\" target=\"_parent\"><img src=\"https://colab.research.google.com/assets/colab-badge.svg\" alt=\"Open In Colab\"/></a>"
      ]
    },
    {
      "cell_type": "code",
      "execution_count": 25,
      "metadata": {
        "id": "Vg-_ch4PZR9h"
      },
      "outputs": [],
      "source": [
        "import pandas as pd \n",
        "import numpy as np"
      ]
    },
    {
      "cell_type": "code",
      "source": [
        "## Abrir el archivo en modo lectura\n",
        "f =  open(\"datos.txt\",\"r\")\n",
        "print(f.readline())\n",
        "print(f.readline())\n",
        "print(f.readline())\n",
        "print(f.readline())"
      ],
      "metadata": {
        "colab": {
          "base_uri": "https://localhost:8080/"
        },
        "id": "XxV8EzGwahIJ",
        "outputId": "6776d28a-196f-44b1-e5a6-f6798cd7557f"
      },
      "execution_count": 52,
      "outputs": [
        {
          "output_type": "stream",
          "name": "stdout",
          "text": [
            "01/01/2022,10,10,10\n",
            "\n",
            "02/01/2022,20,20\n",
            "\n",
            "03/01/2022,30,30,30,30\n",
            "\n",
            "01/01/2022,40,40,40\n"
          ]
        }
      ]
    },
    {
      "cell_type": "code",
      "source": [
        "## Numero de Filas\n",
        "rowcount  = 0\n",
        "for row in open(\"datos.txt\"): \n",
        "  rowcount+= 1\n",
        " \n",
        "print(\"Numero de filas:\", rowcount)\n"
      ],
      "metadata": {
        "colab": {
          "base_uri": "https://localhost:8080/"
        },
        "id": "r3AhbhuVa_ys",
        "outputId": "9c61369d-f4ca-43f5-8e4a-03d13b256180"
      },
      "execution_count": 54,
      "outputs": [
        {
          "output_type": "stream",
          "name": "stdout",
          "text": [
            "Numero de filas: 4\n"
          ]
        }
      ]
    },
    {
      "cell_type": "code",
      "source": [
        "## Contar el numero de valores por fila.\n",
        "\n",
        "f = [10,10,10],[20,20],[30,30,30,30],[40,40,40]\n",
        "\n",
        "df = pd.DataFrame(f)\n",
        "\n",
        "df.count(axis=1)"
      ],
      "metadata": {
        "colab": {
          "base_uri": "https://localhost:8080/"
        },
        "id": "nqwAafrTc9G8",
        "outputId": "32b380b5-57f7-4ff4-c49f-919e972b7a77"
      },
      "execution_count": 88,
      "outputs": [
        {
          "output_type": "execute_result",
          "data": {
            "text/plain": [
              "0    3\n",
              "1    2\n",
              "2    4\n",
              "3    3\n",
              "dtype: int64"
            ]
          },
          "metadata": {},
          "execution_count": 88
        }
      ]
    },
    {
      "cell_type": "code",
      "source": [
        "##Imprimir el valor máximo por fila.\n",
        "f = [10,10,10],[20,20],[30,30,30,30],[40,40,40]\n",
        "\n",
        "df = pd.DataFrame(data=f)\n",
        "df\n",
        "\n",
        "df.max(axis=1)"
      ],
      "metadata": {
        "colab": {
          "base_uri": "https://localhost:8080/"
        },
        "id": "CUVqCCESgfjS",
        "outputId": "a927efb7-0ef1-4bd7-e52d-d71061e4db3b"
      },
      "execution_count": 62,
      "outputs": [
        {
          "output_type": "execute_result",
          "data": {
            "text/plain": [
              "0    10.0\n",
              "1    20.0\n",
              "2    30.0\n",
              "3    40.0\n",
              "dtype: float64"
            ]
          },
          "metadata": {},
          "execution_count": 62
        }
      ]
    },
    {
      "cell_type": "code",
      "source": [
        "##Imprimir el valor minimo por fila.\n",
        "f = [10,10,10],[20,20],[30,30,30,30],[40,40,40]\n",
        "\n",
        "df = pd.DataFrame(data=f)\n",
        "df\n",
        "\n",
        "df.min(axis=1)"
      ],
      "metadata": {
        "colab": {
          "base_uri": "https://localhost:8080/"
        },
        "id": "pEPwrv55rUDU",
        "outputId": "ca81a067-2d1b-4fa8-c1a6-7fbb0383be9f"
      },
      "execution_count": 63,
      "outputs": [
        {
          "output_type": "execute_result",
          "data": {
            "text/plain": [
              "0    10.0\n",
              "1    20.0\n",
              "2    30.0\n",
              "3    40.0\n",
              "dtype: float64"
            ]
          },
          "metadata": {},
          "execution_count": 63
        }
      ]
    },
    {
      "cell_type": "code",
      "source": [
        "## Imprimir el total por fila.\n",
        "\n",
        "f = [10,10,10],[20,20],[30,30,30,30],[40,40,40]\n",
        "\n",
        "filas = len(f)\n",
        "\n",
        "for i in range(filas):\n",
        "  suma=sum(f[i])\n",
        "  f[i].append(suma)\n",
        "\n",
        "print(f)"
      ],
      "metadata": {
        "colab": {
          "base_uri": "https://localhost:8080/"
        },
        "id": "gvcy8-lCr1JD",
        "outputId": "4367c4ab-0f44-42ac-d9c3-325a6fbaa5d2"
      },
      "execution_count": 66,
      "outputs": [
        {
          "output_type": "stream",
          "name": "stdout",
          "text": [
            "([10, 10, 10, 30], [20, 20, 40], [30, 30, 30, 30, 120], [40, 40, 40, 120])\n"
          ]
        }
      ]
    },
    {
      "cell_type": "code",
      "source": [
        "##Imprimir el promedio por fila\n",
        "\n",
        "f = [10,10,10],[20,20],[30,30,30,30],[40,40,40]\n",
        "\n",
        "df.mean(axis=1)"
      ],
      "metadata": {
        "colab": {
          "base_uri": "https://localhost:8080/"
        },
        "id": "osDpwQflsuio",
        "outputId": "846a8d35-cd2b-4d3d-84ae-80f47ce2a449"
      },
      "execution_count": 67,
      "outputs": [
        {
          "output_type": "execute_result",
          "data": {
            "text/plain": [
              "0    10.0\n",
              "1    20.0\n",
              "2    30.0\n",
              "3    40.0\n",
              "dtype: float64"
            ]
          },
          "metadata": {},
          "execution_count": 67
        }
      ]
    }
  ]
}