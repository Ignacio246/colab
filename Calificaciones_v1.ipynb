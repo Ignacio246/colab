{
  "nbformat": 4,
  "nbformat_minor": 0,
  "metadata": {
    "colab": {
      "provenance": [],
      "authorship_tag": "ABX9TyMMvqDSl2IQli9S9Jox+JNs",
      "include_colab_link": true
    },
    "kernelspec": {
      "name": "python3",
      "display_name": "Python 3"
    },
    "language_info": {
      "name": "python"
    }
  },
  "cells": [
    {
      "cell_type": "markdown",
      "metadata": {
        "id": "view-in-github",
        "colab_type": "text"
      },
      "source": [
        "<a href=\"https://colab.research.google.com/github/Ignacio246/colab/blob/main/Calificaciones_v1.ipynb\" target=\"_parent\"><img src=\"https://colab.research.google.com/assets/colab-badge.svg\" alt=\"Open In Colab\"/></a>"
      ]
    },
    {
      "cell_type": "markdown",
      "source": [
        "###Ignacio Candia Ibarra   IDGS91   13/10/2022\n",
        "En la universidad \"ACME\" se desea calcular el promedio de cada uno de los alumnos, y el área de control escolar genero el archivo calificaciones_v1.csv para calcular el promedio por alumno, y tener un archivo con formato similar al archivo calificaciones_promedio_v1.csv."
      ],
      "metadata": {
        "id": "q3qCvOs_2HGb"
      }
    },
    {
      "cell_type": "markdown",
      "source": [
        "#### Importar la librerias que se ocuparan"
      ],
      "metadata": {
        "id": "aQE70N8G2ZKC"
      }
    },
    {
      "cell_type": "code",
      "execution_count": 1,
      "metadata": {
        "id": "TyqD4SQMtDnX"
      },
      "outputs": [],
      "source": [
        "import numpy as np\n",
        "import csv"
      ]
    },
    {
      "cell_type": "markdown",
      "source": [
        "#### Extraemos el archivo csv y lo separamos con comas para que solo nos nos muestre los valores de la columna 0\n"
      ],
      "metadata": {
        "id": "KlLm8lkj2d26"
      }
    },
    {
      "cell_type": "code",
      "source": [
        "array = np.loadtxt(\"calificaciones_v1.csv\", dtype=str, delimiter=\",\", usecols=0)\n",
        "array"
      ],
      "metadata": {
        "colab": {
          "base_uri": "https://localhost:8080/"
        },
        "id": "voLr8SC6tHjo",
        "outputId": "41f25d6b-6163-4702-dc72-4b7631db630d"
      },
      "execution_count": 25,
      "outputs": [
        {
          "output_type": "execute_result",
          "data": {
            "text/plain": [
              "array(['matricula', 'nombre', 'grupo', 'Materia 1', 'Materia 2',\n",
              "       'Materia 3', 'Materia 4', 'Materia 5', 'estado', 'matricula',\n",
              "       'nombre', 'grupo', 'Materia 1', 'Materia 2', 'Materia 3',\n",
              "       'Materia 4', 'Materia 5', 'estado', 'matricula', 'nombre', 'grupo',\n",
              "       'Materia 1', 'Materia 2', 'Materia 3', 'Materia 4', 'Materia 5',\n",
              "       'estado', 'matricula', 'nombre', 'grupo', 'Materia 1', 'Materia 2',\n",
              "       'Materia 3', 'Materia 4', 'Materia 5', 'estado', 'matricula',\n",
              "       'nombre', 'grupo', 'Materia 1', 'Materia 2', 'Materia 3',\n",
              "       'Materia 4', 'Materia 5', 'estado', 'matricula', 'nombre', 'grupo',\n",
              "       'Materia 1', 'Materia 2', 'Materia 3', 'Materia 4', 'Materia 5',\n",
              "       'estado', 'matricula', 'nombre', 'grupo', 'Materia 1', 'Materia 2',\n",
              "       'Materia 3', 'Materia 4', 'Materia 5', 'estado', 'matricula',\n",
              "       'nombre', 'grupo', 'Materia 1', 'Materia 2', 'Materia 3',\n",
              "       'Materia 4', 'Materia 5', 'estado', 'matricula', 'nombre', 'grupo',\n",
              "       'Materia 1', 'Materia 2', 'Materia 3', 'Materia 4', 'Materia 5',\n",
              "       'estado', 'matricula', 'nombre', 'grupo', 'Materia 1', 'Materia 2',\n",
              "       'Materia 3', 'Materia 4', 'Materia 5', 'estado', 'matricula',\n",
              "       'nombre', 'grupo', 'Materia 1', 'Materia 2', 'Materia 3',\n",
              "       'Materia 4', 'Materia 5', 'estado', 'matricula', 'nombre', 'grupo',\n",
              "       'Materia 1', 'Materia 2', 'Materia 3', 'Materia 4', 'Materia 5',\n",
              "       'estado', 'matricula', 'nombre', 'grupo', 'Materia 1', 'Materia 2',\n",
              "       'Materia 3', 'Materia 4', 'Materia 5', 'estado', 'matricula',\n",
              "       'nombre', 'grupo', 'Materia 1', 'Materia 2', 'Materia 3',\n",
              "       'Materia 4', 'Materia 5', 'estado', 'matricula', 'nombre', 'grupo',\n",
              "       'Materia 1', 'Materia 2', 'Materia 3', 'Materia 4', 'Materia 5',\n",
              "       'estado', 'matricula', 'nombre', 'grupo', 'Materia 1', 'Materia 2',\n",
              "       'Materia 3', 'Materia 4', 'Materia 5', 'estado', 'matricula',\n",
              "       'nombre', 'grupo', 'Materia 1', 'Materia 2', 'Materia 3',\n",
              "       'Materia 4', 'Materia 5', 'estado', 'matricula', 'nombre', 'grupo',\n",
              "       'Materia 1', 'Materia 2', 'Materia 3', 'Materia 4', 'Materia 5',\n",
              "       'estado', 'matricula', 'nombre', 'grupo', 'Materia 1', 'Materia 2',\n",
              "       'Materia 3', 'Materia 4', 'Materia 5', 'estado', 'matricula',\n",
              "       'nombre', 'grupo', 'Materia 1', 'Materia 2', 'Materia 3',\n",
              "       'Materia 4', 'Materia 5', 'estado', 'matricula', 'nombre', 'grupo',\n",
              "       'Materia 1', 'Materia 2', 'Materia 3', 'Materia 4', 'Materia 5',\n",
              "       'estado', 'matricula', 'nombre', 'grupo', 'Materia 1', 'Materia 2',\n",
              "       'Materia 3', 'Materia 4', 'Materia 5', 'estado', 'matricula',\n",
              "       'nombre', 'grupo', 'Materia 1', 'Materia 2', 'Materia 3',\n",
              "       'Materia 4', 'Materia 5', 'estado', 'matricula', 'nombre', 'grupo',\n",
              "       'Materia 1', 'Materia 2', 'Materia 3', 'Materia 4', 'Materia 5',\n",
              "       'estado', 'matricula', 'nombre', 'grupo', 'Materia 1', 'Materia 2',\n",
              "       'Materia 3', 'Materia 4', 'Materia 5', 'estado', 'matricula',\n",
              "       'nombre', 'grupo', 'Materia 1', 'Materia 2', 'Materia 3',\n",
              "       'Materia 4', 'Materia 5', 'estado', 'matricula', 'nombre', 'grupo',\n",
              "       'Materia 1', 'Materia 2', 'Materia 3', 'Materia 4', 'Materia 5',\n",
              "       'estado', 'matricula', 'nombre', 'grupo', 'Materia 1', 'Materia 2',\n",
              "       'Materia 3', 'Materia 4', 'Materia 5', 'estado', 'matricula',\n",
              "       'nombre', 'grupo', 'Materia 1', 'Materia 2', 'Materia 3',\n",
              "       'Materia 4', 'Materia 5', 'estado', 'matricula', 'nombre', 'grupo',\n",
              "       'Materia 1', 'Materia 2', 'Materia 3', 'Materia 4', 'Materia 5',\n",
              "       'estado', 'matricula', 'nombre', 'grupo', 'Materia 1', 'Materia 2',\n",
              "       'Materia 3', 'Materia 4', 'Materia 5', 'estado', 'matricula',\n",
              "       'nombre', 'grupo', 'Materia 1', 'Materia 2', 'Materia 3',\n",
              "       'Materia 4', 'Materia 5', 'estado', 'matricula', 'nombre', 'grupo',\n",
              "       'Materia 1', 'Materia 2', 'Materia 3', 'Materia 4', 'Materia 5',\n",
              "       'estado', 'matricula', 'nombre', 'grupo', 'Materia 1', 'Materia 2',\n",
              "       'Materia 3', 'Materia 4', 'Materia 5', 'estado', 'matricula',\n",
              "       'nombre', 'grupo', 'Materia 1', 'Materia 2', 'Materia 3',\n",
              "       'Materia 4', 'Materia 5', 'estado', 'matricula', 'nombre', 'grupo',\n",
              "       'Materia 1', 'Materia 2', 'Materia 3', 'Materia 4', 'Materia 5',\n",
              "       'estado', 'matricula', 'nombre', 'grupo', 'Materia 1', 'Materia 2',\n",
              "       'Materia 3', 'Materia 4', 'Materia 5', 'estado', 'matricula',\n",
              "       'nombre', 'grupo', 'Materia 1', 'Materia 2', 'Materia 3',\n",
              "       'Materia 4', 'Materia 5', 'estado', 'matricula', 'nombre', 'grupo',\n",
              "       'Materia 1', 'Materia 2', 'Materia 3', 'Materia 4', 'Materia 5',\n",
              "       'estado', 'matricula', 'nombre', 'grupo', 'Materia 1', 'Materia 2',\n",
              "       'Materia 3', 'Materia 4', 'Materia 5', 'estado', 'matricula',\n",
              "       'nombre', 'grupo', 'Materia 1', 'Materia 2', 'Materia 3',\n",
              "       'Materia 4', 'Materia 5', 'estado', 'matricula', 'nombre', 'grupo',\n",
              "       'Materia 1', 'Materia 2', 'Materia 3', 'Materia 4', 'Materia 5',\n",
              "       'estado', 'matricula', 'nombre', 'grupo', 'Materia 1', 'Materia 2',\n",
              "       'Materia 3', 'Materia 4', 'Materia 5', 'estado', 'matricula',\n",
              "       'nombre', 'grupo', 'Materia 1', 'Materia 2', 'Materia 3',\n",
              "       'Materia 4', 'Materia 5', 'estado', 'matricula', 'nombre', 'grupo',\n",
              "       'Materia 1', 'Materia 2', 'Materia 3', 'Materia 4', 'Materia 5',\n",
              "       'estado', 'matricula', 'nombre', 'grupo', 'Materia 1', 'Materia 2',\n",
              "       'Materia 3', 'Materia 4', 'Materia 5', 'estado', 'matricula',\n",
              "       'nombre', 'grupo', 'Materia 1', 'Materia 2', 'Materia 3',\n",
              "       'Materia 4', 'Materia 5', 'estado', 'matricula', 'nombre', 'grupo',\n",
              "       'Materia 1', 'Materia 2', 'Materia 3', 'Materia 4', 'Materia 5',\n",
              "       'estado'], dtype='<U9')"
            ]
          },
          "metadata": {},
          "execution_count": 25
        }
      ]
    },
    {
      "cell_type": "markdown",
      "source": [
        "#### Extraemos el archivo csv y lo separamos con comas para que solo nos nos muestre los valores de la columna 1\n"
      ],
      "metadata": {
        "id": "KZyf1uVk24JX"
      }
    },
    {
      "cell_type": "code",
      "source": [
        "array1 = np.loadtxt(\"calificaciones_v1.csv\", dtype=str, delimiter=\",\", usecols=1)\n",
        "array1"
      ],
      "metadata": {
        "colab": {
          "base_uri": "https://localhost:8080/"
        },
        "id": "dZi6beiUtN7n",
        "outputId": "cdb974c7-d2bc-47d0-d257-211f5e7d85d2"
      },
      "execution_count": 26,
      "outputs": [
        {
          "output_type": "execute_result",
          "data": {
            "text/plain": [
              "array(['11111111', 'Alumno 1', 'TI11', '1', '8', '1', '7', '2', 'regular',\n",
              "       '11111112', 'Alumno 2', 'TI11', '10', '7', '1', '8', '5',\n",
              "       'regular', '11111113', 'Alumno 3', 'TI11', '4', '1', '1', '3', '0',\n",
              "       'regular', '11111114', 'Alumno 4', 'TI11', '5', '4', '3', '2', '7',\n",
              "       'regular', '11111115', 'Alumno 5', 'TI11', '9', '10', '3', '9',\n",
              "       '2', 'regular', '11111116', 'Alumno 6', 'TI11', '1', '3', '8', '1',\n",
              "       '7', 'regular', '11111117', 'Alumno 7', 'TI11', '4', '7', '1', '6',\n",
              "       '5', 'regular', '11111118', 'Alumno 8', 'TI11', '10', '1', '7',\n",
              "       '10', '0', 'regular', '11111119', 'Alumno 9', 'TI11', '5', '5',\n",
              "       '4', '0', '3', 'regular', '11111120', 'Alumno 10', 'TI11', '5',\n",
              "       '7', '3', '3', '4', 'regular', '11111121', 'Alumno 11', 'TI11',\n",
              "       '6', '1', '3', '7', '0', 'regular', '11111122', 'Alumno 12',\n",
              "       'TI11', '7', '2', '5', '4', '5', 'regular', '11111123',\n",
              "       'Alumno 13', 'TI12', '5', '2', '3', '0', '1', 'regular',\n",
              "       '11111124', 'Alumno 14', 'TI12', '5', '2', '10', '0', '6',\n",
              "       'regular', '11111125', 'Alumno 15', 'TI12', '9', '9', '1', '3',\n",
              "       '1', 'regular', '11111126', 'Alumno 16', 'TI12', '1', '2', '1',\n",
              "       '7', '7', 'regular', '11111127', 'Alumno 17', 'TI12', '0', '2',\n",
              "       '1', '0', '2', 'regular', '11111128', 'Alumno 18', 'TI12', '0',\n",
              "       '1', '4', '7', '6', 'regular', '11111129', 'Alumno 19', 'TI12',\n",
              "       '0', '8', '7', '8', '2', 'regular', '11111130', 'Alumno 20',\n",
              "       'TI12', '4', '0', '5', '0', '4', 'regular', '11111131',\n",
              "       'Alumno 21', 'TI12', '6', '4', '2', '10', '10', 'regular',\n",
              "       '11111132', 'Alumno 22', 'TI12', '5', '6', '9', '0', '3',\n",
              "       'regular', '11111133', 'Alumno 23', 'TI12', '1', '9', '7', '7',\n",
              "       '6', 'regular', '11111134', 'Alumno 24', 'TI41', '4', '0', '10',\n",
              "       '7', '0', 'regular', '11111135', 'Alumno 25', 'TI41', '3', '3',\n",
              "       '0', '8', '5', 'regular', '11111136', 'Alumno 26', 'TI41', '0',\n",
              "       '5', '7', '2', '1', 'regular', '11111137', 'Alumno 27', 'TI41',\n",
              "       '0', '0', '6', '0', '5', 'regular', '11111138', 'Alumno 28',\n",
              "       'TI41', '9', '3', '10', '9', '6', 'regular', '11111139',\n",
              "       'Alumno 29', 'TI41', '0', '5', '1', '10', '1', 'regular',\n",
              "       '11111140', 'Alumno 30', 'TI41', '3', '3', '5', '9', '9',\n",
              "       'regular', '11111141', 'Alumno 31', 'TI41', '10', '10', '4', '1',\n",
              "       '4', 'regular', '11111142', 'Alumno 32', 'TI41', '6', '0', '5',\n",
              "       '3', '2', 'regular', '11111143', 'Alumno 33', 'IDGS91', '0', '4',\n",
              "       '1', '7', '9', 'regular', '11111144', 'Alumno 34', 'IDGS91', '1',\n",
              "       '1', '2', '3', '8', 'regular', '11111145', 'Alumno 35', 'IDGS91',\n",
              "       '0', '7', '10', '7', '7', 'regular', '11111146', 'Alumno 36',\n",
              "       'IDGS91', '7', '1', '4', '0', '6', 'regular', '11111147',\n",
              "       'Alumno 37', 'IDGS91', '6', '6', '4', '3', '0', 'regular',\n",
              "       '11111148', 'Alumno 38', 'IDGS91', '0', '6', '6', '3', '5',\n",
              "       'regular', '11111149', 'Alumno 39', 'IDGS91', '8', '7', '9', '5',\n",
              "       '2', 'regular', '11111150', 'Alumno 40', 'IDGS91', '1', '0', '3',\n",
              "       '4', '10', 'regular', '11111151', 'Alumno 41', 'IDGS91', '6', '5',\n",
              "       '1', '5', '9', 'regular', '11111152', 'Alumno 42', 'IDGS91', '2',\n",
              "       '0', '9', '9', '5', 'regular', '11111153', 'Alumno 43', 'IDGS91',\n",
              "       '3', '4', '0', '0', '0', 'regular', '11111154', 'Alumno 44',\n",
              "       'IDGS91', '3', '1', '1', '7', '10', 'regular', '11111155',\n",
              "       'Alumno 45', 'IDGS91', '4', '1', '2', '8', '6', 'regular',\n",
              "       '11111156', 'Alumno 46', 'IDGS71', '10', '1', '10', '0', '7',\n",
              "       'regular', '11111157', 'Alumno 47', 'IDGS71', '9', '10', '1', '3',\n",
              "       '9', 'regular', '11111158', 'Alumno 48', 'IDGS71', '4', '4', '10',\n",
              "       '6', '8', 'regular'], dtype='<U9')"
            ]
          },
          "metadata": {},
          "execution_count": 26
        }
      ]
    },
    {
      "cell_type": "markdown",
      "source": [
        "#### Ejecutamos la funcion reshape para que haga un ordenamiento de todo el array y que se nos muestre los valores de la columna en dimensiones de 1*1"
      ],
      "metadata": {
        "id": "BtpPJtJW2_DG"
      }
    },
    {
      "cell_type": "code",
      "source": [
        "array = np.reshape(array, (len(array)//9, 9))\n",
        "array"
      ],
      "metadata": {
        "colab": {
          "base_uri": "https://localhost:8080/"
        },
        "id": "XFIzQYFutS0K",
        "outputId": "8fcb8abe-3d32-4022-950a-575c91a5bd52"
      },
      "execution_count": 27,
      "outputs": [
        {
          "output_type": "execute_result",
          "data": {
            "text/plain": [
              "array([['matricula', 'nombre', 'grupo', 'Materia 1', 'Materia 2',\n",
              "        'Materia 3', 'Materia 4', 'Materia 5', 'estado'],\n",
              "       ['matricula', 'nombre', 'grupo', 'Materia 1', 'Materia 2',\n",
              "        'Materia 3', 'Materia 4', 'Materia 5', 'estado'],\n",
              "       ['matricula', 'nombre', 'grupo', 'Materia 1', 'Materia 2',\n",
              "        'Materia 3', 'Materia 4', 'Materia 5', 'estado'],\n",
              "       ['matricula', 'nombre', 'grupo', 'Materia 1', 'Materia 2',\n",
              "        'Materia 3', 'Materia 4', 'Materia 5', 'estado'],\n",
              "       ['matricula', 'nombre', 'grupo', 'Materia 1', 'Materia 2',\n",
              "        'Materia 3', 'Materia 4', 'Materia 5', 'estado'],\n",
              "       ['matricula', 'nombre', 'grupo', 'Materia 1', 'Materia 2',\n",
              "        'Materia 3', 'Materia 4', 'Materia 5', 'estado'],\n",
              "       ['matricula', 'nombre', 'grupo', 'Materia 1', 'Materia 2',\n",
              "        'Materia 3', 'Materia 4', 'Materia 5', 'estado'],\n",
              "       ['matricula', 'nombre', 'grupo', 'Materia 1', 'Materia 2',\n",
              "        'Materia 3', 'Materia 4', 'Materia 5', 'estado'],\n",
              "       ['matricula', 'nombre', 'grupo', 'Materia 1', 'Materia 2',\n",
              "        'Materia 3', 'Materia 4', 'Materia 5', 'estado'],\n",
              "       ['matricula', 'nombre', 'grupo', 'Materia 1', 'Materia 2',\n",
              "        'Materia 3', 'Materia 4', 'Materia 5', 'estado'],\n",
              "       ['matricula', 'nombre', 'grupo', 'Materia 1', 'Materia 2',\n",
              "        'Materia 3', 'Materia 4', 'Materia 5', 'estado'],\n",
              "       ['matricula', 'nombre', 'grupo', 'Materia 1', 'Materia 2',\n",
              "        'Materia 3', 'Materia 4', 'Materia 5', 'estado'],\n",
              "       ['matricula', 'nombre', 'grupo', 'Materia 1', 'Materia 2',\n",
              "        'Materia 3', 'Materia 4', 'Materia 5', 'estado'],\n",
              "       ['matricula', 'nombre', 'grupo', 'Materia 1', 'Materia 2',\n",
              "        'Materia 3', 'Materia 4', 'Materia 5', 'estado'],\n",
              "       ['matricula', 'nombre', 'grupo', 'Materia 1', 'Materia 2',\n",
              "        'Materia 3', 'Materia 4', 'Materia 5', 'estado'],\n",
              "       ['matricula', 'nombre', 'grupo', 'Materia 1', 'Materia 2',\n",
              "        'Materia 3', 'Materia 4', 'Materia 5', 'estado'],\n",
              "       ['matricula', 'nombre', 'grupo', 'Materia 1', 'Materia 2',\n",
              "        'Materia 3', 'Materia 4', 'Materia 5', 'estado'],\n",
              "       ['matricula', 'nombre', 'grupo', 'Materia 1', 'Materia 2',\n",
              "        'Materia 3', 'Materia 4', 'Materia 5', 'estado'],\n",
              "       ['matricula', 'nombre', 'grupo', 'Materia 1', 'Materia 2',\n",
              "        'Materia 3', 'Materia 4', 'Materia 5', 'estado'],\n",
              "       ['matricula', 'nombre', 'grupo', 'Materia 1', 'Materia 2',\n",
              "        'Materia 3', 'Materia 4', 'Materia 5', 'estado'],\n",
              "       ['matricula', 'nombre', 'grupo', 'Materia 1', 'Materia 2',\n",
              "        'Materia 3', 'Materia 4', 'Materia 5', 'estado'],\n",
              "       ['matricula', 'nombre', 'grupo', 'Materia 1', 'Materia 2',\n",
              "        'Materia 3', 'Materia 4', 'Materia 5', 'estado'],\n",
              "       ['matricula', 'nombre', 'grupo', 'Materia 1', 'Materia 2',\n",
              "        'Materia 3', 'Materia 4', 'Materia 5', 'estado'],\n",
              "       ['matricula', 'nombre', 'grupo', 'Materia 1', 'Materia 2',\n",
              "        'Materia 3', 'Materia 4', 'Materia 5', 'estado'],\n",
              "       ['matricula', 'nombre', 'grupo', 'Materia 1', 'Materia 2',\n",
              "        'Materia 3', 'Materia 4', 'Materia 5', 'estado'],\n",
              "       ['matricula', 'nombre', 'grupo', 'Materia 1', 'Materia 2',\n",
              "        'Materia 3', 'Materia 4', 'Materia 5', 'estado'],\n",
              "       ['matricula', 'nombre', 'grupo', 'Materia 1', 'Materia 2',\n",
              "        'Materia 3', 'Materia 4', 'Materia 5', 'estado'],\n",
              "       ['matricula', 'nombre', 'grupo', 'Materia 1', 'Materia 2',\n",
              "        'Materia 3', 'Materia 4', 'Materia 5', 'estado'],\n",
              "       ['matricula', 'nombre', 'grupo', 'Materia 1', 'Materia 2',\n",
              "        'Materia 3', 'Materia 4', 'Materia 5', 'estado'],\n",
              "       ['matricula', 'nombre', 'grupo', 'Materia 1', 'Materia 2',\n",
              "        'Materia 3', 'Materia 4', 'Materia 5', 'estado'],\n",
              "       ['matricula', 'nombre', 'grupo', 'Materia 1', 'Materia 2',\n",
              "        'Materia 3', 'Materia 4', 'Materia 5', 'estado'],\n",
              "       ['matricula', 'nombre', 'grupo', 'Materia 1', 'Materia 2',\n",
              "        'Materia 3', 'Materia 4', 'Materia 5', 'estado'],\n",
              "       ['matricula', 'nombre', 'grupo', 'Materia 1', 'Materia 2',\n",
              "        'Materia 3', 'Materia 4', 'Materia 5', 'estado'],\n",
              "       ['matricula', 'nombre', 'grupo', 'Materia 1', 'Materia 2',\n",
              "        'Materia 3', 'Materia 4', 'Materia 5', 'estado'],\n",
              "       ['matricula', 'nombre', 'grupo', 'Materia 1', 'Materia 2',\n",
              "        'Materia 3', 'Materia 4', 'Materia 5', 'estado'],\n",
              "       ['matricula', 'nombre', 'grupo', 'Materia 1', 'Materia 2',\n",
              "        'Materia 3', 'Materia 4', 'Materia 5', 'estado'],\n",
              "       ['matricula', 'nombre', 'grupo', 'Materia 1', 'Materia 2',\n",
              "        'Materia 3', 'Materia 4', 'Materia 5', 'estado'],\n",
              "       ['matricula', 'nombre', 'grupo', 'Materia 1', 'Materia 2',\n",
              "        'Materia 3', 'Materia 4', 'Materia 5', 'estado'],\n",
              "       ['matricula', 'nombre', 'grupo', 'Materia 1', 'Materia 2',\n",
              "        'Materia 3', 'Materia 4', 'Materia 5', 'estado'],\n",
              "       ['matricula', 'nombre', 'grupo', 'Materia 1', 'Materia 2',\n",
              "        'Materia 3', 'Materia 4', 'Materia 5', 'estado'],\n",
              "       ['matricula', 'nombre', 'grupo', 'Materia 1', 'Materia 2',\n",
              "        'Materia 3', 'Materia 4', 'Materia 5', 'estado'],\n",
              "       ['matricula', 'nombre', 'grupo', 'Materia 1', 'Materia 2',\n",
              "        'Materia 3', 'Materia 4', 'Materia 5', 'estado'],\n",
              "       ['matricula', 'nombre', 'grupo', 'Materia 1', 'Materia 2',\n",
              "        'Materia 3', 'Materia 4', 'Materia 5', 'estado'],\n",
              "       ['matricula', 'nombre', 'grupo', 'Materia 1', 'Materia 2',\n",
              "        'Materia 3', 'Materia 4', 'Materia 5', 'estado'],\n",
              "       ['matricula', 'nombre', 'grupo', 'Materia 1', 'Materia 2',\n",
              "        'Materia 3', 'Materia 4', 'Materia 5', 'estado'],\n",
              "       ['matricula', 'nombre', 'grupo', 'Materia 1', 'Materia 2',\n",
              "        'Materia 3', 'Materia 4', 'Materia 5', 'estado'],\n",
              "       ['matricula', 'nombre', 'grupo', 'Materia 1', 'Materia 2',\n",
              "        'Materia 3', 'Materia 4', 'Materia 5', 'estado'],\n",
              "       ['matricula', 'nombre', 'grupo', 'Materia 1', 'Materia 2',\n",
              "        'Materia 3', 'Materia 4', 'Materia 5', 'estado']], dtype='<U9')"
            ]
          },
          "metadata": {},
          "execution_count": 27
        }
      ]
    },
    {
      "cell_type": "code",
      "source": [
        "array1 = np.reshape(array1, (len(array1)//9, 9))\n",
        "array1"
      ],
      "metadata": {
        "colab": {
          "base_uri": "https://localhost:8080/"
        },
        "id": "NNuID6Frt2tz",
        "outputId": "619cb31b-05c1-4c9b-990c-7710fb253288"
      },
      "execution_count": 28,
      "outputs": [
        {
          "output_type": "execute_result",
          "data": {
            "text/plain": [
              "array([['11111111', 'Alumno 1', 'TI11', '1', '8', '1', '7', '2',\n",
              "        'regular'],\n",
              "       ['11111112', 'Alumno 2', 'TI11', '10', '7', '1', '8', '5',\n",
              "        'regular'],\n",
              "       ['11111113', 'Alumno 3', 'TI11', '4', '1', '1', '3', '0',\n",
              "        'regular'],\n",
              "       ['11111114', 'Alumno 4', 'TI11', '5', '4', '3', '2', '7',\n",
              "        'regular'],\n",
              "       ['11111115', 'Alumno 5', 'TI11', '9', '10', '3', '9', '2',\n",
              "        'regular'],\n",
              "       ['11111116', 'Alumno 6', 'TI11', '1', '3', '8', '1', '7',\n",
              "        'regular'],\n",
              "       ['11111117', 'Alumno 7', 'TI11', '4', '7', '1', '6', '5',\n",
              "        'regular'],\n",
              "       ['11111118', 'Alumno 8', 'TI11', '10', '1', '7', '10', '0',\n",
              "        'regular'],\n",
              "       ['11111119', 'Alumno 9', 'TI11', '5', '5', '4', '0', '3',\n",
              "        'regular'],\n",
              "       ['11111120', 'Alumno 10', 'TI11', '5', '7', '3', '3', '4',\n",
              "        'regular'],\n",
              "       ['11111121', 'Alumno 11', 'TI11', '6', '1', '3', '7', '0',\n",
              "        'regular'],\n",
              "       ['11111122', 'Alumno 12', 'TI11', '7', '2', '5', '4', '5',\n",
              "        'regular'],\n",
              "       ['11111123', 'Alumno 13', 'TI12', '5', '2', '3', '0', '1',\n",
              "        'regular'],\n",
              "       ['11111124', 'Alumno 14', 'TI12', '5', '2', '10', '0', '6',\n",
              "        'regular'],\n",
              "       ['11111125', 'Alumno 15', 'TI12', '9', '9', '1', '3', '1',\n",
              "        'regular'],\n",
              "       ['11111126', 'Alumno 16', 'TI12', '1', '2', '1', '7', '7',\n",
              "        'regular'],\n",
              "       ['11111127', 'Alumno 17', 'TI12', '0', '2', '1', '0', '2',\n",
              "        'regular'],\n",
              "       ['11111128', 'Alumno 18', 'TI12', '0', '1', '4', '7', '6',\n",
              "        'regular'],\n",
              "       ['11111129', 'Alumno 19', 'TI12', '0', '8', '7', '8', '2',\n",
              "        'regular'],\n",
              "       ['11111130', 'Alumno 20', 'TI12', '4', '0', '5', '0', '4',\n",
              "        'regular'],\n",
              "       ['11111131', 'Alumno 21', 'TI12', '6', '4', '2', '10', '10',\n",
              "        'regular'],\n",
              "       ['11111132', 'Alumno 22', 'TI12', '5', '6', '9', '0', '3',\n",
              "        'regular'],\n",
              "       ['11111133', 'Alumno 23', 'TI12', '1', '9', '7', '7', '6',\n",
              "        'regular'],\n",
              "       ['11111134', 'Alumno 24', 'TI41', '4', '0', '10', '7', '0',\n",
              "        'regular'],\n",
              "       ['11111135', 'Alumno 25', 'TI41', '3', '3', '0', '8', '5',\n",
              "        'regular'],\n",
              "       ['11111136', 'Alumno 26', 'TI41', '0', '5', '7', '2', '1',\n",
              "        'regular'],\n",
              "       ['11111137', 'Alumno 27', 'TI41', '0', '0', '6', '0', '5',\n",
              "        'regular'],\n",
              "       ['11111138', 'Alumno 28', 'TI41', '9', '3', '10', '9', '6',\n",
              "        'regular'],\n",
              "       ['11111139', 'Alumno 29', 'TI41', '0', '5', '1', '10', '1',\n",
              "        'regular'],\n",
              "       ['11111140', 'Alumno 30', 'TI41', '3', '3', '5', '9', '9',\n",
              "        'regular'],\n",
              "       ['11111141', 'Alumno 31', 'TI41', '10', '10', '4', '1', '4',\n",
              "        'regular'],\n",
              "       ['11111142', 'Alumno 32', 'TI41', '6', '0', '5', '3', '2',\n",
              "        'regular'],\n",
              "       ['11111143', 'Alumno 33', 'IDGS91', '0', '4', '1', '7', '9',\n",
              "        'regular'],\n",
              "       ['11111144', 'Alumno 34', 'IDGS91', '1', '1', '2', '3', '8',\n",
              "        'regular'],\n",
              "       ['11111145', 'Alumno 35', 'IDGS91', '0', '7', '10', '7', '7',\n",
              "        'regular'],\n",
              "       ['11111146', 'Alumno 36', 'IDGS91', '7', '1', '4', '0', '6',\n",
              "        'regular'],\n",
              "       ['11111147', 'Alumno 37', 'IDGS91', '6', '6', '4', '3', '0',\n",
              "        'regular'],\n",
              "       ['11111148', 'Alumno 38', 'IDGS91', '0', '6', '6', '3', '5',\n",
              "        'regular'],\n",
              "       ['11111149', 'Alumno 39', 'IDGS91', '8', '7', '9', '5', '2',\n",
              "        'regular'],\n",
              "       ['11111150', 'Alumno 40', 'IDGS91', '1', '0', '3', '4', '10',\n",
              "        'regular'],\n",
              "       ['11111151', 'Alumno 41', 'IDGS91', '6', '5', '1', '5', '9',\n",
              "        'regular'],\n",
              "       ['11111152', 'Alumno 42', 'IDGS91', '2', '0', '9', '9', '5',\n",
              "        'regular'],\n",
              "       ['11111153', 'Alumno 43', 'IDGS91', '3', '4', '0', '0', '0',\n",
              "        'regular'],\n",
              "       ['11111154', 'Alumno 44', 'IDGS91', '3', '1', '1', '7', '10',\n",
              "        'regular'],\n",
              "       ['11111155', 'Alumno 45', 'IDGS91', '4', '1', '2', '8', '6',\n",
              "        'regular'],\n",
              "       ['11111156', 'Alumno 46', 'IDGS71', '10', '1', '10', '0', '7',\n",
              "        'regular'],\n",
              "       ['11111157', 'Alumno 47', 'IDGS71', '9', '10', '1', '3', '9',\n",
              "        'regular'],\n",
              "       ['11111158', 'Alumno 48', 'IDGS71', '4', '4', '10', '6', '8',\n",
              "        'regular']], dtype='<U9')"
            ]
          },
          "metadata": {},
          "execution_count": 28
        }
      ]
    },
    {
      "cell_type": "markdown",
      "source": [
        "#### Separamos el array imprimiendo solo los valores de la columna 0"
      ],
      "metadata": {
        "id": "5KpLeL8I31s1"
      }
    },
    {
      "cell_type": "code",
      "source": [
        "headers = np.array(array[:,0:9])\n",
        "headers"
      ],
      "metadata": {
        "colab": {
          "base_uri": "https://localhost:8080/"
        },
        "id": "4GVqZ-3VtlfM",
        "outputId": "ba7a47ca-782c-41d7-c525-633674023e8c"
      },
      "execution_count": 29,
      "outputs": [
        {
          "output_type": "execute_result",
          "data": {
            "text/plain": [
              "array([['matricula', 'nombre', 'grupo', 'Materia 1', 'Materia 2',\n",
              "        'Materia 3', 'Materia 4', 'Materia 5', 'estado'],\n",
              "       ['matricula', 'nombre', 'grupo', 'Materia 1', 'Materia 2',\n",
              "        'Materia 3', 'Materia 4', 'Materia 5', 'estado'],\n",
              "       ['matricula', 'nombre', 'grupo', 'Materia 1', 'Materia 2',\n",
              "        'Materia 3', 'Materia 4', 'Materia 5', 'estado'],\n",
              "       ['matricula', 'nombre', 'grupo', 'Materia 1', 'Materia 2',\n",
              "        'Materia 3', 'Materia 4', 'Materia 5', 'estado'],\n",
              "       ['matricula', 'nombre', 'grupo', 'Materia 1', 'Materia 2',\n",
              "        'Materia 3', 'Materia 4', 'Materia 5', 'estado'],\n",
              "       ['matricula', 'nombre', 'grupo', 'Materia 1', 'Materia 2',\n",
              "        'Materia 3', 'Materia 4', 'Materia 5', 'estado'],\n",
              "       ['matricula', 'nombre', 'grupo', 'Materia 1', 'Materia 2',\n",
              "        'Materia 3', 'Materia 4', 'Materia 5', 'estado'],\n",
              "       ['matricula', 'nombre', 'grupo', 'Materia 1', 'Materia 2',\n",
              "        'Materia 3', 'Materia 4', 'Materia 5', 'estado'],\n",
              "       ['matricula', 'nombre', 'grupo', 'Materia 1', 'Materia 2',\n",
              "        'Materia 3', 'Materia 4', 'Materia 5', 'estado'],\n",
              "       ['matricula', 'nombre', 'grupo', 'Materia 1', 'Materia 2',\n",
              "        'Materia 3', 'Materia 4', 'Materia 5', 'estado'],\n",
              "       ['matricula', 'nombre', 'grupo', 'Materia 1', 'Materia 2',\n",
              "        'Materia 3', 'Materia 4', 'Materia 5', 'estado'],\n",
              "       ['matricula', 'nombre', 'grupo', 'Materia 1', 'Materia 2',\n",
              "        'Materia 3', 'Materia 4', 'Materia 5', 'estado'],\n",
              "       ['matricula', 'nombre', 'grupo', 'Materia 1', 'Materia 2',\n",
              "        'Materia 3', 'Materia 4', 'Materia 5', 'estado'],\n",
              "       ['matricula', 'nombre', 'grupo', 'Materia 1', 'Materia 2',\n",
              "        'Materia 3', 'Materia 4', 'Materia 5', 'estado'],\n",
              "       ['matricula', 'nombre', 'grupo', 'Materia 1', 'Materia 2',\n",
              "        'Materia 3', 'Materia 4', 'Materia 5', 'estado'],\n",
              "       ['matricula', 'nombre', 'grupo', 'Materia 1', 'Materia 2',\n",
              "        'Materia 3', 'Materia 4', 'Materia 5', 'estado'],\n",
              "       ['matricula', 'nombre', 'grupo', 'Materia 1', 'Materia 2',\n",
              "        'Materia 3', 'Materia 4', 'Materia 5', 'estado'],\n",
              "       ['matricula', 'nombre', 'grupo', 'Materia 1', 'Materia 2',\n",
              "        'Materia 3', 'Materia 4', 'Materia 5', 'estado'],\n",
              "       ['matricula', 'nombre', 'grupo', 'Materia 1', 'Materia 2',\n",
              "        'Materia 3', 'Materia 4', 'Materia 5', 'estado'],\n",
              "       ['matricula', 'nombre', 'grupo', 'Materia 1', 'Materia 2',\n",
              "        'Materia 3', 'Materia 4', 'Materia 5', 'estado'],\n",
              "       ['matricula', 'nombre', 'grupo', 'Materia 1', 'Materia 2',\n",
              "        'Materia 3', 'Materia 4', 'Materia 5', 'estado'],\n",
              "       ['matricula', 'nombre', 'grupo', 'Materia 1', 'Materia 2',\n",
              "        'Materia 3', 'Materia 4', 'Materia 5', 'estado'],\n",
              "       ['matricula', 'nombre', 'grupo', 'Materia 1', 'Materia 2',\n",
              "        'Materia 3', 'Materia 4', 'Materia 5', 'estado'],\n",
              "       ['matricula', 'nombre', 'grupo', 'Materia 1', 'Materia 2',\n",
              "        'Materia 3', 'Materia 4', 'Materia 5', 'estado'],\n",
              "       ['matricula', 'nombre', 'grupo', 'Materia 1', 'Materia 2',\n",
              "        'Materia 3', 'Materia 4', 'Materia 5', 'estado'],\n",
              "       ['matricula', 'nombre', 'grupo', 'Materia 1', 'Materia 2',\n",
              "        'Materia 3', 'Materia 4', 'Materia 5', 'estado'],\n",
              "       ['matricula', 'nombre', 'grupo', 'Materia 1', 'Materia 2',\n",
              "        'Materia 3', 'Materia 4', 'Materia 5', 'estado'],\n",
              "       ['matricula', 'nombre', 'grupo', 'Materia 1', 'Materia 2',\n",
              "        'Materia 3', 'Materia 4', 'Materia 5', 'estado'],\n",
              "       ['matricula', 'nombre', 'grupo', 'Materia 1', 'Materia 2',\n",
              "        'Materia 3', 'Materia 4', 'Materia 5', 'estado'],\n",
              "       ['matricula', 'nombre', 'grupo', 'Materia 1', 'Materia 2',\n",
              "        'Materia 3', 'Materia 4', 'Materia 5', 'estado'],\n",
              "       ['matricula', 'nombre', 'grupo', 'Materia 1', 'Materia 2',\n",
              "        'Materia 3', 'Materia 4', 'Materia 5', 'estado'],\n",
              "       ['matricula', 'nombre', 'grupo', 'Materia 1', 'Materia 2',\n",
              "        'Materia 3', 'Materia 4', 'Materia 5', 'estado'],\n",
              "       ['matricula', 'nombre', 'grupo', 'Materia 1', 'Materia 2',\n",
              "        'Materia 3', 'Materia 4', 'Materia 5', 'estado'],\n",
              "       ['matricula', 'nombre', 'grupo', 'Materia 1', 'Materia 2',\n",
              "        'Materia 3', 'Materia 4', 'Materia 5', 'estado'],\n",
              "       ['matricula', 'nombre', 'grupo', 'Materia 1', 'Materia 2',\n",
              "        'Materia 3', 'Materia 4', 'Materia 5', 'estado'],\n",
              "       ['matricula', 'nombre', 'grupo', 'Materia 1', 'Materia 2',\n",
              "        'Materia 3', 'Materia 4', 'Materia 5', 'estado'],\n",
              "       ['matricula', 'nombre', 'grupo', 'Materia 1', 'Materia 2',\n",
              "        'Materia 3', 'Materia 4', 'Materia 5', 'estado'],\n",
              "       ['matricula', 'nombre', 'grupo', 'Materia 1', 'Materia 2',\n",
              "        'Materia 3', 'Materia 4', 'Materia 5', 'estado'],\n",
              "       ['matricula', 'nombre', 'grupo', 'Materia 1', 'Materia 2',\n",
              "        'Materia 3', 'Materia 4', 'Materia 5', 'estado'],\n",
              "       ['matricula', 'nombre', 'grupo', 'Materia 1', 'Materia 2',\n",
              "        'Materia 3', 'Materia 4', 'Materia 5', 'estado'],\n",
              "       ['matricula', 'nombre', 'grupo', 'Materia 1', 'Materia 2',\n",
              "        'Materia 3', 'Materia 4', 'Materia 5', 'estado'],\n",
              "       ['matricula', 'nombre', 'grupo', 'Materia 1', 'Materia 2',\n",
              "        'Materia 3', 'Materia 4', 'Materia 5', 'estado'],\n",
              "       ['matricula', 'nombre', 'grupo', 'Materia 1', 'Materia 2',\n",
              "        'Materia 3', 'Materia 4', 'Materia 5', 'estado'],\n",
              "       ['matricula', 'nombre', 'grupo', 'Materia 1', 'Materia 2',\n",
              "        'Materia 3', 'Materia 4', 'Materia 5', 'estado'],\n",
              "       ['matricula', 'nombre', 'grupo', 'Materia 1', 'Materia 2',\n",
              "        'Materia 3', 'Materia 4', 'Materia 5', 'estado'],\n",
              "       ['matricula', 'nombre', 'grupo', 'Materia 1', 'Materia 2',\n",
              "        'Materia 3', 'Materia 4', 'Materia 5', 'estado'],\n",
              "       ['matricula', 'nombre', 'grupo', 'Materia 1', 'Materia 2',\n",
              "        'Materia 3', 'Materia 4', 'Materia 5', 'estado'],\n",
              "       ['matricula', 'nombre', 'grupo', 'Materia 1', 'Materia 2',\n",
              "        'Materia 3', 'Materia 4', 'Materia 5', 'estado']], dtype='<U9')"
            ]
          },
          "metadata": {},
          "execution_count": 29
        }
      ]
    },
    {
      "cell_type": "markdown",
      "source": [
        "#### Separamos el array imprimiendo solo los valores de la columna 1"
      ],
      "metadata": {
        "id": "b-tClerb3hEo"
      }
    },
    {
      "cell_type": "code",
      "source": [
        "rows = np.array(array1[:,0:9])\n",
        "rows"
      ],
      "metadata": {
        "colab": {
          "base_uri": "https://localhost:8080/"
        },
        "id": "b7_pzytGtunJ",
        "outputId": "57b2784a-0d64-425b-98f7-5403e1c84795"
      },
      "execution_count": 30,
      "outputs": [
        {
          "output_type": "execute_result",
          "data": {
            "text/plain": [
              "array([['11111111', 'Alumno 1', 'TI11', '1', '8', '1', '7', '2',\n",
              "        'regular'],\n",
              "       ['11111112', 'Alumno 2', 'TI11', '10', '7', '1', '8', '5',\n",
              "        'regular'],\n",
              "       ['11111113', 'Alumno 3', 'TI11', '4', '1', '1', '3', '0',\n",
              "        'regular'],\n",
              "       ['11111114', 'Alumno 4', 'TI11', '5', '4', '3', '2', '7',\n",
              "        'regular'],\n",
              "       ['11111115', 'Alumno 5', 'TI11', '9', '10', '3', '9', '2',\n",
              "        'regular'],\n",
              "       ['11111116', 'Alumno 6', 'TI11', '1', '3', '8', '1', '7',\n",
              "        'regular'],\n",
              "       ['11111117', 'Alumno 7', 'TI11', '4', '7', '1', '6', '5',\n",
              "        'regular'],\n",
              "       ['11111118', 'Alumno 8', 'TI11', '10', '1', '7', '10', '0',\n",
              "        'regular'],\n",
              "       ['11111119', 'Alumno 9', 'TI11', '5', '5', '4', '0', '3',\n",
              "        'regular'],\n",
              "       ['11111120', 'Alumno 10', 'TI11', '5', '7', '3', '3', '4',\n",
              "        'regular'],\n",
              "       ['11111121', 'Alumno 11', 'TI11', '6', '1', '3', '7', '0',\n",
              "        'regular'],\n",
              "       ['11111122', 'Alumno 12', 'TI11', '7', '2', '5', '4', '5',\n",
              "        'regular'],\n",
              "       ['11111123', 'Alumno 13', 'TI12', '5', '2', '3', '0', '1',\n",
              "        'regular'],\n",
              "       ['11111124', 'Alumno 14', 'TI12', '5', '2', '10', '0', '6',\n",
              "        'regular'],\n",
              "       ['11111125', 'Alumno 15', 'TI12', '9', '9', '1', '3', '1',\n",
              "        'regular'],\n",
              "       ['11111126', 'Alumno 16', 'TI12', '1', '2', '1', '7', '7',\n",
              "        'regular'],\n",
              "       ['11111127', 'Alumno 17', 'TI12', '0', '2', '1', '0', '2',\n",
              "        'regular'],\n",
              "       ['11111128', 'Alumno 18', 'TI12', '0', '1', '4', '7', '6',\n",
              "        'regular'],\n",
              "       ['11111129', 'Alumno 19', 'TI12', '0', '8', '7', '8', '2',\n",
              "        'regular'],\n",
              "       ['11111130', 'Alumno 20', 'TI12', '4', '0', '5', '0', '4',\n",
              "        'regular'],\n",
              "       ['11111131', 'Alumno 21', 'TI12', '6', '4', '2', '10', '10',\n",
              "        'regular'],\n",
              "       ['11111132', 'Alumno 22', 'TI12', '5', '6', '9', '0', '3',\n",
              "        'regular'],\n",
              "       ['11111133', 'Alumno 23', 'TI12', '1', '9', '7', '7', '6',\n",
              "        'regular'],\n",
              "       ['11111134', 'Alumno 24', 'TI41', '4', '0', '10', '7', '0',\n",
              "        'regular'],\n",
              "       ['11111135', 'Alumno 25', 'TI41', '3', '3', '0', '8', '5',\n",
              "        'regular'],\n",
              "       ['11111136', 'Alumno 26', 'TI41', '0', '5', '7', '2', '1',\n",
              "        'regular'],\n",
              "       ['11111137', 'Alumno 27', 'TI41', '0', '0', '6', '0', '5',\n",
              "        'regular'],\n",
              "       ['11111138', 'Alumno 28', 'TI41', '9', '3', '10', '9', '6',\n",
              "        'regular'],\n",
              "       ['11111139', 'Alumno 29', 'TI41', '0', '5', '1', '10', '1',\n",
              "        'regular'],\n",
              "       ['11111140', 'Alumno 30', 'TI41', '3', '3', '5', '9', '9',\n",
              "        'regular'],\n",
              "       ['11111141', 'Alumno 31', 'TI41', '10', '10', '4', '1', '4',\n",
              "        'regular'],\n",
              "       ['11111142', 'Alumno 32', 'TI41', '6', '0', '5', '3', '2',\n",
              "        'regular'],\n",
              "       ['11111143', 'Alumno 33', 'IDGS91', '0', '4', '1', '7', '9',\n",
              "        'regular'],\n",
              "       ['11111144', 'Alumno 34', 'IDGS91', '1', '1', '2', '3', '8',\n",
              "        'regular'],\n",
              "       ['11111145', 'Alumno 35', 'IDGS91', '0', '7', '10', '7', '7',\n",
              "        'regular'],\n",
              "       ['11111146', 'Alumno 36', 'IDGS91', '7', '1', '4', '0', '6',\n",
              "        'regular'],\n",
              "       ['11111147', 'Alumno 37', 'IDGS91', '6', '6', '4', '3', '0',\n",
              "        'regular'],\n",
              "       ['11111148', 'Alumno 38', 'IDGS91', '0', '6', '6', '3', '5',\n",
              "        'regular'],\n",
              "       ['11111149', 'Alumno 39', 'IDGS91', '8', '7', '9', '5', '2',\n",
              "        'regular'],\n",
              "       ['11111150', 'Alumno 40', 'IDGS91', '1', '0', '3', '4', '10',\n",
              "        'regular'],\n",
              "       ['11111151', 'Alumno 41', 'IDGS91', '6', '5', '1', '5', '9',\n",
              "        'regular'],\n",
              "       ['11111152', 'Alumno 42', 'IDGS91', '2', '0', '9', '9', '5',\n",
              "        'regular'],\n",
              "       ['11111153', 'Alumno 43', 'IDGS91', '3', '4', '0', '0', '0',\n",
              "        'regular'],\n",
              "       ['11111154', 'Alumno 44', 'IDGS91', '3', '1', '1', '7', '10',\n",
              "        'regular'],\n",
              "       ['11111155', 'Alumno 45', 'IDGS91', '4', '1', '2', '8', '6',\n",
              "        'regular'],\n",
              "       ['11111156', 'Alumno 46', 'IDGS71', '10', '1', '10', '0', '7',\n",
              "        'regular'],\n",
              "       ['11111157', 'Alumno 47', 'IDGS71', '9', '10', '1', '3', '9',\n",
              "        'regular'],\n",
              "       ['11111158', 'Alumno 48', 'IDGS71', '4', '4', '10', '6', '8',\n",
              "        'regular']], dtype='<U9')"
            ]
          },
          "metadata": {},
          "execution_count": 30
        }
      ]
    },
    {
      "cell_type": "markdown",
      "source": [
        "#### Calculamos el promedio con la suma de todos los valores en la posicion que se encuentren dentro de la columna 1 con la posicion 3,4,5,6,7. Despues de que nos devuelva el valor de la suma lo dividimos entre 5 y ese ultimo valor lo guardamos en una variable para que lo agregue en un nuevo array"
      ],
      "metadata": {
        "id": "dX9RjcEW38dR"
      }
    },
    {
      "cell_type": "code",
      "source": [
        "mean_array = np.array([])\n",
        "promedio = 0\n",
        "contador = 0\n",
        "for i in rows:\n",
        "    promedio = promedio + int(float(i[3]))\n",
        "    promedio = promedio + int(float(i[4]))\n",
        "    promedio = promedio + int(float(i[5]))\n",
        "    promedio = promedio + int(float(i[6]))\n",
        "    promedio = promedio + int(float(i[7]))\n",
        "    promedio = promedio/5\n",
        "    mean_array = np.append(mean_array, promedio)\n",
        "    contador = contador + 1"
      ],
      "metadata": {
        "id": "hkVZKWNEx8YN"
      },
      "execution_count": 36,
      "outputs": []
    },
    {
      "cell_type": "markdown",
      "source": [
        "#### Obtenemos todos los resultados del promedio y los guardamos dentro un nuevo array"
      ],
      "metadata": {
        "id": "Y89eLdHh4rSM"
      }
    },
    {
      "cell_type": "code",
      "source": [
        "mean_array = np.reshape(mean_array, (len(mean_array), 1))\n",
        "mean_array"
      ],
      "metadata": {
        "colab": {
          "base_uri": "https://localhost:8080/"
        },
        "id": "8Uzkl_t90grV",
        "outputId": "b92655fb-3ae0-4739-f6ab-5f616748f259"
      },
      "execution_count": 37,
      "outputs": [
        {
          "output_type": "execute_result",
          "data": {
            "text/plain": [
              "array([[3.8       ],\n",
              "       [6.96      ],\n",
              "       [3.192     ],\n",
              "       [4.8384    ],\n",
              "       [7.56768   ],\n",
              "       [5.513536  ],\n",
              "       [5.7027072 ],\n",
              "       [6.74054144],\n",
              "       [4.74810829],\n",
              "       [5.34962166],\n",
              "       [4.46992433],\n",
              "       [5.49398487],\n",
              "       [3.29879697],\n",
              "       [5.25975939],\n",
              "       [5.65195188],\n",
              "       [4.73039038],\n",
              "       [1.94607808],\n",
              "       [3.98921562],\n",
              "       [5.79784312],\n",
              "       [3.75956862],\n",
              "       [7.15191372],\n",
              "       [6.03038274],\n",
              "       [7.20607655],\n",
              "       [5.64121531],\n",
              "       [4.92824306],\n",
              "       [3.98564861],\n",
              "       [2.99712972],\n",
              "       [7.99942594],\n",
              "       [4.99988519],\n",
              "       [6.79997704],\n",
              "       [7.15999541],\n",
              "       [4.63199908],\n",
              "       [5.12639982],\n",
              "       [4.02527996],\n",
              "       [7.00505599],\n",
              "       [5.0010112 ],\n",
              "       [4.80020224],\n",
              "       [4.96004045],\n",
              "       [7.19200809],\n",
              "       [5.03840162],\n",
              "       [6.20768032],\n",
              "       [6.24153606],\n",
              "       [2.64830721],\n",
              "       [4.92966144],\n",
              "       [5.18593229],\n",
              "       [6.63718646],\n",
              "       [7.72743729],\n",
              "       [7.94548746]])"
            ]
          },
          "metadata": {},
          "execution_count": 37
        }
      ]
    },
    {
      "cell_type": "markdown",
      "source": [
        "#### Con la funcion concatenate unimos los valores del nuevo array dentro del array anteriormente creado y los colocamos en la ultiima posicion"
      ],
      "metadata": {
        "id": "3iQc-6zI42w3"
      }
    },
    {
      "cell_type": "code",
      "source": [
        "final = np.concatenate((array1, mean_array), axis=1)\n",
        "final"
      ],
      "metadata": {
        "colab": {
          "base_uri": "https://localhost:8080/"
        },
        "id": "rrJl9IjXuEtM",
        "outputId": "6c962dfc-ab1f-4fd3-9124-6e27ff26ce42"
      },
      "execution_count": 43,
      "outputs": [
        {
          "output_type": "execute_result",
          "data": {
            "text/plain": [
              "array([['11111111', 'Alumno 1', 'TI11', '1', '8', '1', '7', '2',\n",
              "        'regular', '3.8'],\n",
              "       ['11111112', 'Alumno 2', 'TI11', '10', '7', '1', '8', '5',\n",
              "        'regular', '6.959999999999999'],\n",
              "       ['11111113', 'Alumno 3', 'TI11', '4', '1', '1', '3', '0',\n",
              "        'regular', '3.1919999999999997'],\n",
              "       ['11111114', 'Alumno 4', 'TI11', '5', '4', '3', '2', '7',\n",
              "        'regular', '4.8384'],\n",
              "       ['11111115', 'Alumno 5', 'TI11', '9', '10', '3', '9', '2',\n",
              "        'regular', '7.56768'],\n",
              "       ['11111116', 'Alumno 6', 'TI11', '1', '3', '8', '1', '7',\n",
              "        'regular', '5.513536'],\n",
              "       ['11111117', 'Alumno 7', 'TI11', '4', '7', '1', '6', '5',\n",
              "        'regular', '5.702707200000001'],\n",
              "       ['11111118', 'Alumno 8', 'TI11', '10', '1', '7', '10', '0',\n",
              "        'regular', '6.740541439999999'],\n",
              "       ['11111119', 'Alumno 9', 'TI11', '5', '5', '4', '0', '3',\n",
              "        'regular', '4.748108288'],\n",
              "       ['11111120', 'Alumno 10', 'TI11', '5', '7', '3', '3', '4',\n",
              "        'regular', '5.3496216576'],\n",
              "       ['11111121', 'Alumno 11', 'TI11', '6', '1', '3', '7', '0',\n",
              "        'regular', '4.46992433152'],\n",
              "       ['11111122', 'Alumno 12', 'TI11', '7', '2', '5', '4', '5',\n",
              "        'regular', '5.493984866303999'],\n",
              "       ['11111123', 'Alumno 13', 'TI12', '5', '2', '3', '0', '1',\n",
              "        'regular', '3.2987969732608002'],\n",
              "       ['11111124', 'Alumno 14', 'TI12', '5', '2', '10', '0', '6',\n",
              "        'regular', '5.25975939465216'],\n",
              "       ['11111125', 'Alumno 15', 'TI12', '9', '9', '1', '3', '1',\n",
              "        'regular', '5.651951878930432'],\n",
              "       ['11111126', 'Alumno 16', 'TI12', '1', '2', '1', '7', '7',\n",
              "        'regular', '4.730390375786087'],\n",
              "       ['11111127', 'Alumno 17', 'TI12', '0', '2', '1', '0', '2',\n",
              "        'regular', '1.9460780751572173'],\n",
              "       ['11111128', 'Alumno 18', 'TI12', '0', '1', '4', '7', '6',\n",
              "        'regular', '3.9892156150314433'],\n",
              "       ['11111129', 'Alumno 19', 'TI12', '0', '8', '7', '8', '2',\n",
              "        'regular', '5.797843123006289'],\n",
              "       ['11111130', 'Alumno 20', 'TI12', '4', '0', '5', '0', '4',\n",
              "        'regular', '3.7595686246012576'],\n",
              "       ['11111131', 'Alumno 21', 'TI12', '6', '4', '2', '10', '10',\n",
              "        'regular', '7.151913724920251'],\n",
              "       ['11111132', 'Alumno 22', 'TI12', '5', '6', '9', '0', '3',\n",
              "        'regular', '6.030382744984051'],\n",
              "       ['11111133', 'Alumno 23', 'TI12', '1', '9', '7', '7', '6',\n",
              "        'regular', '7.20607654899681'],\n",
              "       ['11111134', 'Alumno 24', 'TI41', '4', '0', '10', '7', '0',\n",
              "        'regular', '5.641215309799362'],\n",
              "       ['11111135', 'Alumno 25', 'TI41', '3', '3', '0', '8', '5',\n",
              "        'regular', '4.928243061959873'],\n",
              "       ['11111136', 'Alumno 26', 'TI41', '0', '5', '7', '2', '1',\n",
              "        'regular', '3.9856486123919743'],\n",
              "       ['11111137', 'Alumno 27', 'TI41', '0', '0', '6', '0', '5',\n",
              "        'regular', '2.997129722478395'],\n",
              "       ['11111138', 'Alumno 28', 'TI41', '9', '3', '10', '9', '6',\n",
              "        'regular', '7.999425944495679'],\n",
              "       ['11111139', 'Alumno 29', 'TI41', '0', '5', '1', '10', '1',\n",
              "        'regular', '4.999885188899135'],\n",
              "       ['11111140', 'Alumno 30', 'TI41', '3', '3', '5', '9', '9',\n",
              "        'regular', '6.799977037779827'],\n",
              "       ['11111141', 'Alumno 31', 'TI41', '10', '10', '4', '1', '4',\n",
              "        'regular', '7.159995407555965'],\n",
              "       ['11111142', 'Alumno 32', 'TI41', '6', '0', '5', '3', '2',\n",
              "        'regular', '4.631999081511193'],\n",
              "       ['11111143', 'Alumno 33', 'IDGS91', '0', '4', '1', '7', '9',\n",
              "        'regular', '5.126399816302238'],\n",
              "       ['11111144', 'Alumno 34', 'IDGS91', '1', '1', '2', '3', '8',\n",
              "        'regular', '4.025279963260448'],\n",
              "       ['11111145', 'Alumno 35', 'IDGS91', '0', '7', '10', '7', '7',\n",
              "        'regular', '7.005055992652089'],\n",
              "       ['11111146', 'Alumno 36', 'IDGS91', '7', '1', '4', '0', '6',\n",
              "        'regular', '5.001011198530418'],\n",
              "       ['11111147', 'Alumno 37', 'IDGS91', '6', '6', '4', '3', '0',\n",
              "        'regular', '4.800202239706083'],\n",
              "       ['11111148', 'Alumno 38', 'IDGS91', '0', '6', '6', '3', '5',\n",
              "        'regular', '4.960040447941216'],\n",
              "       ['11111149', 'Alumno 39', 'IDGS91', '8', '7', '9', '5', '2',\n",
              "        'regular', '7.192008089588244'],\n",
              "       ['11111150', 'Alumno 40', 'IDGS91', '1', '0', '3', '4', '10',\n",
              "        'regular', '5.038401617917648'],\n",
              "       ['11111151', 'Alumno 41', 'IDGS91', '6', '5', '1', '5', '9',\n",
              "        'regular', '6.20768032358353'],\n",
              "       ['11111152', 'Alumno 42', 'IDGS91', '2', '0', '9', '9', '5',\n",
              "        'regular', '6.241536064716707'],\n",
              "       ['11111153', 'Alumno 43', 'IDGS91', '3', '4', '0', '0', '0',\n",
              "        'regular', '2.648307212943341'],\n",
              "       ['11111154', 'Alumno 44', 'IDGS91', '3', '1', '1', '7', '10',\n",
              "        'regular', '4.929661442588668'],\n",
              "       ['11111155', 'Alumno 45', 'IDGS91', '4', '1', '2', '8', '6',\n",
              "        'regular', '5.1859322885177335'],\n",
              "       ['11111156', 'Alumno 46', 'IDGS71', '10', '1', '10', '0', '7',\n",
              "        'regular', '6.637186457703547'],\n",
              "       ['11111157', 'Alumno 47', 'IDGS71', '9', '10', '1', '3', '9',\n",
              "        'regular', '7.72743729154071'],\n",
              "       ['11111158', 'Alumno 48', 'IDGS71', '4', '4', '10', '6', '8',\n",
              "        'regular', '7.945487458308142']], dtype='<U32')"
            ]
          },
          "metadata": {},
          "execution_count": 43
        }
      ]
    },
    {
      "cell_type": "markdown",
      "source": [
        "### Con la funcion insert colocamos todos los encabezados dentro del nuevo array y los ubicamos en la primera posicion dentro del array."
      ],
      "metadata": {
        "id": "kWLMiKAQ5FT7"
      }
    },
    {
      "cell_type": "code",
      "source": [
        "add = np.insert(final, 0, [\"Matricula\", \"Nombre\", \"Grupo\", \"Materia 1\", \"Materia 2\", \"Materia 3\", \"Materia 4\", \"Materia 5\", \"Estado\",\"Promedio\"], axis=0)\n",
        "add"
      ],
      "metadata": {
        "colab": {
          "base_uri": "https://localhost:8080/"
        },
        "id": "iceLHpLJu47z",
        "outputId": "578fdce8-18af-4e6d-ee81-7f10af57e6ac"
      },
      "execution_count": 44,
      "outputs": [
        {
          "output_type": "execute_result",
          "data": {
            "text/plain": [
              "array([['Matricula', 'Nombre', 'Grupo', 'Materia 1', 'Materia 2',\n",
              "        'Materia 3', 'Materia 4', 'Materia 5', 'Estado', 'Promedio'],\n",
              "       ['11111111', 'Alumno 1', 'TI11', '1', '8', '1', '7', '2',\n",
              "        'regular', '3.8'],\n",
              "       ['11111112', 'Alumno 2', 'TI11', '10', '7', '1', '8', '5',\n",
              "        'regular', '6.959999999999999'],\n",
              "       ['11111113', 'Alumno 3', 'TI11', '4', '1', '1', '3', '0',\n",
              "        'regular', '3.1919999999999997'],\n",
              "       ['11111114', 'Alumno 4', 'TI11', '5', '4', '3', '2', '7',\n",
              "        'regular', '4.8384'],\n",
              "       ['11111115', 'Alumno 5', 'TI11', '9', '10', '3', '9', '2',\n",
              "        'regular', '7.56768'],\n",
              "       ['11111116', 'Alumno 6', 'TI11', '1', '3', '8', '1', '7',\n",
              "        'regular', '5.513536'],\n",
              "       ['11111117', 'Alumno 7', 'TI11', '4', '7', '1', '6', '5',\n",
              "        'regular', '5.702707200000001'],\n",
              "       ['11111118', 'Alumno 8', 'TI11', '10', '1', '7', '10', '0',\n",
              "        'regular', '6.740541439999999'],\n",
              "       ['11111119', 'Alumno 9', 'TI11', '5', '5', '4', '0', '3',\n",
              "        'regular', '4.748108288'],\n",
              "       ['11111120', 'Alumno 10', 'TI11', '5', '7', '3', '3', '4',\n",
              "        'regular', '5.3496216576'],\n",
              "       ['11111121', 'Alumno 11', 'TI11', '6', '1', '3', '7', '0',\n",
              "        'regular', '4.46992433152'],\n",
              "       ['11111122', 'Alumno 12', 'TI11', '7', '2', '5', '4', '5',\n",
              "        'regular', '5.493984866303999'],\n",
              "       ['11111123', 'Alumno 13', 'TI12', '5', '2', '3', '0', '1',\n",
              "        'regular', '3.2987969732608002'],\n",
              "       ['11111124', 'Alumno 14', 'TI12', '5', '2', '10', '0', '6',\n",
              "        'regular', '5.25975939465216'],\n",
              "       ['11111125', 'Alumno 15', 'TI12', '9', '9', '1', '3', '1',\n",
              "        'regular', '5.651951878930432'],\n",
              "       ['11111126', 'Alumno 16', 'TI12', '1', '2', '1', '7', '7',\n",
              "        'regular', '4.730390375786087'],\n",
              "       ['11111127', 'Alumno 17', 'TI12', '0', '2', '1', '0', '2',\n",
              "        'regular', '1.9460780751572173'],\n",
              "       ['11111128', 'Alumno 18', 'TI12', '0', '1', '4', '7', '6',\n",
              "        'regular', '3.9892156150314433'],\n",
              "       ['11111129', 'Alumno 19', 'TI12', '0', '8', '7', '8', '2',\n",
              "        'regular', '5.797843123006289'],\n",
              "       ['11111130', 'Alumno 20', 'TI12', '4', '0', '5', '0', '4',\n",
              "        'regular', '3.7595686246012576'],\n",
              "       ['11111131', 'Alumno 21', 'TI12', '6', '4', '2', '10', '10',\n",
              "        'regular', '7.151913724920251'],\n",
              "       ['11111132', 'Alumno 22', 'TI12', '5', '6', '9', '0', '3',\n",
              "        'regular', '6.030382744984051'],\n",
              "       ['11111133', 'Alumno 23', 'TI12', '1', '9', '7', '7', '6',\n",
              "        'regular', '7.20607654899681'],\n",
              "       ['11111134', 'Alumno 24', 'TI41', '4', '0', '10', '7', '0',\n",
              "        'regular', '5.641215309799362'],\n",
              "       ['11111135', 'Alumno 25', 'TI41', '3', '3', '0', '8', '5',\n",
              "        'regular', '4.928243061959873'],\n",
              "       ['11111136', 'Alumno 26', 'TI41', '0', '5', '7', '2', '1',\n",
              "        'regular', '3.9856486123919743'],\n",
              "       ['11111137', 'Alumno 27', 'TI41', '0', '0', '6', '0', '5',\n",
              "        'regular', '2.997129722478395'],\n",
              "       ['11111138', 'Alumno 28', 'TI41', '9', '3', '10', '9', '6',\n",
              "        'regular', '7.999425944495679'],\n",
              "       ['11111139', 'Alumno 29', 'TI41', '0', '5', '1', '10', '1',\n",
              "        'regular', '4.999885188899135'],\n",
              "       ['11111140', 'Alumno 30', 'TI41', '3', '3', '5', '9', '9',\n",
              "        'regular', '6.799977037779827'],\n",
              "       ['11111141', 'Alumno 31', 'TI41', '10', '10', '4', '1', '4',\n",
              "        'regular', '7.159995407555965'],\n",
              "       ['11111142', 'Alumno 32', 'TI41', '6', '0', '5', '3', '2',\n",
              "        'regular', '4.631999081511193'],\n",
              "       ['11111143', 'Alumno 33', 'IDGS91', '0', '4', '1', '7', '9',\n",
              "        'regular', '5.126399816302238'],\n",
              "       ['11111144', 'Alumno 34', 'IDGS91', '1', '1', '2', '3', '8',\n",
              "        'regular', '4.025279963260448'],\n",
              "       ['11111145', 'Alumno 35', 'IDGS91', '0', '7', '10', '7', '7',\n",
              "        'regular', '7.005055992652089'],\n",
              "       ['11111146', 'Alumno 36', 'IDGS91', '7', '1', '4', '0', '6',\n",
              "        'regular', '5.001011198530418'],\n",
              "       ['11111147', 'Alumno 37', 'IDGS91', '6', '6', '4', '3', '0',\n",
              "        'regular', '4.800202239706083'],\n",
              "       ['11111148', 'Alumno 38', 'IDGS91', '0', '6', '6', '3', '5',\n",
              "        'regular', '4.960040447941216'],\n",
              "       ['11111149', 'Alumno 39', 'IDGS91', '8', '7', '9', '5', '2',\n",
              "        'regular', '7.192008089588244'],\n",
              "       ['11111150', 'Alumno 40', 'IDGS91', '1', '0', '3', '4', '10',\n",
              "        'regular', '5.038401617917648'],\n",
              "       ['11111151', 'Alumno 41', 'IDGS91', '6', '5', '1', '5', '9',\n",
              "        'regular', '6.20768032358353'],\n",
              "       ['11111152', 'Alumno 42', 'IDGS91', '2', '0', '9', '9', '5',\n",
              "        'regular', '6.241536064716707'],\n",
              "       ['11111153', 'Alumno 43', 'IDGS91', '3', '4', '0', '0', '0',\n",
              "        'regular', '2.648307212943341'],\n",
              "       ['11111154', 'Alumno 44', 'IDGS91', '3', '1', '1', '7', '10',\n",
              "        'regular', '4.929661442588668'],\n",
              "       ['11111155', 'Alumno 45', 'IDGS91', '4', '1', '2', '8', '6',\n",
              "        'regular', '5.1859322885177335'],\n",
              "       ['11111156', 'Alumno 46', 'IDGS71', '10', '1', '10', '0', '7',\n",
              "        'regular', '6.637186457703547'],\n",
              "       ['11111157', 'Alumno 47', 'IDGS71', '9', '10', '1', '3', '9',\n",
              "        'regular', '7.72743729154071'],\n",
              "       ['11111158', 'Alumno 48', 'IDGS71', '4', '4', '10', '6', '8',\n",
              "        'regular', '7.945487458308142']], dtype='<U32')"
            ]
          },
          "metadata": {},
          "execution_count": 44
        }
      ]
    },
    {
      "cell_type": "markdown",
      "source": [
        "#### Exportamos el array ya creado en un archvivo separado por comas y lo guardamos con la funcion savetxt"
      ],
      "metadata": {
        "id": "8pBsNl_l5ctE"
      }
    },
    {
      "cell_type": "code",
      "source": [
        "np.savetxt(\"calificaciones_promedio_v1.csv\", add, fmt=\"%s\", delimiter=\",\")"
      ],
      "metadata": {
        "id": "jvUqrVvUuSs1"
      },
      "execution_count": 45,
      "outputs": []
    }
  ]
}