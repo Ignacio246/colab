{
  "nbformat": 4,
  "nbformat_minor": 0,
  "metadata": {
    "colab": {
      "provenance": [],
      "authorship_tag": "ABX9TyNu+Zlaofn/uEIl+C6LTUyi",
      "include_colab_link": true
    },
    "kernelspec": {
      "name": "python3",
      "display_name": "Python 3"
    },
    "language_info": {
      "name": "python"
    }
  },
  "cells": [
    {
      "cell_type": "markdown",
      "metadata": {
        "id": "view-in-github",
        "colab_type": "text"
      },
      "source": [
        "<a href=\"https://colab.research.google.com/github/Ignacio246/colab/blob/main/Actividad_2_3.ipynb\" target=\"_parent\"><img src=\"https://colab.research.google.com/assets/colab-badge.svg\" alt=\"Open In Colab\"/></a>"
      ]
    },
    {
      "cell_type": "code",
      "execution_count": 138,
      "metadata": {
        "colab": {
          "base_uri": "https://localhost:8080/"
        },
        "id": "Ryvbn7B-m-re",
        "outputId": "03afa9d2-6116-4615-ae57-a357849ddc2d"
      },
      "outputs": [
        {
          "output_type": "stream",
          "name": "stdout",
          "text": [
            "Looking in indexes: https://pypi.org/simple, https://us-python.pkg.dev/colab-wheels/public/simple/\n",
            "Requirement already satisfied: numpy in /usr/local/lib/python3.7/dist-packages (1.21.6)\n"
          ]
        }
      ],
      "source": [
        "pip install numpy"
      ]
    },
    {
      "cell_type": "code",
      "source": [
        "#Importar las librerias que se ocuparan\n",
        "import numpy as np\n",
        "import csv"
      ],
      "metadata": {
        "id": "jFsF5pyvnAny"
      },
      "execution_count": 139,
      "outputs": []
    },
    {
      "cell_type": "code",
      "source": [
        "#Cargamos el archivo csv separado por comas\n",
        "array = np.loadtxt(\"calificaciones_v1.csv\", dtype=str, delimiter=\",\", usecols=1)\n",
        "array"
      ],
      "metadata": {
        "colab": {
          "base_uri": "https://localhost:8080/"
        },
        "id": "bn_vLjnXnFsR",
        "outputId": "8703a37c-bd73-4441-edaf-361670e5177f"
      },
      "execution_count": 140,
      "outputs": [
        {
          "output_type": "execute_result",
          "data": {
            "text/plain": [
              "array(['11111111', 'Alumno 1', 'TI11', '1', '8', '1', '7', '2', 'regular',\n",
              "       '11111112', 'Alumno 2', 'TI11', '10', '7', '1', '8', '5',\n",
              "       'regular', '11111113', 'Alumno 3', 'TI11', '4', '1', '1', '3', '0',\n",
              "       'regular', '11111114', 'Alumno 4', 'TI11', '5', '4', '3', '2', '7',\n",
              "       'regular', '11111115', 'Alumno 5', 'TI11', '9', '10', '3', '9',\n",
              "       '2', 'regular', '11111116', 'Alumno 6', 'TI11', '1', '3', '8', '1',\n",
              "       '7', 'regular', '11111117', 'Alumno 7', 'TI11', '4', '7', '1', '6',\n",
              "       '5', 'regular', '11111118', 'Alumno 8', 'TI11', '10', '1', '7',\n",
              "       '10', '0', 'regular', '11111119', 'Alumno 9', 'TI11', '5', '5',\n",
              "       '4', '0', '3', 'regular', '11111120', 'Alumno 10', 'TI11', '5',\n",
              "       '7', '3', '3', '4', 'regular', '11111121', 'Alumno 11', 'TI11',\n",
              "       '6', '1', '3', '7', '0', 'regular', '11111122', 'Alumno 12',\n",
              "       'TI11', '7', '2', '5', '4', '5', 'regular', '11111123',\n",
              "       'Alumno 13', 'TI12', '5', '2', '3', '0', '1', 'regular',\n",
              "       '11111124', 'Alumno 14', 'TI12', '5', '2', '10', '0', '6',\n",
              "       'regular', '11111125', 'Alumno 15', 'TI12', '9', '9', '1', '3',\n",
              "       '1', 'regular', '11111126', 'Alumno 16', 'TI12', '1', '2', '1',\n",
              "       '7', '7', 'regular', '11111127', 'Alumno 17', 'TI12', '0', '2',\n",
              "       '1', '0', '2', 'regular', '11111128', 'Alumno 18', 'TI12', '0',\n",
              "       '1', '4', '7', '6', 'regular', '11111129', 'Alumno 19', 'TI12',\n",
              "       '0', '8', '7', '8', '2', 'regular', '11111130', 'Alumno 20',\n",
              "       'TI12', '4', '0', '5', '0', '4', 'regular', '11111131',\n",
              "       'Alumno 21', 'TI12', '6', '4', '2', '10', '10', 'regular',\n",
              "       '11111132', 'Alumno 22', 'TI12', '5', '6', '9', '0', '3',\n",
              "       'regular', '11111133', 'Alumno 23', 'TI12', '1', '9', '7', '7',\n",
              "       '6', 'regular', '11111134', 'Alumno 24', 'TI41', '4', '0', '10',\n",
              "       '7', '0', 'regular', '11111135', 'Alumno 25', 'TI41', '3', '3',\n",
              "       '0', '8', '5', 'regular', '11111136', 'Alumno 26', 'TI41', '0',\n",
              "       '5', '7', '2', '1', 'regular', '11111137', 'Alumno 27', 'TI41',\n",
              "       '0', '0', '6', '0', '5', 'regular', '11111138', 'Alumno 28',\n",
              "       'TI41', '9', '3', '10', '9', '6', 'regular', '11111139',\n",
              "       'Alumno 29', 'TI41', '0', '5', '1', '10', '1', 'regular',\n",
              "       '11111140', 'Alumno 30', 'TI41', '3', '3', '5', '9', '9',\n",
              "       'regular', '11111141', 'Alumno 31', 'TI41', '10', '10', '4', '1',\n",
              "       '4', 'regular', '11111142', 'Alumno 32', 'TI41', '6', '0', '5',\n",
              "       '3', '2', 'regular', '11111143', 'Alumno 33', 'IDGS91', '0', '4',\n",
              "       '1', '7', '9', 'regular', '11111144', 'Alumno 34', 'IDGS91', '1',\n",
              "       '1', '2', '3', '8', 'regular', '11111145', 'Alumno 35', 'IDGS91',\n",
              "       '0', '7', '10', '7', '7', 'regular', '11111146', 'Alumno 36',\n",
              "       'IDGS91', '7', '1', '4', '0', '6', 'regular', '11111147',\n",
              "       'Alumno 37', 'IDGS91', '6', '6', '4', '3', '0', 'regular',\n",
              "       '11111148', 'Alumno 38', 'IDGS91', '0', '6', '6', '3', '5',\n",
              "       'regular', '11111149', 'Alumno 39', 'IDGS91', '8', '7', '9', '5',\n",
              "       '2', 'regular', '11111150', 'Alumno 40', 'IDGS91', '1', '0', '3',\n",
              "       '4', '10', 'regular', '11111151', 'Alumno 41', 'IDGS91', '6', '5',\n",
              "       '1', '5', '9', 'regular', '11111152', 'Alumno 42', 'IDGS91', '2',\n",
              "       '0', '9', '9', '5', 'regular', '11111153', 'Alumno 43', 'IDGS91',\n",
              "       '3', '4', '0', '0', '0', 'regular', '11111154', 'Alumno 44',\n",
              "       'IDGS91', '3', '1', '1', '7', '10', 'regular', '11111155',\n",
              "       'Alumno 45', 'IDGS91', '4', '1', '2', '8', '6', 'regular',\n",
              "       '11111156', 'Alumno 46', 'IDGS71', '10', '1', '10', '0', '7',\n",
              "       'regular', '11111157', 'Alumno 47', 'IDGS71', '9', '10', '1', '3',\n",
              "       '9', 'regular', '11111158', 'Alumno 48', 'IDGS71', '4', '4', '10',\n",
              "       '6', '8', 'regular'], dtype='<U9')"
            ]
          },
          "metadata": {},
          "execution_count": 140
        }
      ]
    },
    {
      "cell_type": "code",
      "source": [
        "#Imprimimos el archivo en un formato array con dimensiones de 1*1\n",
        "array = np.reshape(array, (len(array)//9, 9))\n",
        "array"
      ],
      "metadata": {
        "colab": {
          "base_uri": "https://localhost:8080/"
        },
        "id": "jGI2JWtqpid4",
        "outputId": "c5d02557-2c5b-420e-8776-6180eba304bd"
      },
      "execution_count": 141,
      "outputs": [
        {
          "output_type": "execute_result",
          "data": {
            "text/plain": [
              "array([['11111111', 'Alumno 1', 'TI11', '1', '8', '1', '7', '2',\n",
              "        'regular'],\n",
              "       ['11111112', 'Alumno 2', 'TI11', '10', '7', '1', '8', '5',\n",
              "        'regular'],\n",
              "       ['11111113', 'Alumno 3', 'TI11', '4', '1', '1', '3', '0',\n",
              "        'regular'],\n",
              "       ['11111114', 'Alumno 4', 'TI11', '5', '4', '3', '2', '7',\n",
              "        'regular'],\n",
              "       ['11111115', 'Alumno 5', 'TI11', '9', '10', '3', '9', '2',\n",
              "        'regular'],\n",
              "       ['11111116', 'Alumno 6', 'TI11', '1', '3', '8', '1', '7',\n",
              "        'regular'],\n",
              "       ['11111117', 'Alumno 7', 'TI11', '4', '7', '1', '6', '5',\n",
              "        'regular'],\n",
              "       ['11111118', 'Alumno 8', 'TI11', '10', '1', '7', '10', '0',\n",
              "        'regular'],\n",
              "       ['11111119', 'Alumno 9', 'TI11', '5', '5', '4', '0', '3',\n",
              "        'regular'],\n",
              "       ['11111120', 'Alumno 10', 'TI11', '5', '7', '3', '3', '4',\n",
              "        'regular'],\n",
              "       ['11111121', 'Alumno 11', 'TI11', '6', '1', '3', '7', '0',\n",
              "        'regular'],\n",
              "       ['11111122', 'Alumno 12', 'TI11', '7', '2', '5', '4', '5',\n",
              "        'regular'],\n",
              "       ['11111123', 'Alumno 13', 'TI12', '5', '2', '3', '0', '1',\n",
              "        'regular'],\n",
              "       ['11111124', 'Alumno 14', 'TI12', '5', '2', '10', '0', '6',\n",
              "        'regular'],\n",
              "       ['11111125', 'Alumno 15', 'TI12', '9', '9', '1', '3', '1',\n",
              "        'regular'],\n",
              "       ['11111126', 'Alumno 16', 'TI12', '1', '2', '1', '7', '7',\n",
              "        'regular'],\n",
              "       ['11111127', 'Alumno 17', 'TI12', '0', '2', '1', '0', '2',\n",
              "        'regular'],\n",
              "       ['11111128', 'Alumno 18', 'TI12', '0', '1', '4', '7', '6',\n",
              "        'regular'],\n",
              "       ['11111129', 'Alumno 19', 'TI12', '0', '8', '7', '8', '2',\n",
              "        'regular'],\n",
              "       ['11111130', 'Alumno 20', 'TI12', '4', '0', '5', '0', '4',\n",
              "        'regular'],\n",
              "       ['11111131', 'Alumno 21', 'TI12', '6', '4', '2', '10', '10',\n",
              "        'regular'],\n",
              "       ['11111132', 'Alumno 22', 'TI12', '5', '6', '9', '0', '3',\n",
              "        'regular'],\n",
              "       ['11111133', 'Alumno 23', 'TI12', '1', '9', '7', '7', '6',\n",
              "        'regular'],\n",
              "       ['11111134', 'Alumno 24', 'TI41', '4', '0', '10', '7', '0',\n",
              "        'regular'],\n",
              "       ['11111135', 'Alumno 25', 'TI41', '3', '3', '0', '8', '5',\n",
              "        'regular'],\n",
              "       ['11111136', 'Alumno 26', 'TI41', '0', '5', '7', '2', '1',\n",
              "        'regular'],\n",
              "       ['11111137', 'Alumno 27', 'TI41', '0', '0', '6', '0', '5',\n",
              "        'regular'],\n",
              "       ['11111138', 'Alumno 28', 'TI41', '9', '3', '10', '9', '6',\n",
              "        'regular'],\n",
              "       ['11111139', 'Alumno 29', 'TI41', '0', '5', '1', '10', '1',\n",
              "        'regular'],\n",
              "       ['11111140', 'Alumno 30', 'TI41', '3', '3', '5', '9', '9',\n",
              "        'regular'],\n",
              "       ['11111141', 'Alumno 31', 'TI41', '10', '10', '4', '1', '4',\n",
              "        'regular'],\n",
              "       ['11111142', 'Alumno 32', 'TI41', '6', '0', '5', '3', '2',\n",
              "        'regular'],\n",
              "       ['11111143', 'Alumno 33', 'IDGS91', '0', '4', '1', '7', '9',\n",
              "        'regular'],\n",
              "       ['11111144', 'Alumno 34', 'IDGS91', '1', '1', '2', '3', '8',\n",
              "        'regular'],\n",
              "       ['11111145', 'Alumno 35', 'IDGS91', '0', '7', '10', '7', '7',\n",
              "        'regular'],\n",
              "       ['11111146', 'Alumno 36', 'IDGS91', '7', '1', '4', '0', '6',\n",
              "        'regular'],\n",
              "       ['11111147', 'Alumno 37', 'IDGS91', '6', '6', '4', '3', '0',\n",
              "        'regular'],\n",
              "       ['11111148', 'Alumno 38', 'IDGS91', '0', '6', '6', '3', '5',\n",
              "        'regular'],\n",
              "       ['11111149', 'Alumno 39', 'IDGS91', '8', '7', '9', '5', '2',\n",
              "        'regular'],\n",
              "       ['11111150', 'Alumno 40', 'IDGS91', '1', '0', '3', '4', '10',\n",
              "        'regular'],\n",
              "       ['11111151', 'Alumno 41', 'IDGS91', '6', '5', '1', '5', '9',\n",
              "        'regular'],\n",
              "       ['11111152', 'Alumno 42', 'IDGS91', '2', '0', '9', '9', '5',\n",
              "        'regular'],\n",
              "       ['11111153', 'Alumno 43', 'IDGS91', '3', '4', '0', '0', '0',\n",
              "        'regular'],\n",
              "       ['11111154', 'Alumno 44', 'IDGS91', '3', '1', '1', '7', '10',\n",
              "        'regular'],\n",
              "       ['11111155', 'Alumno 45', 'IDGS91', '4', '1', '2', '8', '6',\n",
              "        'regular'],\n",
              "       ['11111156', 'Alumno 46', 'IDGS71', '10', '1', '10', '0', '7',\n",
              "        'regular'],\n",
              "       ['11111157', 'Alumno 47', 'IDGS71', '9', '10', '1', '3', '9',\n",
              "        'regular'],\n",
              "       ['11111158', 'Alumno 48', 'IDGS71', '4', '4', '10', '6', '8',\n",
              "        'regular']], dtype='<U9')"
            ]
          },
          "metadata": {},
          "execution_count": 141
        }
      ]
    },
    {
      "cell_type": "code",
      "source": [
        "#Se hace el calculo de del promedio por cada uno de los valores por fila y se hace un parseo para convertir de string a int(float)\n",
        "array_promedio = np.array([])\n",
        "promedio = 0\n",
        "contador = 0\n",
        "for i in array:\n",
        "    promedio = promedio + int(float(i[3]))\n",
        "    promedio = promedio + int(float(i[4]))\n",
        "    promedio = promedio + int(float(i[5]))\n",
        "    promedio = promedio + int(float(i[6]))\n",
        "    promedio = promedio + int(float(i[7]))\n",
        "    promedio = promedio/5\n",
        "    array_promedio = np.append(array_promedio, promedio)\n",
        "    contador = contador + 1"
      ],
      "metadata": {
        "id": "tSL_ToLpvSwG"
      },
      "execution_count": 142,
      "outputs": []
    },
    {
      "cell_type": "code",
      "source": [
        "#Se almacena el valor de promedio dentro de un nuevo array\n",
        "array_promedio = np.reshape(array_promedio, (len(array_promedio), 1))\n",
        "array_promedio"
      ],
      "metadata": {
        "colab": {
          "base_uri": "https://localhost:8080/"
        },
        "id": "E6FPxzbKvX6n",
        "outputId": "dcb39f3f-6cb8-43eb-ba54-e486056a6b24"
      },
      "execution_count": 143,
      "outputs": [
        {
          "output_type": "execute_result",
          "data": {
            "text/plain": [
              "array([[3.8       ],\n",
              "       [6.96      ],\n",
              "       [3.192     ],\n",
              "       [4.8384    ],\n",
              "       [7.56768   ],\n",
              "       [5.513536  ],\n",
              "       [5.7027072 ],\n",
              "       [6.74054144],\n",
              "       [4.74810829],\n",
              "       [5.34962166],\n",
              "       [4.46992433],\n",
              "       [5.49398487],\n",
              "       [3.29879697],\n",
              "       [5.25975939],\n",
              "       [5.65195188],\n",
              "       [4.73039038],\n",
              "       [1.94607808],\n",
              "       [3.98921562],\n",
              "       [5.79784312],\n",
              "       [3.75956862],\n",
              "       [7.15191372],\n",
              "       [6.03038274],\n",
              "       [7.20607655],\n",
              "       [5.64121531],\n",
              "       [4.92824306],\n",
              "       [3.98564861],\n",
              "       [2.99712972],\n",
              "       [7.99942594],\n",
              "       [4.99988519],\n",
              "       [6.79997704],\n",
              "       [7.15999541],\n",
              "       [4.63199908],\n",
              "       [5.12639982],\n",
              "       [4.02527996],\n",
              "       [7.00505599],\n",
              "       [5.0010112 ],\n",
              "       [4.80020224],\n",
              "       [4.96004045],\n",
              "       [7.19200809],\n",
              "       [5.03840162],\n",
              "       [6.20768032],\n",
              "       [6.24153606],\n",
              "       [2.64830721],\n",
              "       [4.92966144],\n",
              "       [5.18593229],\n",
              "       [6.63718646],\n",
              "       [7.72743729],\n",
              "       [7.94548746]])"
            ]
          },
          "metadata": {},
          "execution_count": 143
        }
      ]
    },
    {
      "cell_type": "code",
      "source": [
        "#Se une el array del promedio con el array anterior\n",
        "array = np.concatenate((array, array_promedio), axis=1)\n",
        "array"
      ],
      "metadata": {
        "colab": {
          "base_uri": "https://localhost:8080/"
        },
        "id": "b-pIaAQcvbnw",
        "outputId": "e42510d8-063a-448e-b696-99c7a30f325e"
      },
      "execution_count": 144,
      "outputs": [
        {
          "output_type": "execute_result",
          "data": {
            "text/plain": [
              "array([['11111111', 'Alumno 1', 'TI11', '1', '8', '1', '7', '2',\n",
              "        'regular', '3.8'],\n",
              "       ['11111112', 'Alumno 2', 'TI11', '10', '7', '1', '8', '5',\n",
              "        'regular', '6.959999999999999'],\n",
              "       ['11111113', 'Alumno 3', 'TI11', '4', '1', '1', '3', '0',\n",
              "        'regular', '3.1919999999999997'],\n",
              "       ['11111114', 'Alumno 4', 'TI11', '5', '4', '3', '2', '7',\n",
              "        'regular', '4.8384'],\n",
              "       ['11111115', 'Alumno 5', 'TI11', '9', '10', '3', '9', '2',\n",
              "        'regular', '7.56768'],\n",
              "       ['11111116', 'Alumno 6', 'TI11', '1', '3', '8', '1', '7',\n",
              "        'regular', '5.513536'],\n",
              "       ['11111117', 'Alumno 7', 'TI11', '4', '7', '1', '6', '5',\n",
              "        'regular', '5.702707200000001'],\n",
              "       ['11111118', 'Alumno 8', 'TI11', '10', '1', '7', '10', '0',\n",
              "        'regular', '6.740541439999999'],\n",
              "       ['11111119', 'Alumno 9', 'TI11', '5', '5', '4', '0', '3',\n",
              "        'regular', '4.748108288'],\n",
              "       ['11111120', 'Alumno 10', 'TI11', '5', '7', '3', '3', '4',\n",
              "        'regular', '5.3496216576'],\n",
              "       ['11111121', 'Alumno 11', 'TI11', '6', '1', '3', '7', '0',\n",
              "        'regular', '4.46992433152'],\n",
              "       ['11111122', 'Alumno 12', 'TI11', '7', '2', '5', '4', '5',\n",
              "        'regular', '5.493984866303999'],\n",
              "       ['11111123', 'Alumno 13', 'TI12', '5', '2', '3', '0', '1',\n",
              "        'regular', '3.2987969732608002'],\n",
              "       ['11111124', 'Alumno 14', 'TI12', '5', '2', '10', '0', '6',\n",
              "        'regular', '5.25975939465216'],\n",
              "       ['11111125', 'Alumno 15', 'TI12', '9', '9', '1', '3', '1',\n",
              "        'regular', '5.651951878930432'],\n",
              "       ['11111126', 'Alumno 16', 'TI12', '1', '2', '1', '7', '7',\n",
              "        'regular', '4.730390375786087'],\n",
              "       ['11111127', 'Alumno 17', 'TI12', '0', '2', '1', '0', '2',\n",
              "        'regular', '1.9460780751572173'],\n",
              "       ['11111128', 'Alumno 18', 'TI12', '0', '1', '4', '7', '6',\n",
              "        'regular', '3.9892156150314433'],\n",
              "       ['11111129', 'Alumno 19', 'TI12', '0', '8', '7', '8', '2',\n",
              "        'regular', '5.797843123006289'],\n",
              "       ['11111130', 'Alumno 20', 'TI12', '4', '0', '5', '0', '4',\n",
              "        'regular', '3.7595686246012576'],\n",
              "       ['11111131', 'Alumno 21', 'TI12', '6', '4', '2', '10', '10',\n",
              "        'regular', '7.151913724920251'],\n",
              "       ['11111132', 'Alumno 22', 'TI12', '5', '6', '9', '0', '3',\n",
              "        'regular', '6.030382744984051'],\n",
              "       ['11111133', 'Alumno 23', 'TI12', '1', '9', '7', '7', '6',\n",
              "        'regular', '7.20607654899681'],\n",
              "       ['11111134', 'Alumno 24', 'TI41', '4', '0', '10', '7', '0',\n",
              "        'regular', '5.641215309799362'],\n",
              "       ['11111135', 'Alumno 25', 'TI41', '3', '3', '0', '8', '5',\n",
              "        'regular', '4.928243061959873'],\n",
              "       ['11111136', 'Alumno 26', 'TI41', '0', '5', '7', '2', '1',\n",
              "        'regular', '3.9856486123919743'],\n",
              "       ['11111137', 'Alumno 27', 'TI41', '0', '0', '6', '0', '5',\n",
              "        'regular', '2.997129722478395'],\n",
              "       ['11111138', 'Alumno 28', 'TI41', '9', '3', '10', '9', '6',\n",
              "        'regular', '7.999425944495679'],\n",
              "       ['11111139', 'Alumno 29', 'TI41', '0', '5', '1', '10', '1',\n",
              "        'regular', '4.999885188899135'],\n",
              "       ['11111140', 'Alumno 30', 'TI41', '3', '3', '5', '9', '9',\n",
              "        'regular', '6.799977037779827'],\n",
              "       ['11111141', 'Alumno 31', 'TI41', '10', '10', '4', '1', '4',\n",
              "        'regular', '7.159995407555965'],\n",
              "       ['11111142', 'Alumno 32', 'TI41', '6', '0', '5', '3', '2',\n",
              "        'regular', '4.631999081511193'],\n",
              "       ['11111143', 'Alumno 33', 'IDGS91', '0', '4', '1', '7', '9',\n",
              "        'regular', '5.126399816302238'],\n",
              "       ['11111144', 'Alumno 34', 'IDGS91', '1', '1', '2', '3', '8',\n",
              "        'regular', '4.025279963260448'],\n",
              "       ['11111145', 'Alumno 35', 'IDGS91', '0', '7', '10', '7', '7',\n",
              "        'regular', '7.005055992652089'],\n",
              "       ['11111146', 'Alumno 36', 'IDGS91', '7', '1', '4', '0', '6',\n",
              "        'regular', '5.001011198530418'],\n",
              "       ['11111147', 'Alumno 37', 'IDGS91', '6', '6', '4', '3', '0',\n",
              "        'regular', '4.800202239706083'],\n",
              "       ['11111148', 'Alumno 38', 'IDGS91', '0', '6', '6', '3', '5',\n",
              "        'regular', '4.960040447941216'],\n",
              "       ['11111149', 'Alumno 39', 'IDGS91', '8', '7', '9', '5', '2',\n",
              "        'regular', '7.192008089588244'],\n",
              "       ['11111150', 'Alumno 40', 'IDGS91', '1', '0', '3', '4', '10',\n",
              "        'regular', '5.038401617917648'],\n",
              "       ['11111151', 'Alumno 41', 'IDGS91', '6', '5', '1', '5', '9',\n",
              "        'regular', '6.20768032358353'],\n",
              "       ['11111152', 'Alumno 42', 'IDGS91', '2', '0', '9', '9', '5',\n",
              "        'regular', '6.241536064716707'],\n",
              "       ['11111153', 'Alumno 43', 'IDGS91', '3', '4', '0', '0', '0',\n",
              "        'regular', '2.648307212943341'],\n",
              "       ['11111154', 'Alumno 44', 'IDGS91', '3', '1', '1', '7', '10',\n",
              "        'regular', '4.929661442588668'],\n",
              "       ['11111155', 'Alumno 45', 'IDGS91', '4', '1', '2', '8', '6',\n",
              "        'regular', '5.1859322885177335'],\n",
              "       ['11111156', 'Alumno 46', 'IDGS71', '10', '1', '10', '0', '7',\n",
              "        'regular', '6.637186457703547'],\n",
              "       ['11111157', 'Alumno 47', 'IDGS71', '9', '10', '1', '3', '9',\n",
              "        'regular', '7.72743729154071'],\n",
              "       ['11111158', 'Alumno 48', 'IDGS71', '4', '4', '10', '6', '8',\n",
              "        'regular', '7.945487458308142']], dtype='<U32')"
            ]
          },
          "metadata": {},
          "execution_count": 144
        }
      ]
    },
    {
      "cell_type": "code",
      "source": [
        "#Se agregan todos los headers del archivo csv en la primera poso¿icion del array\n",
        "array = np.insert(array, 0, [\"Matricula\", \"Nombre\", \"Grupo\", \"Materia 1\", \"Materia 2\", \"Materia 3\", \"Materia 4\", \"Materia 5\", \"Estado\", \"Promedio\"], axis=0)\n",
        "array"
      ],
      "metadata": {
        "colab": {
          "base_uri": "https://localhost:8080/"
        },
        "id": "MHIxUM75vjEG",
        "outputId": "a74cd965-4196-4647-845e-21f2e9e3100b"
      },
      "execution_count": 145,
      "outputs": [
        {
          "output_type": "execute_result",
          "data": {
            "text/plain": [
              "array([['Matricula', 'Nombre', 'Grupo', 'Materia 1', 'Materia 2',\n",
              "        'Materia 3', 'Materia 4', 'Materia 5', 'Estado', 'Promedio'],\n",
              "       ['11111111', 'Alumno 1', 'TI11', '1', '8', '1', '7', '2',\n",
              "        'regular', '3.8'],\n",
              "       ['11111112', 'Alumno 2', 'TI11', '10', '7', '1', '8', '5',\n",
              "        'regular', '6.959999999999999'],\n",
              "       ['11111113', 'Alumno 3', 'TI11', '4', '1', '1', '3', '0',\n",
              "        'regular', '3.1919999999999997'],\n",
              "       ['11111114', 'Alumno 4', 'TI11', '5', '4', '3', '2', '7',\n",
              "        'regular', '4.8384'],\n",
              "       ['11111115', 'Alumno 5', 'TI11', '9', '10', '3', '9', '2',\n",
              "        'regular', '7.56768'],\n",
              "       ['11111116', 'Alumno 6', 'TI11', '1', '3', '8', '1', '7',\n",
              "        'regular', '5.513536'],\n",
              "       ['11111117', 'Alumno 7', 'TI11', '4', '7', '1', '6', '5',\n",
              "        'regular', '5.702707200000001'],\n",
              "       ['11111118', 'Alumno 8', 'TI11', '10', '1', '7', '10', '0',\n",
              "        'regular', '6.740541439999999'],\n",
              "       ['11111119', 'Alumno 9', 'TI11', '5', '5', '4', '0', '3',\n",
              "        'regular', '4.748108288'],\n",
              "       ['11111120', 'Alumno 10', 'TI11', '5', '7', '3', '3', '4',\n",
              "        'regular', '5.3496216576'],\n",
              "       ['11111121', 'Alumno 11', 'TI11', '6', '1', '3', '7', '0',\n",
              "        'regular', '4.46992433152'],\n",
              "       ['11111122', 'Alumno 12', 'TI11', '7', '2', '5', '4', '5',\n",
              "        'regular', '5.493984866303999'],\n",
              "       ['11111123', 'Alumno 13', 'TI12', '5', '2', '3', '0', '1',\n",
              "        'regular', '3.2987969732608002'],\n",
              "       ['11111124', 'Alumno 14', 'TI12', '5', '2', '10', '0', '6',\n",
              "        'regular', '5.25975939465216'],\n",
              "       ['11111125', 'Alumno 15', 'TI12', '9', '9', '1', '3', '1',\n",
              "        'regular', '5.651951878930432'],\n",
              "       ['11111126', 'Alumno 16', 'TI12', '1', '2', '1', '7', '7',\n",
              "        'regular', '4.730390375786087'],\n",
              "       ['11111127', 'Alumno 17', 'TI12', '0', '2', '1', '0', '2',\n",
              "        'regular', '1.9460780751572173'],\n",
              "       ['11111128', 'Alumno 18', 'TI12', '0', '1', '4', '7', '6',\n",
              "        'regular', '3.9892156150314433'],\n",
              "       ['11111129', 'Alumno 19', 'TI12', '0', '8', '7', '8', '2',\n",
              "        'regular', '5.797843123006289'],\n",
              "       ['11111130', 'Alumno 20', 'TI12', '4', '0', '5', '0', '4',\n",
              "        'regular', '3.7595686246012576'],\n",
              "       ['11111131', 'Alumno 21', 'TI12', '6', '4', '2', '10', '10',\n",
              "        'regular', '7.151913724920251'],\n",
              "       ['11111132', 'Alumno 22', 'TI12', '5', '6', '9', '0', '3',\n",
              "        'regular', '6.030382744984051'],\n",
              "       ['11111133', 'Alumno 23', 'TI12', '1', '9', '7', '7', '6',\n",
              "        'regular', '7.20607654899681'],\n",
              "       ['11111134', 'Alumno 24', 'TI41', '4', '0', '10', '7', '0',\n",
              "        'regular', '5.641215309799362'],\n",
              "       ['11111135', 'Alumno 25', 'TI41', '3', '3', '0', '8', '5',\n",
              "        'regular', '4.928243061959873'],\n",
              "       ['11111136', 'Alumno 26', 'TI41', '0', '5', '7', '2', '1',\n",
              "        'regular', '3.9856486123919743'],\n",
              "       ['11111137', 'Alumno 27', 'TI41', '0', '0', '6', '0', '5',\n",
              "        'regular', '2.997129722478395'],\n",
              "       ['11111138', 'Alumno 28', 'TI41', '9', '3', '10', '9', '6',\n",
              "        'regular', '7.999425944495679'],\n",
              "       ['11111139', 'Alumno 29', 'TI41', '0', '5', '1', '10', '1',\n",
              "        'regular', '4.999885188899135'],\n",
              "       ['11111140', 'Alumno 30', 'TI41', '3', '3', '5', '9', '9',\n",
              "        'regular', '6.799977037779827'],\n",
              "       ['11111141', 'Alumno 31', 'TI41', '10', '10', '4', '1', '4',\n",
              "        'regular', '7.159995407555965'],\n",
              "       ['11111142', 'Alumno 32', 'TI41', '6', '0', '5', '3', '2',\n",
              "        'regular', '4.631999081511193'],\n",
              "       ['11111143', 'Alumno 33', 'IDGS91', '0', '4', '1', '7', '9',\n",
              "        'regular', '5.126399816302238'],\n",
              "       ['11111144', 'Alumno 34', 'IDGS91', '1', '1', '2', '3', '8',\n",
              "        'regular', '4.025279963260448'],\n",
              "       ['11111145', 'Alumno 35', 'IDGS91', '0', '7', '10', '7', '7',\n",
              "        'regular', '7.005055992652089'],\n",
              "       ['11111146', 'Alumno 36', 'IDGS91', '7', '1', '4', '0', '6',\n",
              "        'regular', '5.001011198530418'],\n",
              "       ['11111147', 'Alumno 37', 'IDGS91', '6', '6', '4', '3', '0',\n",
              "        'regular', '4.800202239706083'],\n",
              "       ['11111148', 'Alumno 38', 'IDGS91', '0', '6', '6', '3', '5',\n",
              "        'regular', '4.960040447941216'],\n",
              "       ['11111149', 'Alumno 39', 'IDGS91', '8', '7', '9', '5', '2',\n",
              "        'regular', '7.192008089588244'],\n",
              "       ['11111150', 'Alumno 40', 'IDGS91', '1', '0', '3', '4', '10',\n",
              "        'regular', '5.038401617917648'],\n",
              "       ['11111151', 'Alumno 41', 'IDGS91', '6', '5', '1', '5', '9',\n",
              "        'regular', '6.20768032358353'],\n",
              "       ['11111152', 'Alumno 42', 'IDGS91', '2', '0', '9', '9', '5',\n",
              "        'regular', '6.241536064716707'],\n",
              "       ['11111153', 'Alumno 43', 'IDGS91', '3', '4', '0', '0', '0',\n",
              "        'regular', '2.648307212943341'],\n",
              "       ['11111154', 'Alumno 44', 'IDGS91', '3', '1', '1', '7', '10',\n",
              "        'regular', '4.929661442588668'],\n",
              "       ['11111155', 'Alumno 45', 'IDGS91', '4', '1', '2', '8', '6',\n",
              "        'regular', '5.1859322885177335'],\n",
              "       ['11111156', 'Alumno 46', 'IDGS71', '10', '1', '10', '0', '7',\n",
              "        'regular', '6.637186457703547'],\n",
              "       ['11111157', 'Alumno 47', 'IDGS71', '9', '10', '1', '3', '9',\n",
              "        'regular', '7.72743729154071'],\n",
              "       ['11111158', 'Alumno 48', 'IDGS71', '4', '4', '10', '6', '8',\n",
              "        'regular', '7.945487458308142']], dtype='<U32')"
            ]
          },
          "metadata": {},
          "execution_count": 145
        }
      ]
    },
    {
      "cell_type": "code",
      "source": [
        "#Se exporta el archivo de numpy a formato csv\n",
        "np.savetxt(\"calificaciones_promedio_v1.csv\", array, fmt=\"%s\", delimiter=\",\")"
      ],
      "metadata": {
        "id": "hMRkFEqixN__"
      },
      "execution_count": 146,
      "outputs": []
    }
  ]
}