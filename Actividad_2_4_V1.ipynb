{
  "nbformat": 4,
  "nbformat_minor": 0,
  "metadata": {
    "colab": {
      "provenance": [],
      "authorship_tag": "ABX9TyNa//rtHDRyufxoa1LNNX1v",
      "include_colab_link": true
    },
    "kernelspec": {
      "name": "python3",
      "display_name": "Python 3"
    },
    "language_info": {
      "name": "python"
    }
  },
  "cells": [
    {
      "cell_type": "markdown",
      "metadata": {
        "id": "view-in-github",
        "colab_type": "text"
      },
      "source": [
        "<a href=\"https://colab.research.google.com/github/Ignacio246/colab/blob/main/Actividad_2_4_V1.ipynb\" target=\"_parent\"><img src=\"https://colab.research.google.com/assets/colab-badge.svg\" alt=\"Open In Colab\"/></a>"
      ]
    },
    {
      "cell_type": "markdown",
      "source": [
        "#### Importar las librerias a ocupar"
      ],
      "metadata": {
        "id": "1MzWlwCwqXLE"
      }
    },
    {
      "cell_type": "code",
      "source": [
        "import pandas as pd\n",
        "import numpy as np\n",
        "import csv"
      ],
      "metadata": {
        "id": "zzTd-vHzc0R2"
      },
      "execution_count": 1,
      "outputs": []
    },
    {
      "cell_type": "markdown",
      "source": [
        "#### Extraemos el archivo .csv y lo convertimos en un DataFrame"
      ],
      "metadata": {
        "id": "BaxO2kA4qbhD"
      }
    },
    {
      "cell_type": "code",
      "execution_count": 2,
      "metadata": {
        "colab": {
          "base_uri": "https://localhost:8080/",
          "height": 891
        },
        "id": "mw5aPr76cGJC",
        "outputId": "8016d5fc-ffb9-4c3e-9ffe-4f41a8df85f6"
      },
      "outputs": [
        {
          "output_type": "execute_result",
          "data": {
            "text/plain": [
              "             0         1\n",
              "0    matricula  11111111\n",
              "1       nombre  Alumno 1\n",
              "2        grupo      TI11\n",
              "3    Materia 1         1\n",
              "4    Materia 2         8\n",
              "..         ...       ...\n",
              "431  Materia 3        10\n",
              "432  Materia 4         6\n",
              "433  Materia 5         8\n",
              "434  Materia 6        10\n",
              "435     estado   regular\n",
              "\n",
              "[436 rows x 2 columns]"
            ],
            "text/html": [
              "\n",
              "  <div id=\"df-3c4add63-3f93-4301-80ef-6a5aa613f874\">\n",
              "    <div class=\"colab-df-container\">\n",
              "      <div>\n",
              "<style scoped>\n",
              "    .dataframe tbody tr th:only-of-type {\n",
              "        vertical-align: middle;\n",
              "    }\n",
              "\n",
              "    .dataframe tbody tr th {\n",
              "        vertical-align: top;\n",
              "    }\n",
              "\n",
              "    .dataframe thead th {\n",
              "        text-align: right;\n",
              "    }\n",
              "</style>\n",
              "<table border=\"1\" class=\"dataframe\">\n",
              "  <thead>\n",
              "    <tr style=\"text-align: right;\">\n",
              "      <th></th>\n",
              "      <th>0</th>\n",
              "      <th>1</th>\n",
              "    </tr>\n",
              "  </thead>\n",
              "  <tbody>\n",
              "    <tr>\n",
              "      <th>0</th>\n",
              "      <td>matricula</td>\n",
              "      <td>11111111</td>\n",
              "    </tr>\n",
              "    <tr>\n",
              "      <th>1</th>\n",
              "      <td>nombre</td>\n",
              "      <td>Alumno 1</td>\n",
              "    </tr>\n",
              "    <tr>\n",
              "      <th>2</th>\n",
              "      <td>grupo</td>\n",
              "      <td>TI11</td>\n",
              "    </tr>\n",
              "    <tr>\n",
              "      <th>3</th>\n",
              "      <td>Materia 1</td>\n",
              "      <td>1</td>\n",
              "    </tr>\n",
              "    <tr>\n",
              "      <th>4</th>\n",
              "      <td>Materia 2</td>\n",
              "      <td>8</td>\n",
              "    </tr>\n",
              "    <tr>\n",
              "      <th>...</th>\n",
              "      <td>...</td>\n",
              "      <td>...</td>\n",
              "    </tr>\n",
              "    <tr>\n",
              "      <th>431</th>\n",
              "      <td>Materia 3</td>\n",
              "      <td>10</td>\n",
              "    </tr>\n",
              "    <tr>\n",
              "      <th>432</th>\n",
              "      <td>Materia 4</td>\n",
              "      <td>6</td>\n",
              "    </tr>\n",
              "    <tr>\n",
              "      <th>433</th>\n",
              "      <td>Materia 5</td>\n",
              "      <td>8</td>\n",
              "    </tr>\n",
              "    <tr>\n",
              "      <th>434</th>\n",
              "      <td>Materia 6</td>\n",
              "      <td>10</td>\n",
              "    </tr>\n",
              "    <tr>\n",
              "      <th>435</th>\n",
              "      <td>estado</td>\n",
              "      <td>regular</td>\n",
              "    </tr>\n",
              "  </tbody>\n",
              "</table>\n",
              "<p>436 rows × 2 columns</p>\n",
              "</div>\n",
              "      <button class=\"colab-df-convert\" onclick=\"convertToInteractive('df-3c4add63-3f93-4301-80ef-6a5aa613f874')\"\n",
              "              title=\"Convert this dataframe to an interactive table.\"\n",
              "              style=\"display:none;\">\n",
              "        \n",
              "  <svg xmlns=\"http://www.w3.org/2000/svg\" height=\"24px\"viewBox=\"0 0 24 24\"\n",
              "       width=\"24px\">\n",
              "    <path d=\"M0 0h24v24H0V0z\" fill=\"none\"/>\n",
              "    <path d=\"M18.56 5.44l.94 2.06.94-2.06 2.06-.94-2.06-.94-.94-2.06-.94 2.06-2.06.94zm-11 1L8.5 8.5l.94-2.06 2.06-.94-2.06-.94L8.5 2.5l-.94 2.06-2.06.94zm10 10l.94 2.06.94-2.06 2.06-.94-2.06-.94-.94-2.06-.94 2.06-2.06.94z\"/><path d=\"M17.41 7.96l-1.37-1.37c-.4-.4-.92-.59-1.43-.59-.52 0-1.04.2-1.43.59L10.3 9.45l-7.72 7.72c-.78.78-.78 2.05 0 2.83L4 21.41c.39.39.9.59 1.41.59.51 0 1.02-.2 1.41-.59l7.78-7.78 2.81-2.81c.8-.78.8-2.07 0-2.86zM5.41 20L4 18.59l7.72-7.72 1.47 1.35L5.41 20z\"/>\n",
              "  </svg>\n",
              "      </button>\n",
              "      \n",
              "  <style>\n",
              "    .colab-df-container {\n",
              "      display:flex;\n",
              "      flex-wrap:wrap;\n",
              "      gap: 12px;\n",
              "    }\n",
              "\n",
              "    .colab-df-convert {\n",
              "      background-color: #E8F0FE;\n",
              "      border: none;\n",
              "      border-radius: 50%;\n",
              "      cursor: pointer;\n",
              "      display: none;\n",
              "      fill: #1967D2;\n",
              "      height: 32px;\n",
              "      padding: 0 0 0 0;\n",
              "      width: 32px;\n",
              "    }\n",
              "\n",
              "    .colab-df-convert:hover {\n",
              "      background-color: #E2EBFA;\n",
              "      box-shadow: 0px 1px 2px rgba(60, 64, 67, 0.3), 0px 1px 3px 1px rgba(60, 64, 67, 0.15);\n",
              "      fill: #174EA6;\n",
              "    }\n",
              "\n",
              "    [theme=dark] .colab-df-convert {\n",
              "      background-color: #3B4455;\n",
              "      fill: #D2E3FC;\n",
              "    }\n",
              "\n",
              "    [theme=dark] .colab-df-convert:hover {\n",
              "      background-color: #434B5C;\n",
              "      box-shadow: 0px 1px 3px 1px rgba(0, 0, 0, 0.15);\n",
              "      filter: drop-shadow(0px 1px 2px rgba(0, 0, 0, 0.3));\n",
              "      fill: #FFFFFF;\n",
              "    }\n",
              "  </style>\n",
              "\n",
              "      <script>\n",
              "        const buttonEl =\n",
              "          document.querySelector('#df-3c4add63-3f93-4301-80ef-6a5aa613f874 button.colab-df-convert');\n",
              "        buttonEl.style.display =\n",
              "          google.colab.kernel.accessAllowed ? 'block' : 'none';\n",
              "\n",
              "        async function convertToInteractive(key) {\n",
              "          const element = document.querySelector('#df-3c4add63-3f93-4301-80ef-6a5aa613f874');\n",
              "          const dataTable =\n",
              "            await google.colab.kernel.invokeFunction('convertToInteractive',\n",
              "                                                     [key], {});\n",
              "          if (!dataTable) return;\n",
              "\n",
              "          const docLinkHtml = 'Like what you see? Visit the ' +\n",
              "            '<a target=\"_blank\" href=https://colab.research.google.com/notebooks/data_table.ipynb>data table notebook</a>'\n",
              "            + ' to learn more about interactive tables.';\n",
              "          element.innerHTML = '';\n",
              "          dataTable['output_type'] = 'display_data';\n",
              "          await google.colab.output.renderOutput(dataTable, element);\n",
              "          const docLink = document.createElement('div');\n",
              "          docLink.innerHTML = docLinkHtml;\n",
              "          element.appendChild(docLink);\n",
              "        }\n",
              "      </script>\n",
              "    </div>\n",
              "  </div>\n",
              "  "
            ]
          },
          "metadata": {},
          "execution_count": 2
        }
      ],
      "source": [
        "datos = pd.read_csv('calificaciones_v2.csv', header=None)\n",
        "datos"
      ]
    },
    {
      "cell_type": "markdown",
      "source": [
        "#### Eliminamos los registros duplicados en la posicion que esten"
      ],
      "metadata": {
        "id": "jcgsXu7Pqj6n"
      }
    },
    {
      "cell_type": "code",
      "source": [
        "datos = datos.drop([8,108,109,434])\n",
        "datos"
      ],
      "metadata": {
        "colab": {
          "base_uri": "https://localhost:8080/",
          "height": 424
        },
        "id": "1OMuhwIzc7zG",
        "outputId": "66977c09-50f0-47e1-c250-676e1a0ca38d"
      },
      "execution_count": 3,
      "outputs": [
        {
          "output_type": "execute_result",
          "data": {
            "text/plain": [
              "             0         1\n",
              "0    matricula  11111111\n",
              "1       nombre  Alumno 1\n",
              "2        grupo      TI11\n",
              "3    Materia 1         1\n",
              "4    Materia 2         8\n",
              "..         ...       ...\n",
              "430  Materia 2         4\n",
              "431  Materia 3        10\n",
              "432  Materia 4         6\n",
              "433  Materia 5         8\n",
              "435     estado   regular\n",
              "\n",
              "[432 rows x 2 columns]"
            ],
            "text/html": [
              "\n",
              "  <div id=\"df-41a3379c-0372-434c-beda-ae6aecb48ebe\">\n",
              "    <div class=\"colab-df-container\">\n",
              "      <div>\n",
              "<style scoped>\n",
              "    .dataframe tbody tr th:only-of-type {\n",
              "        vertical-align: middle;\n",
              "    }\n",
              "\n",
              "    .dataframe tbody tr th {\n",
              "        vertical-align: top;\n",
              "    }\n",
              "\n",
              "    .dataframe thead th {\n",
              "        text-align: right;\n",
              "    }\n",
              "</style>\n",
              "<table border=\"1\" class=\"dataframe\">\n",
              "  <thead>\n",
              "    <tr style=\"text-align: right;\">\n",
              "      <th></th>\n",
              "      <th>0</th>\n",
              "      <th>1</th>\n",
              "    </tr>\n",
              "  </thead>\n",
              "  <tbody>\n",
              "    <tr>\n",
              "      <th>0</th>\n",
              "      <td>matricula</td>\n",
              "      <td>11111111</td>\n",
              "    </tr>\n",
              "    <tr>\n",
              "      <th>1</th>\n",
              "      <td>nombre</td>\n",
              "      <td>Alumno 1</td>\n",
              "    </tr>\n",
              "    <tr>\n",
              "      <th>2</th>\n",
              "      <td>grupo</td>\n",
              "      <td>TI11</td>\n",
              "    </tr>\n",
              "    <tr>\n",
              "      <th>3</th>\n",
              "      <td>Materia 1</td>\n",
              "      <td>1</td>\n",
              "    </tr>\n",
              "    <tr>\n",
              "      <th>4</th>\n",
              "      <td>Materia 2</td>\n",
              "      <td>8</td>\n",
              "    </tr>\n",
              "    <tr>\n",
              "      <th>...</th>\n",
              "      <td>...</td>\n",
              "      <td>...</td>\n",
              "    </tr>\n",
              "    <tr>\n",
              "      <th>430</th>\n",
              "      <td>Materia 2</td>\n",
              "      <td>4</td>\n",
              "    </tr>\n",
              "    <tr>\n",
              "      <th>431</th>\n",
              "      <td>Materia 3</td>\n",
              "      <td>10</td>\n",
              "    </tr>\n",
              "    <tr>\n",
              "      <th>432</th>\n",
              "      <td>Materia 4</td>\n",
              "      <td>6</td>\n",
              "    </tr>\n",
              "    <tr>\n",
              "      <th>433</th>\n",
              "      <td>Materia 5</td>\n",
              "      <td>8</td>\n",
              "    </tr>\n",
              "    <tr>\n",
              "      <th>435</th>\n",
              "      <td>estado</td>\n",
              "      <td>regular</td>\n",
              "    </tr>\n",
              "  </tbody>\n",
              "</table>\n",
              "<p>432 rows × 2 columns</p>\n",
              "</div>\n",
              "      <button class=\"colab-df-convert\" onclick=\"convertToInteractive('df-41a3379c-0372-434c-beda-ae6aecb48ebe')\"\n",
              "              title=\"Convert this dataframe to an interactive table.\"\n",
              "              style=\"display:none;\">\n",
              "        \n",
              "  <svg xmlns=\"http://www.w3.org/2000/svg\" height=\"24px\"viewBox=\"0 0 24 24\"\n",
              "       width=\"24px\">\n",
              "    <path d=\"M0 0h24v24H0V0z\" fill=\"none\"/>\n",
              "    <path d=\"M18.56 5.44l.94 2.06.94-2.06 2.06-.94-2.06-.94-.94-2.06-.94 2.06-2.06.94zm-11 1L8.5 8.5l.94-2.06 2.06-.94-2.06-.94L8.5 2.5l-.94 2.06-2.06.94zm10 10l.94 2.06.94-2.06 2.06-.94-2.06-.94-.94-2.06-.94 2.06-2.06.94z\"/><path d=\"M17.41 7.96l-1.37-1.37c-.4-.4-.92-.59-1.43-.59-.52 0-1.04.2-1.43.59L10.3 9.45l-7.72 7.72c-.78.78-.78 2.05 0 2.83L4 21.41c.39.39.9.59 1.41.59.51 0 1.02-.2 1.41-.59l7.78-7.78 2.81-2.81c.8-.78.8-2.07 0-2.86zM5.41 20L4 18.59l7.72-7.72 1.47 1.35L5.41 20z\"/>\n",
              "  </svg>\n",
              "      </button>\n",
              "      \n",
              "  <style>\n",
              "    .colab-df-container {\n",
              "      display:flex;\n",
              "      flex-wrap:wrap;\n",
              "      gap: 12px;\n",
              "    }\n",
              "\n",
              "    .colab-df-convert {\n",
              "      background-color: #E8F0FE;\n",
              "      border: none;\n",
              "      border-radius: 50%;\n",
              "      cursor: pointer;\n",
              "      display: none;\n",
              "      fill: #1967D2;\n",
              "      height: 32px;\n",
              "      padding: 0 0 0 0;\n",
              "      width: 32px;\n",
              "    }\n",
              "\n",
              "    .colab-df-convert:hover {\n",
              "      background-color: #E2EBFA;\n",
              "      box-shadow: 0px 1px 2px rgba(60, 64, 67, 0.3), 0px 1px 3px 1px rgba(60, 64, 67, 0.15);\n",
              "      fill: #174EA6;\n",
              "    }\n",
              "\n",
              "    [theme=dark] .colab-df-convert {\n",
              "      background-color: #3B4455;\n",
              "      fill: #D2E3FC;\n",
              "    }\n",
              "\n",
              "    [theme=dark] .colab-df-convert:hover {\n",
              "      background-color: #434B5C;\n",
              "      box-shadow: 0px 1px 3px 1px rgba(0, 0, 0, 0.15);\n",
              "      filter: drop-shadow(0px 1px 2px rgba(0, 0, 0, 0.3));\n",
              "      fill: #FFFFFF;\n",
              "    }\n",
              "  </style>\n",
              "\n",
              "      <script>\n",
              "        const buttonEl =\n",
              "          document.querySelector('#df-41a3379c-0372-434c-beda-ae6aecb48ebe button.colab-df-convert');\n",
              "        buttonEl.style.display =\n",
              "          google.colab.kernel.accessAllowed ? 'block' : 'none';\n",
              "\n",
              "        async function convertToInteractive(key) {\n",
              "          const element = document.querySelector('#df-41a3379c-0372-434c-beda-ae6aecb48ebe');\n",
              "          const dataTable =\n",
              "            await google.colab.kernel.invokeFunction('convertToInteractive',\n",
              "                                                     [key], {});\n",
              "          if (!dataTable) return;\n",
              "\n",
              "          const docLinkHtml = 'Like what you see? Visit the ' +\n",
              "            '<a target=\"_blank\" href=https://colab.research.google.com/notebooks/data_table.ipynb>data table notebook</a>'\n",
              "            + ' to learn more about interactive tables.';\n",
              "          element.innerHTML = '';\n",
              "          dataTable['output_type'] = 'display_data';\n",
              "          await google.colab.output.renderOutput(dataTable, element);\n",
              "          const docLink = document.createElement('div');\n",
              "          docLink.innerHTML = docLinkHtml;\n",
              "          element.appendChild(docLink);\n",
              "        }\n",
              "      </script>\n",
              "    </div>\n",
              "  </div>\n",
              "  "
            ]
          },
          "metadata": {},
          "execution_count": 3
        }
      ]
    },
    {
      "cell_type": "markdown",
      "source": [
        "#### Convertimos el DataFrame en un arreglo"
      ],
      "metadata": {
        "id": "Rozj2tEuqsE1"
      }
    },
    {
      "cell_type": "code",
      "source": [
        "array=datos.to_numpy()\n",
        "array"
      ],
      "metadata": {
        "colab": {
          "base_uri": "https://localhost:8080/"
        },
        "id": "9u5qqDEDdFEW",
        "outputId": "be9fe744-6cd9-4d6e-d00e-0e38db9113f8"
      },
      "execution_count": 4,
      "outputs": [
        {
          "output_type": "execute_result",
          "data": {
            "text/plain": [
              "array([['matricula', '11111111'],\n",
              "       ['nombre', 'Alumno 1'],\n",
              "       ['grupo', 'TI11'],\n",
              "       ['Materia 1', '1'],\n",
              "       ['Materia 2', '8'],\n",
              "       ['Materia 3', '1'],\n",
              "       ['Materia 4', '7'],\n",
              "       ['Materia 5', '2'],\n",
              "       ['estado', 'regular'],\n",
              "       ['matricula', '11111112'],\n",
              "       ['nombre', 'Alumno 2'],\n",
              "       ['grupo', 'TI11'],\n",
              "       ['Materia 1', '10'],\n",
              "       ['Materia 2', '7'],\n",
              "       ['Materia 3', '1'],\n",
              "       ['Materia 4', '8'],\n",
              "       ['Materia 5', '5'],\n",
              "       ['estado', 'regular'],\n",
              "       ['matricula', '11111113'],\n",
              "       ['nombre', 'Alumno 3'],\n",
              "       ['grupo', 'TI11'],\n",
              "       ['Materia 1', nan],\n",
              "       ['Materia 2', '1'],\n",
              "       ['Materia 3', '1'],\n",
              "       ['Materia 4', '3'],\n",
              "       ['Materia 5', '0'],\n",
              "       ['estado', 'regular'],\n",
              "       ['matricula', '11111114'],\n",
              "       ['nombre', 'Alumno 4'],\n",
              "       ['grupo', 'TI11'],\n",
              "       ['Materia 1', nan],\n",
              "       ['Materia 2', '4'],\n",
              "       ['Materia 3', '3'],\n",
              "       ['Materia 4', '2'],\n",
              "       ['Materia 5', '7'],\n",
              "       ['estado', 'regular'],\n",
              "       ['matricula', '11111115'],\n",
              "       ['nombre', 'Alumno 5'],\n",
              "       ['grupo', 'TI11'],\n",
              "       ['Materia 1', '9'],\n",
              "       ['Materia 2', '10'],\n",
              "       ['Materia 3', '3'],\n",
              "       ['Materia 4', '9'],\n",
              "       ['Materia 5', '2'],\n",
              "       ['estado', 'regular'],\n",
              "       ['matricula', '11111116'],\n",
              "       ['nombre', 'Alumno 6'],\n",
              "       ['grupo', 'TI11'],\n",
              "       ['Materia 1', '1'],\n",
              "       ['Materia 2', '3'],\n",
              "       ['Materia 3', '8'],\n",
              "       ['Materia 4', '1'],\n",
              "       ['Materia 5', '7'],\n",
              "       ['estado', 'regular'],\n",
              "       ['matricula', '11111117'],\n",
              "       ['nombre', 'Alumno 7'],\n",
              "       ['grupo', 'TI11'],\n",
              "       ['Materia 1', '4'],\n",
              "       ['Materia 2', '7'],\n",
              "       ['Materia 3', '1'],\n",
              "       ['Materia 4', '6'],\n",
              "       ['Materia 5', '5'],\n",
              "       ['estado', 'regular'],\n",
              "       ['matricula', '11111118'],\n",
              "       ['nombre', 'Alumno 8'],\n",
              "       ['grupo', 'TI11'],\n",
              "       ['Materia 1', '10'],\n",
              "       ['Materia 2', '1'],\n",
              "       ['Materia 3', '7'],\n",
              "       ['Materia 4', '10'],\n",
              "       ['Materia 5', '0'],\n",
              "       ['estado', 'regular'],\n",
              "       ['matricula', '11111119'],\n",
              "       ['nombre', 'Alumno 9'],\n",
              "       ['grupo', 'TI11'],\n",
              "       ['Materia 1', '5'],\n",
              "       ['Materia 2', '5'],\n",
              "       ['Materia 3', '4'],\n",
              "       ['Materia 4', '0'],\n",
              "       ['Materia 5', '3'],\n",
              "       ['estado', 'regular'],\n",
              "       ['matricula', '11111120'],\n",
              "       ['nombre', 'Alumno 10'],\n",
              "       ['grupo', 'TI11'],\n",
              "       ['Materia 1', '5'],\n",
              "       ['Materia 2', '7'],\n",
              "       ['Materia 3', '3'],\n",
              "       ['Materia 4', '3'],\n",
              "       ['Materia 5', '4'],\n",
              "       ['estado', 'regular'],\n",
              "       ['matricula', '11111121'],\n",
              "       ['nombre', 'Alumno 11'],\n",
              "       ['grupo', 'TI11'],\n",
              "       ['Materia 1', '6'],\n",
              "       ['Materia 2', '1'],\n",
              "       ['Materia 3', '3'],\n",
              "       ['Materia 4', '7'],\n",
              "       ['Materia 5', '0'],\n",
              "       ['estado', 'regular'],\n",
              "       ['matricula', '11111122'],\n",
              "       ['nombre', 'Alumno 12'],\n",
              "       ['grupo', 'TI11'],\n",
              "       ['Materia 1', '7'],\n",
              "       ['Materia 2', '2'],\n",
              "       ['Materia 3', '5'],\n",
              "       ['Materia 4', '4'],\n",
              "       ['Materia 5', '5'],\n",
              "       ['estado', 'regular'],\n",
              "       ['matricula', '11111123'],\n",
              "       ['nombre', 'Alumno 13'],\n",
              "       ['grupo', 'TI12'],\n",
              "       ['Materia 1', '5'],\n",
              "       ['Materia 2', '2'],\n",
              "       ['Materia 3', '3'],\n",
              "       ['Materia 4', '0'],\n",
              "       ['Materia 5', '1'],\n",
              "       ['estado', 'regular'],\n",
              "       ['matricula', '11111124'],\n",
              "       ['nombre', 'Alumno 14'],\n",
              "       ['grupo', 'TI12'],\n",
              "       ['Materia 1', '5'],\n",
              "       ['Materia 2', '2'],\n",
              "       ['Materia 3', '10'],\n",
              "       ['Materia 4', '0'],\n",
              "       ['Materia 5', '6'],\n",
              "       ['estado', 'regular'],\n",
              "       ['matricula', '11111125'],\n",
              "       ['nombre', 'Alumno 15'],\n",
              "       ['grupo', 'TI12'],\n",
              "       ['Materia 1', '9'],\n",
              "       ['Materia 2', '9'],\n",
              "       ['Materia 3', '1'],\n",
              "       ['Materia 4', '3'],\n",
              "       ['Materia 5', '1'],\n",
              "       ['estado', 'regular'],\n",
              "       ['matricula', '11111126'],\n",
              "       ['nombre', 'Alumno 16'],\n",
              "       ['grupo', 'TI12'],\n",
              "       ['Materia 1', '1'],\n",
              "       ['Materia 2', '2'],\n",
              "       ['Materia 3', '1'],\n",
              "       ['Materia 4', '7'],\n",
              "       ['Materia 5', '7'],\n",
              "       ['estado', 'regular'],\n",
              "       ['matricula', '11111127'],\n",
              "       ['nombre', 'Alumno 17'],\n",
              "       ['grupo', 'TI12'],\n",
              "       ['Materia 1', '0'],\n",
              "       ['Materia 2', '2'],\n",
              "       ['Materia 3', '1'],\n",
              "       ['Materia 4', '0'],\n",
              "       ['Materia 5', '2'],\n",
              "       ['estado', 'regular'],\n",
              "       ['matricula', '11111128'],\n",
              "       ['nombre', 'Alumno 18'],\n",
              "       ['grupo', 'TI12'],\n",
              "       ['Materia 1', '0'],\n",
              "       ['Materia 2', '1'],\n",
              "       ['Materia 3', '4'],\n",
              "       ['Materia 4', '7'],\n",
              "       ['Materia 5', '6'],\n",
              "       ['estado', 'regular'],\n",
              "       ['matricula', '11111129'],\n",
              "       ['nombre', 'Alumno 19'],\n",
              "       ['grupo', 'TI12'],\n",
              "       ['Materia 1', '0'],\n",
              "       ['Materia 2', '8'],\n",
              "       ['Materia 3', '7'],\n",
              "       ['Materia 4', '8'],\n",
              "       ['Materia 5', '2'],\n",
              "       ['estado', 'regular'],\n",
              "       ['matricula', '11111130'],\n",
              "       ['nombre', 'Alumno 20'],\n",
              "       ['grupo', 'TI12'],\n",
              "       ['Materia 1', '4'],\n",
              "       ['Materia 2', '0'],\n",
              "       ['Materia 3', '5'],\n",
              "       ['Materia 4', '0'],\n",
              "       ['Materia 5', '4'],\n",
              "       ['estado', 'regular'],\n",
              "       ['matricula', '11111131'],\n",
              "       ['nombre', 'Alumno 21'],\n",
              "       ['grupo', 'TI12'],\n",
              "       ['Materia 1', '6'],\n",
              "       ['Materia 2', '4'],\n",
              "       ['Materia 3', '2'],\n",
              "       ['Materia 4', '10'],\n",
              "       ['Materia 5', '10'],\n",
              "       ['estado', 'regular'],\n",
              "       ['matricula', '11111132'],\n",
              "       ['nombre', 'Alumno 22'],\n",
              "       ['grupo', 'TI12'],\n",
              "       ['Materia 1', '5'],\n",
              "       ['Materia 2', '6'],\n",
              "       ['Materia 3', '9'],\n",
              "       ['Materia 4', '0'],\n",
              "       ['Materia 5', '3'],\n",
              "       ['estado', 'regular'],\n",
              "       ['matricula', '11111133'],\n",
              "       ['nombre', 'Alumno 23'],\n",
              "       ['grupo', 'TI12'],\n",
              "       ['Materia 1', '1'],\n",
              "       ['Materia 2', '9'],\n",
              "       ['Materia 3', '7'],\n",
              "       ['Materia 4', '7'],\n",
              "       ['Materia 5', '6'],\n",
              "       ['estado', 'regular'],\n",
              "       ['matricula', '11111134'],\n",
              "       ['nombre', 'Alumno 24'],\n",
              "       ['grupo', 'TI41'],\n",
              "       ['Materia 1', '4'],\n",
              "       ['Materia 2', '0'],\n",
              "       ['Materia 3', '10'],\n",
              "       ['Materia 4', '7'],\n",
              "       ['Materia 5', '0'],\n",
              "       ['estado', 'regular'],\n",
              "       ['matricula', '11111135'],\n",
              "       ['nombre', 'Alumno 25'],\n",
              "       ['grupo', 'TI41'],\n",
              "       ['Materia 1', '3'],\n",
              "       ['Materia 2', '3'],\n",
              "       ['Materia 3', '0'],\n",
              "       ['Materia 4', '8'],\n",
              "       ['Materia 5', '5'],\n",
              "       ['estado', 'regular'],\n",
              "       ['matricula', '11111136'],\n",
              "       ['nombre', 'Alumno 26'],\n",
              "       ['grupo', 'TI41'],\n",
              "       ['Materia 1', '0'],\n",
              "       ['Materia 2', '5'],\n",
              "       ['Materia 3', '7'],\n",
              "       ['Materia 4', '2'],\n",
              "       ['Materia 5', '0'],\n",
              "       ['estado', 'regular'],\n",
              "       ['matricula', '11111137'],\n",
              "       ['nombre', 'Alumno 27'],\n",
              "       ['grupo', 'TI41'],\n",
              "       ['Materia 1', '0'],\n",
              "       ['Materia 2', '0'],\n",
              "       ['Materia 3', '6'],\n",
              "       ['Materia 4', '0'],\n",
              "       ['Materia 5', '5'],\n",
              "       ['estado', 'regular'],\n",
              "       ['matricula', '11111138'],\n",
              "       ['nombre', 'Alumno 28'],\n",
              "       ['grupo', 'TI41'],\n",
              "       ['Materia 1', '9'],\n",
              "       ['Materia 2', '3'],\n",
              "       ['Materia 3', '10'],\n",
              "       ['Materia 4', '9'],\n",
              "       ['Materia 5', '6'],\n",
              "       ['estado', 'regular'],\n",
              "       ['matricula', '11111139'],\n",
              "       ['nombre', 'Alumno 29'],\n",
              "       ['grupo', 'TI41'],\n",
              "       ['Materia 1', '0'],\n",
              "       ['Materia 2', '5'],\n",
              "       ['Materia 3', '1'],\n",
              "       ['Materia 4', '10'],\n",
              "       ['Materia 5', '1'],\n",
              "       ['estado', 'regular'],\n",
              "       ['matricula', '11111140'],\n",
              "       ['nombre', 'Alumno 30'],\n",
              "       ['grupo', 'TI41'],\n",
              "       ['Materia 1', '3'],\n",
              "       ['Materia 2', '3'],\n",
              "       ['Materia 3', '5'],\n",
              "       ['Materia 4', '9'],\n",
              "       ['Materia 5', '9'],\n",
              "       ['estado', 'regular'],\n",
              "       ['matricula', '11111141'],\n",
              "       ['nombre', 'Alumno 31'],\n",
              "       ['grupo', 'TI41'],\n",
              "       ['Materia 1', '10'],\n",
              "       ['Materia 2', '10'],\n",
              "       ['Materia 3', '4'],\n",
              "       ['Materia 4', '1'],\n",
              "       ['Materia 5', '4'],\n",
              "       ['estado', 'regular'],\n",
              "       ['matricula', '11111142'],\n",
              "       ['nombre', 'Alumno 32'],\n",
              "       ['grupo', 'TI41'],\n",
              "       ['Materia 1', '6'],\n",
              "       ['Materia 2', '0'],\n",
              "       ['Materia 3', '5'],\n",
              "       ['Materia 4', '3'],\n",
              "       ['Materia 5', '2'],\n",
              "       ['estado', 'regular'],\n",
              "       ['matricula', '11111143'],\n",
              "       ['nombre', 'Alumno 33'],\n",
              "       ['grupo', 'IDGS91'],\n",
              "       ['Materia 1', '0'],\n",
              "       ['Materia 2', '4'],\n",
              "       ['Materia 3', '1'],\n",
              "       ['Materia 4', '7'],\n",
              "       ['Materia 5', '9'],\n",
              "       ['estado', 'regular'],\n",
              "       ['matricula', '11111144'],\n",
              "       ['nombre', 'Alumno 34'],\n",
              "       ['grupo', 'IDGS91'],\n",
              "       ['Materia 1', '1'],\n",
              "       ['Materia 2', '1'],\n",
              "       ['Materia 3', '2'],\n",
              "       ['Materia 4', '3'],\n",
              "       ['Materia 5', '8'],\n",
              "       ['estado', 'regular'],\n",
              "       ['matricula', '11111145'],\n",
              "       ['nombre', 'Alumno 35'],\n",
              "       ['grupo', 'IDGS91'],\n",
              "       ['Materia 1', '0'],\n",
              "       ['Materia 2', '7'],\n",
              "       ['Materia 3', '10'],\n",
              "       ['Materia 4', '7'],\n",
              "       ['Materia 5', '7'],\n",
              "       ['estado', 'regular'],\n",
              "       ['matricula', '11111146'],\n",
              "       ['nombre', 'Alumno 36'],\n",
              "       ['grupo', 'IDGS91'],\n",
              "       ['Materia 1', '7'],\n",
              "       ['Materia 2', '1'],\n",
              "       ['Materia 3', '4'],\n",
              "       ['Materia 4', '0'],\n",
              "       ['Materia 5', '6'],\n",
              "       ['estado', 'regular'],\n",
              "       ['matricula', '11111147'],\n",
              "       ['nombre', 'Alumno 37'],\n",
              "       ['grupo', 'IDGS91'],\n",
              "       ['Materia 1', '6'],\n",
              "       ['Materia 2', '6'],\n",
              "       ['Materia 3', '4'],\n",
              "       ['Materia 4', '3'],\n",
              "       ['Materia 5', '0'],\n",
              "       ['estado', 'regular'],\n",
              "       ['matricula', '11111148'],\n",
              "       ['nombre', 'Alumno 38'],\n",
              "       ['grupo', 'IDGS91'],\n",
              "       ['Materia 1', '0'],\n",
              "       ['Materia 2', '6'],\n",
              "       ['Materia 3', '6'],\n",
              "       ['Materia 4', '3'],\n",
              "       ['Materia 5', '5'],\n",
              "       ['estado', 'regular'],\n",
              "       ['matricula', '11111149'],\n",
              "       ['nombre', 'Alumno 39'],\n",
              "       ['grupo', 'IDGS91'],\n",
              "       ['Materia 1', '8'],\n",
              "       ['Materia 2', '7'],\n",
              "       ['Materia 3', '9'],\n",
              "       ['Materia 4', '5'],\n",
              "       ['Materia 5', '2'],\n",
              "       ['estado', 'regular'],\n",
              "       ['matricula', '11111150'],\n",
              "       ['nombre', 'Alumno 40'],\n",
              "       ['grupo', 'IDGS91'],\n",
              "       ['Materia 1', '1'],\n",
              "       ['Materia 2', '0'],\n",
              "       ['Materia 3', '3'],\n",
              "       ['Materia 4', '4'],\n",
              "       ['Materia 5', '10'],\n",
              "       ['estado', 'regular'],\n",
              "       ['matricula', '11111151'],\n",
              "       ['nombre', 'Alumno 41'],\n",
              "       ['grupo', 'IDGS91'],\n",
              "       ['Materia 1', '6'],\n",
              "       ['Materia 2', '5'],\n",
              "       ['Materia 3', '1'],\n",
              "       ['Materia 4', '5'],\n",
              "       ['Materia 5', '9'],\n",
              "       ['estado', 'regular'],\n",
              "       ['matricula', '11111152'],\n",
              "       ['nombre', 'Alumno 42'],\n",
              "       ['grupo', 'IDGS91'],\n",
              "       ['Materia 1', '2'],\n",
              "       ['Materia 2', '0'],\n",
              "       ['Materia 3', '9'],\n",
              "       ['Materia 4', '9'],\n",
              "       ['Materia 5', '5'],\n",
              "       ['estado', 'regular'],\n",
              "       ['matricula', '11111153'],\n",
              "       ['nombre', 'Alumno 43'],\n",
              "       ['grupo', 'IDGS91'],\n",
              "       ['Materia 1', '3'],\n",
              "       ['Materia 2', '4'],\n",
              "       ['Materia 3', '0'],\n",
              "       ['Materia 4', '0'],\n",
              "       ['Materia 5', '0'],\n",
              "       ['estado', 'regular'],\n",
              "       ['matricula', '11111154'],\n",
              "       ['nombre', 'Alumno 44'],\n",
              "       ['grupo', 'IDGS91'],\n",
              "       ['Materia 1', '3'],\n",
              "       ['Materia 2', '1'],\n",
              "       ['Materia 3', '1'],\n",
              "       ['Materia 4', '7'],\n",
              "       ['Materia 5', '10'],\n",
              "       ['estado', 'regular'],\n",
              "       ['matricula', '11111155'],\n",
              "       ['nombre', 'Alumno 45'],\n",
              "       ['grupo', 'IDGS91'],\n",
              "       ['Materia 1', '4'],\n",
              "       ['Materia 2', '1'],\n",
              "       ['Materia 3', '2'],\n",
              "       ['Materia 4', '8'],\n",
              "       ['Materia 5', '6'],\n",
              "       ['estado', 'regular'],\n",
              "       ['matricula', '11111156'],\n",
              "       ['nombre', 'Alumno 46'],\n",
              "       ['grupo', 'IDGS71'],\n",
              "       ['Materia 1', '10'],\n",
              "       ['Materia 2', '1'],\n",
              "       ['Materia 3', '10'],\n",
              "       ['Materia 4', '0'],\n",
              "       ['Materia 5', '7'],\n",
              "       ['estado', 'regular'],\n",
              "       ['matricula', '11111157'],\n",
              "       ['nombre', 'Alumno 47'],\n",
              "       ['grupo', 'IDGS71'],\n",
              "       ['Materia 1', '9'],\n",
              "       ['Materia 2', '10'],\n",
              "       ['Materia 3', '1'],\n",
              "       ['Materia 4', '3'],\n",
              "       ['Materia 5', '9'],\n",
              "       ['estado', 'regular'],\n",
              "       ['matricula', '11111158'],\n",
              "       ['nombre', 'Alumno 48'],\n",
              "       ['grupo', 'IDGS71'],\n",
              "       ['Materia 1', '4'],\n",
              "       ['Materia 2', '4'],\n",
              "       ['Materia 3', '10'],\n",
              "       ['Materia 4', '6'],\n",
              "       ['Materia 5', '8'],\n",
              "       ['estado', 'regular']], dtype=object)"
            ]
          },
          "metadata": {},
          "execution_count": 4
        }
      ]
    },
    {
      "cell_type": "markdown",
      "source": [
        "#### Obtenemos las cabeceras del array (Primera columna)"
      ],
      "metadata": {
        "id": "yIHtzKFTq-3P"
      }
    },
    {
      "cell_type": "code",
      "source": [
        "cabecera = array.T[0]\n",
        "cabecera[:10]"
      ],
      "metadata": {
        "colab": {
          "base_uri": "https://localhost:8080/"
        },
        "id": "JUV4ydpYd0E2",
        "outputId": "05838778-2408-4dce-fd34-30aa41426e12"
      },
      "execution_count": 5,
      "outputs": [
        {
          "output_type": "execute_result",
          "data": {
            "text/plain": [
              "array(['matricula', 'nombre', 'grupo', 'Materia 1', 'Materia 2',\n",
              "       'Materia 3', 'Materia 4', 'Materia 5', 'estado', 'matricula'],\n",
              "      dtype=object)"
            ]
          },
          "metadata": {},
          "execution_count": 5
        }
      ]
    },
    {
      "cell_type": "code",
      "source": [
        "cabecera.size"
      ],
      "metadata": {
        "colab": {
          "base_uri": "https://localhost:8080/"
        },
        "id": "ea3w2k9teW_W",
        "outputId": "c5bbb168-8ae5-4634-ed22-c98a0a70319f"
      },
      "execution_count": 6,
      "outputs": [
        {
          "output_type": "execute_result",
          "data": {
            "text/plain": [
              "432"
            ]
          },
          "metadata": {},
          "execution_count": 6
        }
      ]
    },
    {
      "cell_type": "markdown",
      "source": [
        "#### Observamos cuantas cabeceras tiene el array"
      ],
      "metadata": {
        "id": "SKsXMhAjrLSr"
      }
    },
    {
      "cell_type": "code",
      "source": [
        "np.unique(cabecera)"
      ],
      "metadata": {
        "colab": {
          "base_uri": "https://localhost:8080/"
        },
        "id": "vzamkJHJeoPe",
        "outputId": "abb1e81d-ee6e-476f-af37-98b6003d3143"
      },
      "execution_count": 7,
      "outputs": [
        {
          "output_type": "execute_result",
          "data": {
            "text/plain": [
              "array(['Materia 1', 'Materia 2', 'Materia 3', 'Materia 4', 'Materia 5',\n",
              "       'estado', 'grupo', 'matricula', 'nombre'], dtype=object)"
            ]
          },
          "metadata": {},
          "execution_count": 7
        }
      ]
    },
    {
      "cell_type": "code",
      "source": [
        "np.unique(cabecera).size"
      ],
      "metadata": {
        "colab": {
          "base_uri": "https://localhost:8080/"
        },
        "id": "_TQrCKhAevnH",
        "outputId": "d66bf0ef-9fe0-435b-dab9-b13cbbe6e90f"
      },
      "execution_count": 8,
      "outputs": [
        {
          "output_type": "execute_result",
          "data": {
            "text/plain": [
              "9"
            ]
          },
          "metadata": {},
          "execution_count": 8
        }
      ]
    },
    {
      "cell_type": "code",
      "source": [
        "cabeceras = cabecera[:9]\n",
        "cabeceras"
      ],
      "metadata": {
        "colab": {
          "base_uri": "https://localhost:8080/"
        },
        "id": "2OvdmJGme0mO",
        "outputId": "3a80c292-ae90-4f3c-c3be-893757bb417d"
      },
      "execution_count": 9,
      "outputs": [
        {
          "output_type": "execute_result",
          "data": {
            "text/plain": [
              "array(['matricula', 'nombre', 'grupo', 'Materia 1', 'Materia 2',\n",
              "       'Materia 3', 'Materia 4', 'Materia 5', 'estado'], dtype=object)"
            ]
          },
          "metadata": {},
          "execution_count": 9
        }
      ]
    },
    {
      "cell_type": "code",
      "source": [
        "no_cabeceras = cabeceras.size\n",
        "no_cabeceras"
      ],
      "metadata": {
        "colab": {
          "base_uri": "https://localhost:8080/"
        },
        "id": "Dm1VLaV2fDiW",
        "outputId": "4600e979-751b-4907-87b1-3fdaab8f45fc"
      },
      "execution_count": 10,
      "outputs": [
        {
          "output_type": "execute_result",
          "data": {
            "text/plain": [
              "9"
            ]
          },
          "metadata": {},
          "execution_count": 10
        }
      ]
    },
    {
      "cell_type": "code",
      "source": [
        "no_registros = array.T[0].size\n",
        "no_registros"
      ],
      "metadata": {
        "colab": {
          "base_uri": "https://localhost:8080/"
        },
        "id": "EQar20s_fHBV",
        "outputId": "0b5eed72-3d5a-4b88-fb60-cafd5aa1d21c"
      },
      "execution_count": 11,
      "outputs": [
        {
          "output_type": "execute_result",
          "data": {
            "text/plain": [
              "432"
            ]
          },
          "metadata": {},
          "execution_count": 11
        }
      ]
    },
    {
      "cell_type": "code",
      "source": [
        "#Permite calcular el numero de registros del archivo \n",
        "filas = no_registros / no_cabeceras\n",
        "filas"
      ],
      "metadata": {
        "colab": {
          "base_uri": "https://localhost:8080/"
        },
        "id": "OKMbGt9rfxf-",
        "outputId": "0d3964e6-e58a-4d85-8da4-758eb8694e0b"
      },
      "execution_count": 13,
      "outputs": [
        {
          "output_type": "execute_result",
          "data": {
            "text/plain": [
              "48.0"
            ]
          },
          "metadata": {},
          "execution_count": 13
        }
      ]
    },
    {
      "cell_type": "markdown",
      "source": [
        "#### Eliminamos las cabeceras del array"
      ],
      "metadata": {
        "id": "WHfVp86JrXNJ"
      }
    },
    {
      "cell_type": "code",
      "source": [
        "data_sin_cabeceras = np.delete(array,0,1)\n",
        "data_sin_cabeceras [:10]"
      ],
      "metadata": {
        "colab": {
          "base_uri": "https://localhost:8080/"
        },
        "id": "_1xsvnUeppQc",
        "outputId": "b40f35b6-d1e1-47d1-b2ad-a2fe232bc49b"
      },
      "execution_count": 16,
      "outputs": [
        {
          "output_type": "execute_result",
          "data": {
            "text/plain": [
              "array([['11111111'],\n",
              "       ['Alumno 1'],\n",
              "       ['TI11'],\n",
              "       ['1'],\n",
              "       ['8'],\n",
              "       ['1'],\n",
              "       ['7'],\n",
              "       ['2'],\n",
              "       ['regular'],\n",
              "       ['11111112']], dtype=object)"
            ]
          },
          "metadata": {},
          "execution_count": 16
        }
      ]
    },
    {
      "cell_type": "code",
      "source": [
        "data_sin_cabeceras.shape"
      ],
      "metadata": {
        "colab": {
          "base_uri": "https://localhost:8080/"
        },
        "id": "UbmHlNBUptLA",
        "outputId": "8952e1c0-1eef-4b06-dd76-9badbec431fb"
      },
      "execution_count": 17,
      "outputs": [
        {
          "output_type": "execute_result",
          "data": {
            "text/plain": [
              "(432, 1)"
            ]
          },
          "metadata": {},
          "execution_count": 17
        }
      ]
    },
    {
      "cell_type": "markdown",
      "source": [
        "#### Cambiamos la forma del array"
      ],
      "metadata": {
        "id": "uc9R7_kkre8V"
      }
    },
    {
      "cell_type": "code",
      "source": [
        "data_sin_cabeceras = data_sin_cabeceras.reshape(int(filas),int(no_cabeceras))"
      ],
      "metadata": {
        "id": "ugnElKy8p1KI"
      },
      "execution_count": 18,
      "outputs": []
    },
    {
      "cell_type": "code",
      "source": [
        "data_sin_cabeceras.shape"
      ],
      "metadata": {
        "colab": {
          "base_uri": "https://localhost:8080/"
        },
        "id": "TH6_Lk9Gp39Q",
        "outputId": "6339408e-4760-4f14-d410-f07f3dd3420e"
      },
      "execution_count": 19,
      "outputs": [
        {
          "output_type": "execute_result",
          "data": {
            "text/plain": [
              "(48, 9)"
            ]
          },
          "metadata": {},
          "execution_count": 19
        }
      ]
    },
    {
      "cell_type": "code",
      "source": [
        "data_sin_cabeceras[:10]"
      ],
      "metadata": {
        "colab": {
          "base_uri": "https://localhost:8080/"
        },
        "id": "JfZI6HUdp6Kg",
        "outputId": "a5713981-88fd-45df-fb6a-3e1bb81e7d89"
      },
      "execution_count": 20,
      "outputs": [
        {
          "output_type": "execute_result",
          "data": {
            "text/plain": [
              "array([['11111111', 'Alumno 1', 'TI11', '1', '8', '1', '7', '2',\n",
              "        'regular'],\n",
              "       ['11111112', 'Alumno 2', 'TI11', '10', '7', '1', '8', '5',\n",
              "        'regular'],\n",
              "       ['11111113', 'Alumno 3', 'TI11', nan, '1', '1', '3', '0',\n",
              "        'regular'],\n",
              "       ['11111114', 'Alumno 4', 'TI11', nan, '4', '3', '2', '7',\n",
              "        'regular'],\n",
              "       ['11111115', 'Alumno 5', 'TI11', '9', '10', '3', '9', '2',\n",
              "        'regular'],\n",
              "       ['11111116', 'Alumno 6', 'TI11', '1', '3', '8', '1', '7',\n",
              "        'regular'],\n",
              "       ['11111117', 'Alumno 7', 'TI11', '4', '7', '1', '6', '5',\n",
              "        'regular'],\n",
              "       ['11111118', 'Alumno 8', 'TI11', '10', '1', '7', '10', '0',\n",
              "        'regular'],\n",
              "       ['11111119', 'Alumno 9', 'TI11', '5', '5', '4', '0', '3',\n",
              "        'regular'],\n",
              "       ['11111120', 'Alumno 10', 'TI11', '5', '7', '3', '3', '4',\n",
              "        'regular']], dtype=object)"
            ]
          },
          "metadata": {},
          "execution_count": 20
        }
      ]
    },
    {
      "cell_type": "markdown",
      "source": [
        "#### Separamos los datos del alumno"
      ],
      "metadata": {
        "id": "Tk0v7tCQryBM"
      }
    },
    {
      "cell_type": "code",
      "source": [
        "datos_alumnos = np.array(data_sin_cabeceras[:,:3])\n",
        "datos_alumnos[:5]"
      ],
      "metadata": {
        "colab": {
          "base_uri": "https://localhost:8080/"
        },
        "id": "2vRFL7VSr1je",
        "outputId": "af00afb0-54a6-41fd-9381-f34174ddc79e"
      },
      "execution_count": 24,
      "outputs": [
        {
          "output_type": "execute_result",
          "data": {
            "text/plain": [
              "array([['11111111', 'Alumno 1', 'TI11'],\n",
              "       ['11111112', 'Alumno 2', 'TI11'],\n",
              "       ['11111113', 'Alumno 3', 'TI11'],\n",
              "       ['11111114', 'Alumno 4', 'TI11'],\n",
              "       ['11111115', 'Alumno 5', 'TI11']], dtype=object)"
            ]
          },
          "metadata": {},
          "execution_count": 24
        }
      ]
    },
    {
      "cell_type": "markdown",
      "source": [
        "#### Separamos las calificaciones"
      ],
      "metadata": {
        "id": "S3eq_LqMrlXD"
      }
    },
    {
      "cell_type": "code",
      "source": [
        "calificaciones_alumnos = np.array(data_sin_cabeceras[:,3:8],dtype=float) "
      ],
      "metadata": {
        "id": "yXaECTl_p8_Q"
      },
      "execution_count": 21,
      "outputs": []
    },
    {
      "cell_type": "code",
      "source": [
        "calificaciones_alumnos[:5] "
      ],
      "metadata": {
        "colab": {
          "base_uri": "https://localhost:8080/"
        },
        "id": "xEJKsLLTqLtA",
        "outputId": "1c88b305-2850-44dd-bd77-097eab8640db"
      },
      "execution_count": 22,
      "outputs": [
        {
          "output_type": "execute_result",
          "data": {
            "text/plain": [
              "array([[ 1.,  8.,  1.,  7.,  2.],\n",
              "       [10.,  7.,  1.,  8.,  5.],\n",
              "       [nan,  1.,  1.,  3.,  0.],\n",
              "       [nan,  4.,  3.,  2.,  7.],\n",
              "       [ 9., 10.,  3.,  9.,  2.]])"
            ]
          },
          "metadata": {},
          "execution_count": 22
        }
      ]
    },
    {
      "cell_type": "code",
      "source": [
        "calificaciones_alumnos.shape"
      ],
      "metadata": {
        "colab": {
          "base_uri": "https://localhost:8080/"
        },
        "id": "I4SA7k8YqNrw",
        "outputId": "a13b6237-6f16-4a39-c582-d968a0dbbcf3"
      },
      "execution_count": 23,
      "outputs": [
        {
          "output_type": "execute_result",
          "data": {
            "text/plain": [
              "(48, 5)"
            ]
          },
          "metadata": {},
          "execution_count": 23
        }
      ]
    },
    {
      "cell_type": "markdown",
      "source": [
        "#### Calculamos el promedio"
      ],
      "metadata": {
        "id": "-esZYDOar9c0"
      }
    },
    {
      "cell_type": "code",
      "source": [
        "promedio = []\n",
        "for index in range(int(filas)):\n",
        "  promedio.append([\"regular\",calificaciones_alumnos[index].mean()])\n",
        "promedio = np.array(promedio)\n",
        "promedio[:5]"
      ],
      "metadata": {
        "colab": {
          "base_uri": "https://localhost:8080/"
        },
        "id": "sux4YwMvqQfw",
        "outputId": "6fe2ea31-7b93-4322-8f85-4958c98bc278"
      },
      "execution_count": 25,
      "outputs": [
        {
          "output_type": "execute_result",
          "data": {
            "text/plain": [
              "array([['regular', '3.8'],\n",
              "       ['regular', '6.2'],\n",
              "       ['regular', 'nan'],\n",
              "       ['regular', 'nan'],\n",
              "       ['regular', '6.6']], dtype='<U32')"
            ]
          },
          "metadata": {},
          "execution_count": 25
        }
      ]
    },
    {
      "cell_type": "code",
      "source": [
        "promedio.shape"
      ],
      "metadata": {
        "colab": {
          "base_uri": "https://localhost:8080/"
        },
        "id": "1QtNQ6oCsFHK",
        "outputId": "a99cae0b-c4bc-40bb-c89a-e08191edb1ab"
      },
      "execution_count": 26,
      "outputs": [
        {
          "output_type": "execute_result",
          "data": {
            "text/plain": [
              "(48, 2)"
            ]
          },
          "metadata": {},
          "execution_count": 26
        }
      ]
    },
    {
      "cell_type": "markdown",
      "source": [
        "#### Se unen los arreglos en uno solo"
      ],
      "metadata": {
        "id": "QX_3h273sJ1_"
      }
    },
    {
      "cell_type": "code",
      "source": [
        "todos = np.concatenate((datos_alumnos,calificaciones_alumnos,promedio),axis=1)\n",
        "todos[:5]"
      ],
      "metadata": {
        "colab": {
          "base_uri": "https://localhost:8080/"
        },
        "id": "V0fJj5nLsIMh",
        "outputId": "f9af5546-0ac9-40e5-9c27-dba30418ce2d"
      },
      "execution_count": 30,
      "outputs": [
        {
          "output_type": "execute_result",
          "data": {
            "text/plain": [
              "array([['11111111', 'Alumno 1', 'TI11', 1.0, 8.0, 1.0, 7.0, 2.0,\n",
              "        'regular', '3.8'],\n",
              "       ['11111112', 'Alumno 2', 'TI11', 10.0, 7.0, 1.0, 8.0, 5.0,\n",
              "        'regular', '6.2'],\n",
              "       ['11111113', 'Alumno 3', 'TI11', nan, 1.0, 1.0, 3.0, 0.0,\n",
              "        'regular', 'nan'],\n",
              "       ['11111114', 'Alumno 4', 'TI11', nan, 4.0, 3.0, 2.0, 7.0,\n",
              "        'regular', 'nan'],\n",
              "       ['11111115', 'Alumno 5', 'TI11', 9.0, 10.0, 3.0, 9.0, 2.0,\n",
              "        'regular', '6.6']], dtype=object)"
            ]
          },
          "metadata": {},
          "execution_count": 30
        }
      ]
    },
    {
      "cell_type": "code",
      "source": [
        "todos.shape"
      ],
      "metadata": {
        "colab": {
          "base_uri": "https://localhost:8080/"
        },
        "id": "TkIiT3ousQjQ",
        "outputId": "b21ce6e8-bf30-4362-b924-0a2f8558918d"
      },
      "execution_count": 31,
      "outputs": [
        {
          "output_type": "execute_result",
          "data": {
            "text/plain": [
              "(48, 10)"
            ]
          },
          "metadata": {},
          "execution_count": 31
        }
      ]
    },
    {
      "cell_type": "markdown",
      "source": [
        "#### Unimos las cabeceras"
      ],
      "metadata": {
        "id": "vHQ8ZJsVtD_F"
      }
    },
    {
      "cell_type": "code",
      "source": [
        "cabeceras"
      ],
      "metadata": {
        "colab": {
          "base_uri": "https://localhost:8080/"
        },
        "id": "Gm3kzejBstwJ",
        "outputId": "b3aa8e98-6fc5-434c-82f2-961469fd0041"
      },
      "execution_count": 32,
      "outputs": [
        {
          "output_type": "execute_result",
          "data": {
            "text/plain": [
              "array(['matricula', 'nombre', 'grupo', 'Materia 1', 'Materia 2',\n",
              "       'Materia 3', 'Materia 4', 'Materia 5', 'estado'], dtype=object)"
            ]
          },
          "metadata": {},
          "execution_count": 32
        }
      ]
    },
    {
      "cell_type": "code",
      "source": [
        "cabeceras = np.concatenate((cabeceras,[\"promedio\"]),axis=0)"
      ],
      "metadata": {
        "id": "hjbTbi7ctJBB"
      },
      "execution_count": 34,
      "outputs": []
    },
    {
      "cell_type": "code",
      "source": [
        "cabeceras"
      ],
      "metadata": {
        "colab": {
          "base_uri": "https://localhost:8080/"
        },
        "id": "NfzSIKn4tNdo",
        "outputId": "275af0ff-7bb5-4205-bf90-dfa465c990d7"
      },
      "execution_count": 35,
      "outputs": [
        {
          "output_type": "execute_result",
          "data": {
            "text/plain": [
              "array(['matricula', 'nombre', 'grupo', 'Materia 1', 'Materia 2',\n",
              "       'Materia 3', 'Materia 4', 'Materia 5', 'estado', 'promedio'],\n",
              "      dtype=object)"
            ]
          },
          "metadata": {},
          "execution_count": 35
        }
      ]
    },
    {
      "cell_type": "code",
      "source": [
        "cabeceras.shape"
      ],
      "metadata": {
        "colab": {
          "base_uri": "https://localhost:8080/"
        },
        "id": "tqeDT8hBtQy5",
        "outputId": "993f2b3e-953c-4297-f9c6-e6456233fb0f"
      },
      "execution_count": 36,
      "outputs": [
        {
          "output_type": "execute_result",
          "data": {
            "text/plain": [
              "(10,)"
            ]
          },
          "metadata": {},
          "execution_count": 36
        }
      ]
    },
    {
      "cell_type": "code",
      "source": [
        "todos = np.concatenate(([cabeceras],todos),axis=0)\n",
        "todos"
      ],
      "metadata": {
        "colab": {
          "base_uri": "https://localhost:8080/"
        },
        "id": "0nKeEDEytTjx",
        "outputId": "97bdc9d2-6463-4ee6-c24b-6b1bcae8fdcb"
      },
      "execution_count": 38,
      "outputs": [
        {
          "output_type": "execute_result",
          "data": {
            "text/plain": [
              "array([['matricula', 'nombre', 'grupo', 'Materia 1', 'Materia 2',\n",
              "        'Materia 3', 'Materia 4', 'Materia 5', 'estado', 'promedio'],\n",
              "       ['matricula', 'nombre', 'grupo', 'Materia 1', 'Materia 2',\n",
              "        'Materia 3', 'Materia 4', 'Materia 5', 'estado', 'promedio'],\n",
              "       ['11111111', 'Alumno 1', 'TI11', 1.0, 8.0, 1.0, 7.0, 2.0,\n",
              "        'regular', '3.8'],\n",
              "       ['11111112', 'Alumno 2', 'TI11', 10.0, 7.0, 1.0, 8.0, 5.0,\n",
              "        'regular', '6.2'],\n",
              "       ['11111113', 'Alumno 3', 'TI11', nan, 1.0, 1.0, 3.0, 0.0,\n",
              "        'regular', 'nan'],\n",
              "       ['11111114', 'Alumno 4', 'TI11', nan, 4.0, 3.0, 2.0, 7.0,\n",
              "        'regular', 'nan'],\n",
              "       ['11111115', 'Alumno 5', 'TI11', 9.0, 10.0, 3.0, 9.0, 2.0,\n",
              "        'regular', '6.6'],\n",
              "       ['11111116', 'Alumno 6', 'TI11', 1.0, 3.0, 8.0, 1.0, 7.0,\n",
              "        'regular', '4.0'],\n",
              "       ['11111117', 'Alumno 7', 'TI11', 4.0, 7.0, 1.0, 6.0, 5.0,\n",
              "        'regular', '4.6'],\n",
              "       ['11111118', 'Alumno 8', 'TI11', 10.0, 1.0, 7.0, 10.0, 0.0,\n",
              "        'regular', '5.6'],\n",
              "       ['11111119', 'Alumno 9', 'TI11', 5.0, 5.0, 4.0, 0.0, 3.0,\n",
              "        'regular', '3.4'],\n",
              "       ['11111120', 'Alumno 10', 'TI11', 5.0, 7.0, 3.0, 3.0, 4.0,\n",
              "        'regular', '4.4'],\n",
              "       ['11111121', 'Alumno 11', 'TI11', 6.0, 1.0, 3.0, 7.0, 0.0,\n",
              "        'regular', '3.4'],\n",
              "       ['11111122', 'Alumno 12', 'TI11', 7.0, 2.0, 5.0, 4.0, 5.0,\n",
              "        'regular', '4.6'],\n",
              "       ['11111123', 'Alumno 13', 'TI12', 5.0, 2.0, 3.0, 0.0, 1.0,\n",
              "        'regular', '2.2'],\n",
              "       ['11111124', 'Alumno 14', 'TI12', 5.0, 2.0, 10.0, 0.0, 6.0,\n",
              "        'regular', '4.6'],\n",
              "       ['11111125', 'Alumno 15', 'TI12', 9.0, 9.0, 1.0, 3.0, 1.0,\n",
              "        'regular', '4.6'],\n",
              "       ['11111126', 'Alumno 16', 'TI12', 1.0, 2.0, 1.0, 7.0, 7.0,\n",
              "        'regular', '3.6'],\n",
              "       ['11111127', 'Alumno 17', 'TI12', 0.0, 2.0, 1.0, 0.0, 2.0,\n",
              "        'regular', '1.0'],\n",
              "       ['11111128', 'Alumno 18', 'TI12', 0.0, 1.0, 4.0, 7.0, 6.0,\n",
              "        'regular', '3.6'],\n",
              "       ['11111129', 'Alumno 19', 'TI12', 0.0, 8.0, 7.0, 8.0, 2.0,\n",
              "        'regular', '5.0'],\n",
              "       ['11111130', 'Alumno 20', 'TI12', 4.0, 0.0, 5.0, 0.0, 4.0,\n",
              "        'regular', '2.6'],\n",
              "       ['11111131', 'Alumno 21', 'TI12', 6.0, 4.0, 2.0, 10.0, 10.0,\n",
              "        'regular', '6.4'],\n",
              "       ['11111132', 'Alumno 22', 'TI12', 5.0, 6.0, 9.0, 0.0, 3.0,\n",
              "        'regular', '4.6'],\n",
              "       ['11111133', 'Alumno 23', 'TI12', 1.0, 9.0, 7.0, 7.0, 6.0,\n",
              "        'regular', '6.0'],\n",
              "       ['11111134', 'Alumno 24', 'TI41', 4.0, 0.0, 10.0, 7.0, 0.0,\n",
              "        'regular', '4.2'],\n",
              "       ['11111135', 'Alumno 25', 'TI41', 3.0, 3.0, 0.0, 8.0, 5.0,\n",
              "        'regular', '3.8'],\n",
              "       ['11111136', 'Alumno 26', 'TI41', 0.0, 5.0, 7.0, 2.0, 0.0,\n",
              "        'regular', '2.8'],\n",
              "       ['11111137', 'Alumno 27', 'TI41', 0.0, 0.0, 6.0, 0.0, 5.0,\n",
              "        'regular', '2.2'],\n",
              "       ['11111138', 'Alumno 28', 'TI41', 9.0, 3.0, 10.0, 9.0, 6.0,\n",
              "        'regular', '7.4'],\n",
              "       ['11111139', 'Alumno 29', 'TI41', 0.0, 5.0, 1.0, 10.0, 1.0,\n",
              "        'regular', '3.4'],\n",
              "       ['11111140', 'Alumno 30', 'TI41', 3.0, 3.0, 5.0, 9.0, 9.0,\n",
              "        'regular', '5.8'],\n",
              "       ['11111141', 'Alumno 31', 'TI41', 10.0, 10.0, 4.0, 1.0, 4.0,\n",
              "        'regular', '5.8'],\n",
              "       ['11111142', 'Alumno 32', 'TI41', 6.0, 0.0, 5.0, 3.0, 2.0,\n",
              "        'regular', '3.2'],\n",
              "       ['11111143', 'Alumno 33', 'IDGS91', 0.0, 4.0, 1.0, 7.0, 9.0,\n",
              "        'regular', '4.2'],\n",
              "       ['11111144', 'Alumno 34', 'IDGS91', 1.0, 1.0, 2.0, 3.0, 8.0,\n",
              "        'regular', '3.0'],\n",
              "       ['11111145', 'Alumno 35', 'IDGS91', 0.0, 7.0, 10.0, 7.0, 7.0,\n",
              "        'regular', '6.2'],\n",
              "       ['11111146', 'Alumno 36', 'IDGS91', 7.0, 1.0, 4.0, 0.0, 6.0,\n",
              "        'regular', '3.6'],\n",
              "       ['11111147', 'Alumno 37', 'IDGS91', 6.0, 6.0, 4.0, 3.0, 0.0,\n",
              "        'regular', '3.8'],\n",
              "       ['11111148', 'Alumno 38', 'IDGS91', 0.0, 6.0, 6.0, 3.0, 5.0,\n",
              "        'regular', '4.0'],\n",
              "       ['11111149', 'Alumno 39', 'IDGS91', 8.0, 7.0, 9.0, 5.0, 2.0,\n",
              "        'regular', '6.2'],\n",
              "       ['11111150', 'Alumno 40', 'IDGS91', 1.0, 0.0, 3.0, 4.0, 10.0,\n",
              "        'regular', '3.6'],\n",
              "       ['11111151', 'Alumno 41', 'IDGS91', 6.0, 5.0, 1.0, 5.0, 9.0,\n",
              "        'regular', '5.2'],\n",
              "       ['11111152', 'Alumno 42', 'IDGS91', 2.0, 0.0, 9.0, 9.0, 5.0,\n",
              "        'regular', '5.0'],\n",
              "       ['11111153', 'Alumno 43', 'IDGS91', 3.0, 4.0, 0.0, 0.0, 0.0,\n",
              "        'regular', '1.4'],\n",
              "       ['11111154', 'Alumno 44', 'IDGS91', 3.0, 1.0, 1.0, 7.0, 10.0,\n",
              "        'regular', '4.4'],\n",
              "       ['11111155', 'Alumno 45', 'IDGS91', 4.0, 1.0, 2.0, 8.0, 6.0,\n",
              "        'regular', '4.2'],\n",
              "       ['11111156', 'Alumno 46', 'IDGS71', 10.0, 1.0, 10.0, 0.0, 7.0,\n",
              "        'regular', '5.6'],\n",
              "       ['11111157', 'Alumno 47', 'IDGS71', 9.0, 10.0, 1.0, 3.0, 9.0,\n",
              "        'regular', '6.4'],\n",
              "       ['11111158', 'Alumno 48', 'IDGS71', 4.0, 4.0, 10.0, 6.0, 8.0,\n",
              "        'regular', '6.4']], dtype=object)"
            ]
          },
          "metadata": {},
          "execution_count": 38
        }
      ]
    },
    {
      "cell_type": "code",
      "source": [
        "todos=np.delete(todos, 1, axis=0)"
      ],
      "metadata": {
        "id": "kyEX9n_9tmRJ"
      },
      "execution_count": 42,
      "outputs": []
    },
    {
      "cell_type": "code",
      "source": [
        "todos"
      ],
      "metadata": {
        "colab": {
          "base_uri": "https://localhost:8080/"
        },
        "id": "WW8onUhLuFsJ",
        "outputId": "9b442bde-63a7-41ea-8a3b-f2c25a8233cf"
      },
      "execution_count": 43,
      "outputs": [
        {
          "output_type": "execute_result",
          "data": {
            "text/plain": [
              "array([['matricula', 'nombre', 'grupo', 'Materia 1', 'Materia 2',\n",
              "        'Materia 3', 'Materia 4', 'Materia 5', 'estado', 'promedio'],\n",
              "       ['11111111', 'Alumno 1', 'TI11', 1.0, 8.0, 1.0, 7.0, 2.0,\n",
              "        'regular', '3.8'],\n",
              "       ['11111112', 'Alumno 2', 'TI11', 10.0, 7.0, 1.0, 8.0, 5.0,\n",
              "        'regular', '6.2'],\n",
              "       ['11111113', 'Alumno 3', 'TI11', nan, 1.0, 1.0, 3.0, 0.0,\n",
              "        'regular', 'nan'],\n",
              "       ['11111114', 'Alumno 4', 'TI11', nan, 4.0, 3.0, 2.0, 7.0,\n",
              "        'regular', 'nan'],\n",
              "       ['11111115', 'Alumno 5', 'TI11', 9.0, 10.0, 3.0, 9.0, 2.0,\n",
              "        'regular', '6.6'],\n",
              "       ['11111116', 'Alumno 6', 'TI11', 1.0, 3.0, 8.0, 1.0, 7.0,\n",
              "        'regular', '4.0'],\n",
              "       ['11111117', 'Alumno 7', 'TI11', 4.0, 7.0, 1.0, 6.0, 5.0,\n",
              "        'regular', '4.6'],\n",
              "       ['11111118', 'Alumno 8', 'TI11', 10.0, 1.0, 7.0, 10.0, 0.0,\n",
              "        'regular', '5.6'],\n",
              "       ['11111119', 'Alumno 9', 'TI11', 5.0, 5.0, 4.0, 0.0, 3.0,\n",
              "        'regular', '3.4'],\n",
              "       ['11111120', 'Alumno 10', 'TI11', 5.0, 7.0, 3.0, 3.0, 4.0,\n",
              "        'regular', '4.4'],\n",
              "       ['11111121', 'Alumno 11', 'TI11', 6.0, 1.0, 3.0, 7.0, 0.0,\n",
              "        'regular', '3.4'],\n",
              "       ['11111122', 'Alumno 12', 'TI11', 7.0, 2.0, 5.0, 4.0, 5.0,\n",
              "        'regular', '4.6'],\n",
              "       ['11111123', 'Alumno 13', 'TI12', 5.0, 2.0, 3.0, 0.0, 1.0,\n",
              "        'regular', '2.2'],\n",
              "       ['11111124', 'Alumno 14', 'TI12', 5.0, 2.0, 10.0, 0.0, 6.0,\n",
              "        'regular', '4.6'],\n",
              "       ['11111125', 'Alumno 15', 'TI12', 9.0, 9.0, 1.0, 3.0, 1.0,\n",
              "        'regular', '4.6'],\n",
              "       ['11111126', 'Alumno 16', 'TI12', 1.0, 2.0, 1.0, 7.0, 7.0,\n",
              "        'regular', '3.6'],\n",
              "       ['11111127', 'Alumno 17', 'TI12', 0.0, 2.0, 1.0, 0.0, 2.0,\n",
              "        'regular', '1.0'],\n",
              "       ['11111128', 'Alumno 18', 'TI12', 0.0, 1.0, 4.0, 7.0, 6.0,\n",
              "        'regular', '3.6'],\n",
              "       ['11111129', 'Alumno 19', 'TI12', 0.0, 8.0, 7.0, 8.0, 2.0,\n",
              "        'regular', '5.0'],\n",
              "       ['11111130', 'Alumno 20', 'TI12', 4.0, 0.0, 5.0, 0.0, 4.0,\n",
              "        'regular', '2.6'],\n",
              "       ['11111131', 'Alumno 21', 'TI12', 6.0, 4.0, 2.0, 10.0, 10.0,\n",
              "        'regular', '6.4'],\n",
              "       ['11111132', 'Alumno 22', 'TI12', 5.0, 6.0, 9.0, 0.0, 3.0,\n",
              "        'regular', '4.6'],\n",
              "       ['11111133', 'Alumno 23', 'TI12', 1.0, 9.0, 7.0, 7.0, 6.0,\n",
              "        'regular', '6.0'],\n",
              "       ['11111134', 'Alumno 24', 'TI41', 4.0, 0.0, 10.0, 7.0, 0.0,\n",
              "        'regular', '4.2'],\n",
              "       ['11111135', 'Alumno 25', 'TI41', 3.0, 3.0, 0.0, 8.0, 5.0,\n",
              "        'regular', '3.8'],\n",
              "       ['11111136', 'Alumno 26', 'TI41', 0.0, 5.0, 7.0, 2.0, 0.0,\n",
              "        'regular', '2.8'],\n",
              "       ['11111137', 'Alumno 27', 'TI41', 0.0, 0.0, 6.0, 0.0, 5.0,\n",
              "        'regular', '2.2'],\n",
              "       ['11111138', 'Alumno 28', 'TI41', 9.0, 3.0, 10.0, 9.0, 6.0,\n",
              "        'regular', '7.4'],\n",
              "       ['11111139', 'Alumno 29', 'TI41', 0.0, 5.0, 1.0, 10.0, 1.0,\n",
              "        'regular', '3.4'],\n",
              "       ['11111140', 'Alumno 30', 'TI41', 3.0, 3.0, 5.0, 9.0, 9.0,\n",
              "        'regular', '5.8'],\n",
              "       ['11111141', 'Alumno 31', 'TI41', 10.0, 10.0, 4.0, 1.0, 4.0,\n",
              "        'regular', '5.8'],\n",
              "       ['11111142', 'Alumno 32', 'TI41', 6.0, 0.0, 5.0, 3.0, 2.0,\n",
              "        'regular', '3.2'],\n",
              "       ['11111143', 'Alumno 33', 'IDGS91', 0.0, 4.0, 1.0, 7.0, 9.0,\n",
              "        'regular', '4.2'],\n",
              "       ['11111144', 'Alumno 34', 'IDGS91', 1.0, 1.0, 2.0, 3.0, 8.0,\n",
              "        'regular', '3.0'],\n",
              "       ['11111145', 'Alumno 35', 'IDGS91', 0.0, 7.0, 10.0, 7.0, 7.0,\n",
              "        'regular', '6.2'],\n",
              "       ['11111146', 'Alumno 36', 'IDGS91', 7.0, 1.0, 4.0, 0.0, 6.0,\n",
              "        'regular', '3.6'],\n",
              "       ['11111147', 'Alumno 37', 'IDGS91', 6.0, 6.0, 4.0, 3.0, 0.0,\n",
              "        'regular', '3.8'],\n",
              "       ['11111148', 'Alumno 38', 'IDGS91', 0.0, 6.0, 6.0, 3.0, 5.0,\n",
              "        'regular', '4.0'],\n",
              "       ['11111149', 'Alumno 39', 'IDGS91', 8.0, 7.0, 9.0, 5.0, 2.0,\n",
              "        'regular', '6.2'],\n",
              "       ['11111150', 'Alumno 40', 'IDGS91', 1.0, 0.0, 3.0, 4.0, 10.0,\n",
              "        'regular', '3.6'],\n",
              "       ['11111151', 'Alumno 41', 'IDGS91', 6.0, 5.0, 1.0, 5.0, 9.0,\n",
              "        'regular', '5.2'],\n",
              "       ['11111152', 'Alumno 42', 'IDGS91', 2.0, 0.0, 9.0, 9.0, 5.0,\n",
              "        'regular', '5.0'],\n",
              "       ['11111153', 'Alumno 43', 'IDGS91', 3.0, 4.0, 0.0, 0.0, 0.0,\n",
              "        'regular', '1.4'],\n",
              "       ['11111154', 'Alumno 44', 'IDGS91', 3.0, 1.0, 1.0, 7.0, 10.0,\n",
              "        'regular', '4.4'],\n",
              "       ['11111155', 'Alumno 45', 'IDGS91', 4.0, 1.0, 2.0, 8.0, 6.0,\n",
              "        'regular', '4.2'],\n",
              "       ['11111156', 'Alumno 46', 'IDGS71', 10.0, 1.0, 10.0, 0.0, 7.0,\n",
              "        'regular', '5.6'],\n",
              "       ['11111157', 'Alumno 47', 'IDGS71', 9.0, 10.0, 1.0, 3.0, 9.0,\n",
              "        'regular', '6.4'],\n",
              "       ['11111158', 'Alumno 48', 'IDGS71', 4.0, 4.0, 10.0, 6.0, 8.0,\n",
              "        'regular', '6.4']], dtype=object)"
            ]
          },
          "metadata": {},
          "execution_count": 43
        }
      ]
    },
    {
      "cell_type": "code",
      "source": [
        "todos.shape"
      ],
      "metadata": {
        "colab": {
          "base_uri": "https://localhost:8080/"
        },
        "id": "kczFWnEDuOo6",
        "outputId": "552e5172-57de-4e82-ea63-d6f75a57075c"
      },
      "execution_count": 44,
      "outputs": [
        {
          "output_type": "execute_result",
          "data": {
            "text/plain": [
              "(49, 10)"
            ]
          },
          "metadata": {},
          "execution_count": 44
        }
      ]
    },
    {
      "cell_type": "code",
      "source": [
        "todos = pd.DataFrame(todos)\n",
        "todos"
      ],
      "metadata": {
        "colab": {
          "base_uri": "https://localhost:8080/",
          "height": 1000
        },
        "id": "QCqF4oMVuaG7",
        "outputId": "9cdaae61-425a-423f-a75f-4537993f508f"
      },
      "execution_count": 45,
      "outputs": [
        {
          "output_type": "execute_result",
          "data": {
            "text/plain": [
              "            0          1       2          3          4          5          6  \\\n",
              "0   matricula     nombre   grupo  Materia 1  Materia 2  Materia 3  Materia 4   \n",
              "1    11111111   Alumno 1    TI11        1.0        8.0        1.0        7.0   \n",
              "2    11111112   Alumno 2    TI11       10.0        7.0        1.0        8.0   \n",
              "3    11111113   Alumno 3    TI11        NaN        1.0        1.0        3.0   \n",
              "4    11111114   Alumno 4    TI11        NaN        4.0        3.0        2.0   \n",
              "5    11111115   Alumno 5    TI11        9.0       10.0        3.0        9.0   \n",
              "6    11111116   Alumno 6    TI11        1.0        3.0        8.0        1.0   \n",
              "7    11111117   Alumno 7    TI11        4.0        7.0        1.0        6.0   \n",
              "8    11111118   Alumno 8    TI11       10.0        1.0        7.0       10.0   \n",
              "9    11111119   Alumno 9    TI11        5.0        5.0        4.0        0.0   \n",
              "10   11111120  Alumno 10    TI11        5.0        7.0        3.0        3.0   \n",
              "11   11111121  Alumno 11    TI11        6.0        1.0        3.0        7.0   \n",
              "12   11111122  Alumno 12    TI11        7.0        2.0        5.0        4.0   \n",
              "13   11111123  Alumno 13    TI12        5.0        2.0        3.0        0.0   \n",
              "14   11111124  Alumno 14    TI12        5.0        2.0       10.0        0.0   \n",
              "15   11111125  Alumno 15    TI12        9.0        9.0        1.0        3.0   \n",
              "16   11111126  Alumno 16    TI12        1.0        2.0        1.0        7.0   \n",
              "17   11111127  Alumno 17    TI12        0.0        2.0        1.0        0.0   \n",
              "18   11111128  Alumno 18    TI12        0.0        1.0        4.0        7.0   \n",
              "19   11111129  Alumno 19    TI12        0.0        8.0        7.0        8.0   \n",
              "20   11111130  Alumno 20    TI12        4.0        0.0        5.0        0.0   \n",
              "21   11111131  Alumno 21    TI12        6.0        4.0        2.0       10.0   \n",
              "22   11111132  Alumno 22    TI12        5.0        6.0        9.0        0.0   \n",
              "23   11111133  Alumno 23    TI12        1.0        9.0        7.0        7.0   \n",
              "24   11111134  Alumno 24    TI41        4.0        0.0       10.0        7.0   \n",
              "25   11111135  Alumno 25    TI41        3.0        3.0        0.0        8.0   \n",
              "26   11111136  Alumno 26    TI41        0.0        5.0        7.0        2.0   \n",
              "27   11111137  Alumno 27    TI41        0.0        0.0        6.0        0.0   \n",
              "28   11111138  Alumno 28    TI41        9.0        3.0       10.0        9.0   \n",
              "29   11111139  Alumno 29    TI41        0.0        5.0        1.0       10.0   \n",
              "30   11111140  Alumno 30    TI41        3.0        3.0        5.0        9.0   \n",
              "31   11111141  Alumno 31    TI41       10.0       10.0        4.0        1.0   \n",
              "32   11111142  Alumno 32    TI41        6.0        0.0        5.0        3.0   \n",
              "33   11111143  Alumno 33  IDGS91        0.0        4.0        1.0        7.0   \n",
              "34   11111144  Alumno 34  IDGS91        1.0        1.0        2.0        3.0   \n",
              "35   11111145  Alumno 35  IDGS91        0.0        7.0       10.0        7.0   \n",
              "36   11111146  Alumno 36  IDGS91        7.0        1.0        4.0        0.0   \n",
              "37   11111147  Alumno 37  IDGS91        6.0        6.0        4.0        3.0   \n",
              "38   11111148  Alumno 38  IDGS91        0.0        6.0        6.0        3.0   \n",
              "39   11111149  Alumno 39  IDGS91        8.0        7.0        9.0        5.0   \n",
              "40   11111150  Alumno 40  IDGS91        1.0        0.0        3.0        4.0   \n",
              "41   11111151  Alumno 41  IDGS91        6.0        5.0        1.0        5.0   \n",
              "42   11111152  Alumno 42  IDGS91        2.0        0.0        9.0        9.0   \n",
              "43   11111153  Alumno 43  IDGS91        3.0        4.0        0.0        0.0   \n",
              "44   11111154  Alumno 44  IDGS91        3.0        1.0        1.0        7.0   \n",
              "45   11111155  Alumno 45  IDGS91        4.0        1.0        2.0        8.0   \n",
              "46   11111156  Alumno 46  IDGS71       10.0        1.0       10.0        0.0   \n",
              "47   11111157  Alumno 47  IDGS71        9.0       10.0        1.0        3.0   \n",
              "48   11111158  Alumno 48  IDGS71        4.0        4.0       10.0        6.0   \n",
              "\n",
              "            7        8         9  \n",
              "0   Materia 5   estado  promedio  \n",
              "1         2.0  regular       3.8  \n",
              "2         5.0  regular       6.2  \n",
              "3         0.0  regular       nan  \n",
              "4         7.0  regular       nan  \n",
              "5         2.0  regular       6.6  \n",
              "6         7.0  regular       4.0  \n",
              "7         5.0  regular       4.6  \n",
              "8         0.0  regular       5.6  \n",
              "9         3.0  regular       3.4  \n",
              "10        4.0  regular       4.4  \n",
              "11        0.0  regular       3.4  \n",
              "12        5.0  regular       4.6  \n",
              "13        1.0  regular       2.2  \n",
              "14        6.0  regular       4.6  \n",
              "15        1.0  regular       4.6  \n",
              "16        7.0  regular       3.6  \n",
              "17        2.0  regular       1.0  \n",
              "18        6.0  regular       3.6  \n",
              "19        2.0  regular       5.0  \n",
              "20        4.0  regular       2.6  \n",
              "21       10.0  regular       6.4  \n",
              "22        3.0  regular       4.6  \n",
              "23        6.0  regular       6.0  \n",
              "24        0.0  regular       4.2  \n",
              "25        5.0  regular       3.8  \n",
              "26        0.0  regular       2.8  \n",
              "27        5.0  regular       2.2  \n",
              "28        6.0  regular       7.4  \n",
              "29        1.0  regular       3.4  \n",
              "30        9.0  regular       5.8  \n",
              "31        4.0  regular       5.8  \n",
              "32        2.0  regular       3.2  \n",
              "33        9.0  regular       4.2  \n",
              "34        8.0  regular       3.0  \n",
              "35        7.0  regular       6.2  \n",
              "36        6.0  regular       3.6  \n",
              "37        0.0  regular       3.8  \n",
              "38        5.0  regular       4.0  \n",
              "39        2.0  regular       6.2  \n",
              "40       10.0  regular       3.6  \n",
              "41        9.0  regular       5.2  \n",
              "42        5.0  regular       5.0  \n",
              "43        0.0  regular       1.4  \n",
              "44       10.0  regular       4.4  \n",
              "45        6.0  regular       4.2  \n",
              "46        7.0  regular       5.6  \n",
              "47        9.0  regular       6.4  \n",
              "48        8.0  regular       6.4  "
            ],
            "text/html": [
              "\n",
              "  <div id=\"df-e9a8891f-8151-4e50-ac11-cdf4589e1ed1\">\n",
              "    <div class=\"colab-df-container\">\n",
              "      <div>\n",
              "<style scoped>\n",
              "    .dataframe tbody tr th:only-of-type {\n",
              "        vertical-align: middle;\n",
              "    }\n",
              "\n",
              "    .dataframe tbody tr th {\n",
              "        vertical-align: top;\n",
              "    }\n",
              "\n",
              "    .dataframe thead th {\n",
              "        text-align: right;\n",
              "    }\n",
              "</style>\n",
              "<table border=\"1\" class=\"dataframe\">\n",
              "  <thead>\n",
              "    <tr style=\"text-align: right;\">\n",
              "      <th></th>\n",
              "      <th>0</th>\n",
              "      <th>1</th>\n",
              "      <th>2</th>\n",
              "      <th>3</th>\n",
              "      <th>4</th>\n",
              "      <th>5</th>\n",
              "      <th>6</th>\n",
              "      <th>7</th>\n",
              "      <th>8</th>\n",
              "      <th>9</th>\n",
              "    </tr>\n",
              "  </thead>\n",
              "  <tbody>\n",
              "    <tr>\n",
              "      <th>0</th>\n",
              "      <td>matricula</td>\n",
              "      <td>nombre</td>\n",
              "      <td>grupo</td>\n",
              "      <td>Materia 1</td>\n",
              "      <td>Materia 2</td>\n",
              "      <td>Materia 3</td>\n",
              "      <td>Materia 4</td>\n",
              "      <td>Materia 5</td>\n",
              "      <td>estado</td>\n",
              "      <td>promedio</td>\n",
              "    </tr>\n",
              "    <tr>\n",
              "      <th>1</th>\n",
              "      <td>11111111</td>\n",
              "      <td>Alumno 1</td>\n",
              "      <td>TI11</td>\n",
              "      <td>1.0</td>\n",
              "      <td>8.0</td>\n",
              "      <td>1.0</td>\n",
              "      <td>7.0</td>\n",
              "      <td>2.0</td>\n",
              "      <td>regular</td>\n",
              "      <td>3.8</td>\n",
              "    </tr>\n",
              "    <tr>\n",
              "      <th>2</th>\n",
              "      <td>11111112</td>\n",
              "      <td>Alumno 2</td>\n",
              "      <td>TI11</td>\n",
              "      <td>10.0</td>\n",
              "      <td>7.0</td>\n",
              "      <td>1.0</td>\n",
              "      <td>8.0</td>\n",
              "      <td>5.0</td>\n",
              "      <td>regular</td>\n",
              "      <td>6.2</td>\n",
              "    </tr>\n",
              "    <tr>\n",
              "      <th>3</th>\n",
              "      <td>11111113</td>\n",
              "      <td>Alumno 3</td>\n",
              "      <td>TI11</td>\n",
              "      <td>NaN</td>\n",
              "      <td>1.0</td>\n",
              "      <td>1.0</td>\n",
              "      <td>3.0</td>\n",
              "      <td>0.0</td>\n",
              "      <td>regular</td>\n",
              "      <td>nan</td>\n",
              "    </tr>\n",
              "    <tr>\n",
              "      <th>4</th>\n",
              "      <td>11111114</td>\n",
              "      <td>Alumno 4</td>\n",
              "      <td>TI11</td>\n",
              "      <td>NaN</td>\n",
              "      <td>4.0</td>\n",
              "      <td>3.0</td>\n",
              "      <td>2.0</td>\n",
              "      <td>7.0</td>\n",
              "      <td>regular</td>\n",
              "      <td>nan</td>\n",
              "    </tr>\n",
              "    <tr>\n",
              "      <th>5</th>\n",
              "      <td>11111115</td>\n",
              "      <td>Alumno 5</td>\n",
              "      <td>TI11</td>\n",
              "      <td>9.0</td>\n",
              "      <td>10.0</td>\n",
              "      <td>3.0</td>\n",
              "      <td>9.0</td>\n",
              "      <td>2.0</td>\n",
              "      <td>regular</td>\n",
              "      <td>6.6</td>\n",
              "    </tr>\n",
              "    <tr>\n",
              "      <th>6</th>\n",
              "      <td>11111116</td>\n",
              "      <td>Alumno 6</td>\n",
              "      <td>TI11</td>\n",
              "      <td>1.0</td>\n",
              "      <td>3.0</td>\n",
              "      <td>8.0</td>\n",
              "      <td>1.0</td>\n",
              "      <td>7.0</td>\n",
              "      <td>regular</td>\n",
              "      <td>4.0</td>\n",
              "    </tr>\n",
              "    <tr>\n",
              "      <th>7</th>\n",
              "      <td>11111117</td>\n",
              "      <td>Alumno 7</td>\n",
              "      <td>TI11</td>\n",
              "      <td>4.0</td>\n",
              "      <td>7.0</td>\n",
              "      <td>1.0</td>\n",
              "      <td>6.0</td>\n",
              "      <td>5.0</td>\n",
              "      <td>regular</td>\n",
              "      <td>4.6</td>\n",
              "    </tr>\n",
              "    <tr>\n",
              "      <th>8</th>\n",
              "      <td>11111118</td>\n",
              "      <td>Alumno 8</td>\n",
              "      <td>TI11</td>\n",
              "      <td>10.0</td>\n",
              "      <td>1.0</td>\n",
              "      <td>7.0</td>\n",
              "      <td>10.0</td>\n",
              "      <td>0.0</td>\n",
              "      <td>regular</td>\n",
              "      <td>5.6</td>\n",
              "    </tr>\n",
              "    <tr>\n",
              "      <th>9</th>\n",
              "      <td>11111119</td>\n",
              "      <td>Alumno 9</td>\n",
              "      <td>TI11</td>\n",
              "      <td>5.0</td>\n",
              "      <td>5.0</td>\n",
              "      <td>4.0</td>\n",
              "      <td>0.0</td>\n",
              "      <td>3.0</td>\n",
              "      <td>regular</td>\n",
              "      <td>3.4</td>\n",
              "    </tr>\n",
              "    <tr>\n",
              "      <th>10</th>\n",
              "      <td>11111120</td>\n",
              "      <td>Alumno 10</td>\n",
              "      <td>TI11</td>\n",
              "      <td>5.0</td>\n",
              "      <td>7.0</td>\n",
              "      <td>3.0</td>\n",
              "      <td>3.0</td>\n",
              "      <td>4.0</td>\n",
              "      <td>regular</td>\n",
              "      <td>4.4</td>\n",
              "    </tr>\n",
              "    <tr>\n",
              "      <th>11</th>\n",
              "      <td>11111121</td>\n",
              "      <td>Alumno 11</td>\n",
              "      <td>TI11</td>\n",
              "      <td>6.0</td>\n",
              "      <td>1.0</td>\n",
              "      <td>3.0</td>\n",
              "      <td>7.0</td>\n",
              "      <td>0.0</td>\n",
              "      <td>regular</td>\n",
              "      <td>3.4</td>\n",
              "    </tr>\n",
              "    <tr>\n",
              "      <th>12</th>\n",
              "      <td>11111122</td>\n",
              "      <td>Alumno 12</td>\n",
              "      <td>TI11</td>\n",
              "      <td>7.0</td>\n",
              "      <td>2.0</td>\n",
              "      <td>5.0</td>\n",
              "      <td>4.0</td>\n",
              "      <td>5.0</td>\n",
              "      <td>regular</td>\n",
              "      <td>4.6</td>\n",
              "    </tr>\n",
              "    <tr>\n",
              "      <th>13</th>\n",
              "      <td>11111123</td>\n",
              "      <td>Alumno 13</td>\n",
              "      <td>TI12</td>\n",
              "      <td>5.0</td>\n",
              "      <td>2.0</td>\n",
              "      <td>3.0</td>\n",
              "      <td>0.0</td>\n",
              "      <td>1.0</td>\n",
              "      <td>regular</td>\n",
              "      <td>2.2</td>\n",
              "    </tr>\n",
              "    <tr>\n",
              "      <th>14</th>\n",
              "      <td>11111124</td>\n",
              "      <td>Alumno 14</td>\n",
              "      <td>TI12</td>\n",
              "      <td>5.0</td>\n",
              "      <td>2.0</td>\n",
              "      <td>10.0</td>\n",
              "      <td>0.0</td>\n",
              "      <td>6.0</td>\n",
              "      <td>regular</td>\n",
              "      <td>4.6</td>\n",
              "    </tr>\n",
              "    <tr>\n",
              "      <th>15</th>\n",
              "      <td>11111125</td>\n",
              "      <td>Alumno 15</td>\n",
              "      <td>TI12</td>\n",
              "      <td>9.0</td>\n",
              "      <td>9.0</td>\n",
              "      <td>1.0</td>\n",
              "      <td>3.0</td>\n",
              "      <td>1.0</td>\n",
              "      <td>regular</td>\n",
              "      <td>4.6</td>\n",
              "    </tr>\n",
              "    <tr>\n",
              "      <th>16</th>\n",
              "      <td>11111126</td>\n",
              "      <td>Alumno 16</td>\n",
              "      <td>TI12</td>\n",
              "      <td>1.0</td>\n",
              "      <td>2.0</td>\n",
              "      <td>1.0</td>\n",
              "      <td>7.0</td>\n",
              "      <td>7.0</td>\n",
              "      <td>regular</td>\n",
              "      <td>3.6</td>\n",
              "    </tr>\n",
              "    <tr>\n",
              "      <th>17</th>\n",
              "      <td>11111127</td>\n",
              "      <td>Alumno 17</td>\n",
              "      <td>TI12</td>\n",
              "      <td>0.0</td>\n",
              "      <td>2.0</td>\n",
              "      <td>1.0</td>\n",
              "      <td>0.0</td>\n",
              "      <td>2.0</td>\n",
              "      <td>regular</td>\n",
              "      <td>1.0</td>\n",
              "    </tr>\n",
              "    <tr>\n",
              "      <th>18</th>\n",
              "      <td>11111128</td>\n",
              "      <td>Alumno 18</td>\n",
              "      <td>TI12</td>\n",
              "      <td>0.0</td>\n",
              "      <td>1.0</td>\n",
              "      <td>4.0</td>\n",
              "      <td>7.0</td>\n",
              "      <td>6.0</td>\n",
              "      <td>regular</td>\n",
              "      <td>3.6</td>\n",
              "    </tr>\n",
              "    <tr>\n",
              "      <th>19</th>\n",
              "      <td>11111129</td>\n",
              "      <td>Alumno 19</td>\n",
              "      <td>TI12</td>\n",
              "      <td>0.0</td>\n",
              "      <td>8.0</td>\n",
              "      <td>7.0</td>\n",
              "      <td>8.0</td>\n",
              "      <td>2.0</td>\n",
              "      <td>regular</td>\n",
              "      <td>5.0</td>\n",
              "    </tr>\n",
              "    <tr>\n",
              "      <th>20</th>\n",
              "      <td>11111130</td>\n",
              "      <td>Alumno 20</td>\n",
              "      <td>TI12</td>\n",
              "      <td>4.0</td>\n",
              "      <td>0.0</td>\n",
              "      <td>5.0</td>\n",
              "      <td>0.0</td>\n",
              "      <td>4.0</td>\n",
              "      <td>regular</td>\n",
              "      <td>2.6</td>\n",
              "    </tr>\n",
              "    <tr>\n",
              "      <th>21</th>\n",
              "      <td>11111131</td>\n",
              "      <td>Alumno 21</td>\n",
              "      <td>TI12</td>\n",
              "      <td>6.0</td>\n",
              "      <td>4.0</td>\n",
              "      <td>2.0</td>\n",
              "      <td>10.0</td>\n",
              "      <td>10.0</td>\n",
              "      <td>regular</td>\n",
              "      <td>6.4</td>\n",
              "    </tr>\n",
              "    <tr>\n",
              "      <th>22</th>\n",
              "      <td>11111132</td>\n",
              "      <td>Alumno 22</td>\n",
              "      <td>TI12</td>\n",
              "      <td>5.0</td>\n",
              "      <td>6.0</td>\n",
              "      <td>9.0</td>\n",
              "      <td>0.0</td>\n",
              "      <td>3.0</td>\n",
              "      <td>regular</td>\n",
              "      <td>4.6</td>\n",
              "    </tr>\n",
              "    <tr>\n",
              "      <th>23</th>\n",
              "      <td>11111133</td>\n",
              "      <td>Alumno 23</td>\n",
              "      <td>TI12</td>\n",
              "      <td>1.0</td>\n",
              "      <td>9.0</td>\n",
              "      <td>7.0</td>\n",
              "      <td>7.0</td>\n",
              "      <td>6.0</td>\n",
              "      <td>regular</td>\n",
              "      <td>6.0</td>\n",
              "    </tr>\n",
              "    <tr>\n",
              "      <th>24</th>\n",
              "      <td>11111134</td>\n",
              "      <td>Alumno 24</td>\n",
              "      <td>TI41</td>\n",
              "      <td>4.0</td>\n",
              "      <td>0.0</td>\n",
              "      <td>10.0</td>\n",
              "      <td>7.0</td>\n",
              "      <td>0.0</td>\n",
              "      <td>regular</td>\n",
              "      <td>4.2</td>\n",
              "    </tr>\n",
              "    <tr>\n",
              "      <th>25</th>\n",
              "      <td>11111135</td>\n",
              "      <td>Alumno 25</td>\n",
              "      <td>TI41</td>\n",
              "      <td>3.0</td>\n",
              "      <td>3.0</td>\n",
              "      <td>0.0</td>\n",
              "      <td>8.0</td>\n",
              "      <td>5.0</td>\n",
              "      <td>regular</td>\n",
              "      <td>3.8</td>\n",
              "    </tr>\n",
              "    <tr>\n",
              "      <th>26</th>\n",
              "      <td>11111136</td>\n",
              "      <td>Alumno 26</td>\n",
              "      <td>TI41</td>\n",
              "      <td>0.0</td>\n",
              "      <td>5.0</td>\n",
              "      <td>7.0</td>\n",
              "      <td>2.0</td>\n",
              "      <td>0.0</td>\n",
              "      <td>regular</td>\n",
              "      <td>2.8</td>\n",
              "    </tr>\n",
              "    <tr>\n",
              "      <th>27</th>\n",
              "      <td>11111137</td>\n",
              "      <td>Alumno 27</td>\n",
              "      <td>TI41</td>\n",
              "      <td>0.0</td>\n",
              "      <td>0.0</td>\n",
              "      <td>6.0</td>\n",
              "      <td>0.0</td>\n",
              "      <td>5.0</td>\n",
              "      <td>regular</td>\n",
              "      <td>2.2</td>\n",
              "    </tr>\n",
              "    <tr>\n",
              "      <th>28</th>\n",
              "      <td>11111138</td>\n",
              "      <td>Alumno 28</td>\n",
              "      <td>TI41</td>\n",
              "      <td>9.0</td>\n",
              "      <td>3.0</td>\n",
              "      <td>10.0</td>\n",
              "      <td>9.0</td>\n",
              "      <td>6.0</td>\n",
              "      <td>regular</td>\n",
              "      <td>7.4</td>\n",
              "    </tr>\n",
              "    <tr>\n",
              "      <th>29</th>\n",
              "      <td>11111139</td>\n",
              "      <td>Alumno 29</td>\n",
              "      <td>TI41</td>\n",
              "      <td>0.0</td>\n",
              "      <td>5.0</td>\n",
              "      <td>1.0</td>\n",
              "      <td>10.0</td>\n",
              "      <td>1.0</td>\n",
              "      <td>regular</td>\n",
              "      <td>3.4</td>\n",
              "    </tr>\n",
              "    <tr>\n",
              "      <th>30</th>\n",
              "      <td>11111140</td>\n",
              "      <td>Alumno 30</td>\n",
              "      <td>TI41</td>\n",
              "      <td>3.0</td>\n",
              "      <td>3.0</td>\n",
              "      <td>5.0</td>\n",
              "      <td>9.0</td>\n",
              "      <td>9.0</td>\n",
              "      <td>regular</td>\n",
              "      <td>5.8</td>\n",
              "    </tr>\n",
              "    <tr>\n",
              "      <th>31</th>\n",
              "      <td>11111141</td>\n",
              "      <td>Alumno 31</td>\n",
              "      <td>TI41</td>\n",
              "      <td>10.0</td>\n",
              "      <td>10.0</td>\n",
              "      <td>4.0</td>\n",
              "      <td>1.0</td>\n",
              "      <td>4.0</td>\n",
              "      <td>regular</td>\n",
              "      <td>5.8</td>\n",
              "    </tr>\n",
              "    <tr>\n",
              "      <th>32</th>\n",
              "      <td>11111142</td>\n",
              "      <td>Alumno 32</td>\n",
              "      <td>TI41</td>\n",
              "      <td>6.0</td>\n",
              "      <td>0.0</td>\n",
              "      <td>5.0</td>\n",
              "      <td>3.0</td>\n",
              "      <td>2.0</td>\n",
              "      <td>regular</td>\n",
              "      <td>3.2</td>\n",
              "    </tr>\n",
              "    <tr>\n",
              "      <th>33</th>\n",
              "      <td>11111143</td>\n",
              "      <td>Alumno 33</td>\n",
              "      <td>IDGS91</td>\n",
              "      <td>0.0</td>\n",
              "      <td>4.0</td>\n",
              "      <td>1.0</td>\n",
              "      <td>7.0</td>\n",
              "      <td>9.0</td>\n",
              "      <td>regular</td>\n",
              "      <td>4.2</td>\n",
              "    </tr>\n",
              "    <tr>\n",
              "      <th>34</th>\n",
              "      <td>11111144</td>\n",
              "      <td>Alumno 34</td>\n",
              "      <td>IDGS91</td>\n",
              "      <td>1.0</td>\n",
              "      <td>1.0</td>\n",
              "      <td>2.0</td>\n",
              "      <td>3.0</td>\n",
              "      <td>8.0</td>\n",
              "      <td>regular</td>\n",
              "      <td>3.0</td>\n",
              "    </tr>\n",
              "    <tr>\n",
              "      <th>35</th>\n",
              "      <td>11111145</td>\n",
              "      <td>Alumno 35</td>\n",
              "      <td>IDGS91</td>\n",
              "      <td>0.0</td>\n",
              "      <td>7.0</td>\n",
              "      <td>10.0</td>\n",
              "      <td>7.0</td>\n",
              "      <td>7.0</td>\n",
              "      <td>regular</td>\n",
              "      <td>6.2</td>\n",
              "    </tr>\n",
              "    <tr>\n",
              "      <th>36</th>\n",
              "      <td>11111146</td>\n",
              "      <td>Alumno 36</td>\n",
              "      <td>IDGS91</td>\n",
              "      <td>7.0</td>\n",
              "      <td>1.0</td>\n",
              "      <td>4.0</td>\n",
              "      <td>0.0</td>\n",
              "      <td>6.0</td>\n",
              "      <td>regular</td>\n",
              "      <td>3.6</td>\n",
              "    </tr>\n",
              "    <tr>\n",
              "      <th>37</th>\n",
              "      <td>11111147</td>\n",
              "      <td>Alumno 37</td>\n",
              "      <td>IDGS91</td>\n",
              "      <td>6.0</td>\n",
              "      <td>6.0</td>\n",
              "      <td>4.0</td>\n",
              "      <td>3.0</td>\n",
              "      <td>0.0</td>\n",
              "      <td>regular</td>\n",
              "      <td>3.8</td>\n",
              "    </tr>\n",
              "    <tr>\n",
              "      <th>38</th>\n",
              "      <td>11111148</td>\n",
              "      <td>Alumno 38</td>\n",
              "      <td>IDGS91</td>\n",
              "      <td>0.0</td>\n",
              "      <td>6.0</td>\n",
              "      <td>6.0</td>\n",
              "      <td>3.0</td>\n",
              "      <td>5.0</td>\n",
              "      <td>regular</td>\n",
              "      <td>4.0</td>\n",
              "    </tr>\n",
              "    <tr>\n",
              "      <th>39</th>\n",
              "      <td>11111149</td>\n",
              "      <td>Alumno 39</td>\n",
              "      <td>IDGS91</td>\n",
              "      <td>8.0</td>\n",
              "      <td>7.0</td>\n",
              "      <td>9.0</td>\n",
              "      <td>5.0</td>\n",
              "      <td>2.0</td>\n",
              "      <td>regular</td>\n",
              "      <td>6.2</td>\n",
              "    </tr>\n",
              "    <tr>\n",
              "      <th>40</th>\n",
              "      <td>11111150</td>\n",
              "      <td>Alumno 40</td>\n",
              "      <td>IDGS91</td>\n",
              "      <td>1.0</td>\n",
              "      <td>0.0</td>\n",
              "      <td>3.0</td>\n",
              "      <td>4.0</td>\n",
              "      <td>10.0</td>\n",
              "      <td>regular</td>\n",
              "      <td>3.6</td>\n",
              "    </tr>\n",
              "    <tr>\n",
              "      <th>41</th>\n",
              "      <td>11111151</td>\n",
              "      <td>Alumno 41</td>\n",
              "      <td>IDGS91</td>\n",
              "      <td>6.0</td>\n",
              "      <td>5.0</td>\n",
              "      <td>1.0</td>\n",
              "      <td>5.0</td>\n",
              "      <td>9.0</td>\n",
              "      <td>regular</td>\n",
              "      <td>5.2</td>\n",
              "    </tr>\n",
              "    <tr>\n",
              "      <th>42</th>\n",
              "      <td>11111152</td>\n",
              "      <td>Alumno 42</td>\n",
              "      <td>IDGS91</td>\n",
              "      <td>2.0</td>\n",
              "      <td>0.0</td>\n",
              "      <td>9.0</td>\n",
              "      <td>9.0</td>\n",
              "      <td>5.0</td>\n",
              "      <td>regular</td>\n",
              "      <td>5.0</td>\n",
              "    </tr>\n",
              "    <tr>\n",
              "      <th>43</th>\n",
              "      <td>11111153</td>\n",
              "      <td>Alumno 43</td>\n",
              "      <td>IDGS91</td>\n",
              "      <td>3.0</td>\n",
              "      <td>4.0</td>\n",
              "      <td>0.0</td>\n",
              "      <td>0.0</td>\n",
              "      <td>0.0</td>\n",
              "      <td>regular</td>\n",
              "      <td>1.4</td>\n",
              "    </tr>\n",
              "    <tr>\n",
              "      <th>44</th>\n",
              "      <td>11111154</td>\n",
              "      <td>Alumno 44</td>\n",
              "      <td>IDGS91</td>\n",
              "      <td>3.0</td>\n",
              "      <td>1.0</td>\n",
              "      <td>1.0</td>\n",
              "      <td>7.0</td>\n",
              "      <td>10.0</td>\n",
              "      <td>regular</td>\n",
              "      <td>4.4</td>\n",
              "    </tr>\n",
              "    <tr>\n",
              "      <th>45</th>\n",
              "      <td>11111155</td>\n",
              "      <td>Alumno 45</td>\n",
              "      <td>IDGS91</td>\n",
              "      <td>4.0</td>\n",
              "      <td>1.0</td>\n",
              "      <td>2.0</td>\n",
              "      <td>8.0</td>\n",
              "      <td>6.0</td>\n",
              "      <td>regular</td>\n",
              "      <td>4.2</td>\n",
              "    </tr>\n",
              "    <tr>\n",
              "      <th>46</th>\n",
              "      <td>11111156</td>\n",
              "      <td>Alumno 46</td>\n",
              "      <td>IDGS71</td>\n",
              "      <td>10.0</td>\n",
              "      <td>1.0</td>\n",
              "      <td>10.0</td>\n",
              "      <td>0.0</td>\n",
              "      <td>7.0</td>\n",
              "      <td>regular</td>\n",
              "      <td>5.6</td>\n",
              "    </tr>\n",
              "    <tr>\n",
              "      <th>47</th>\n",
              "      <td>11111157</td>\n",
              "      <td>Alumno 47</td>\n",
              "      <td>IDGS71</td>\n",
              "      <td>9.0</td>\n",
              "      <td>10.0</td>\n",
              "      <td>1.0</td>\n",
              "      <td>3.0</td>\n",
              "      <td>9.0</td>\n",
              "      <td>regular</td>\n",
              "      <td>6.4</td>\n",
              "    </tr>\n",
              "    <tr>\n",
              "      <th>48</th>\n",
              "      <td>11111158</td>\n",
              "      <td>Alumno 48</td>\n",
              "      <td>IDGS71</td>\n",
              "      <td>4.0</td>\n",
              "      <td>4.0</td>\n",
              "      <td>10.0</td>\n",
              "      <td>6.0</td>\n",
              "      <td>8.0</td>\n",
              "      <td>regular</td>\n",
              "      <td>6.4</td>\n",
              "    </tr>\n",
              "  </tbody>\n",
              "</table>\n",
              "</div>\n",
              "      <button class=\"colab-df-convert\" onclick=\"convertToInteractive('df-e9a8891f-8151-4e50-ac11-cdf4589e1ed1')\"\n",
              "              title=\"Convert this dataframe to an interactive table.\"\n",
              "              style=\"display:none;\">\n",
              "        \n",
              "  <svg xmlns=\"http://www.w3.org/2000/svg\" height=\"24px\"viewBox=\"0 0 24 24\"\n",
              "       width=\"24px\">\n",
              "    <path d=\"M0 0h24v24H0V0z\" fill=\"none\"/>\n",
              "    <path d=\"M18.56 5.44l.94 2.06.94-2.06 2.06-.94-2.06-.94-.94-2.06-.94 2.06-2.06.94zm-11 1L8.5 8.5l.94-2.06 2.06-.94-2.06-.94L8.5 2.5l-.94 2.06-2.06.94zm10 10l.94 2.06.94-2.06 2.06-.94-2.06-.94-.94-2.06-.94 2.06-2.06.94z\"/><path d=\"M17.41 7.96l-1.37-1.37c-.4-.4-.92-.59-1.43-.59-.52 0-1.04.2-1.43.59L10.3 9.45l-7.72 7.72c-.78.78-.78 2.05 0 2.83L4 21.41c.39.39.9.59 1.41.59.51 0 1.02-.2 1.41-.59l7.78-7.78 2.81-2.81c.8-.78.8-2.07 0-2.86zM5.41 20L4 18.59l7.72-7.72 1.47 1.35L5.41 20z\"/>\n",
              "  </svg>\n",
              "      </button>\n",
              "      \n",
              "  <style>\n",
              "    .colab-df-container {\n",
              "      display:flex;\n",
              "      flex-wrap:wrap;\n",
              "      gap: 12px;\n",
              "    }\n",
              "\n",
              "    .colab-df-convert {\n",
              "      background-color: #E8F0FE;\n",
              "      border: none;\n",
              "      border-radius: 50%;\n",
              "      cursor: pointer;\n",
              "      display: none;\n",
              "      fill: #1967D2;\n",
              "      height: 32px;\n",
              "      padding: 0 0 0 0;\n",
              "      width: 32px;\n",
              "    }\n",
              "\n",
              "    .colab-df-convert:hover {\n",
              "      background-color: #E2EBFA;\n",
              "      box-shadow: 0px 1px 2px rgba(60, 64, 67, 0.3), 0px 1px 3px 1px rgba(60, 64, 67, 0.15);\n",
              "      fill: #174EA6;\n",
              "    }\n",
              "\n",
              "    [theme=dark] .colab-df-convert {\n",
              "      background-color: #3B4455;\n",
              "      fill: #D2E3FC;\n",
              "    }\n",
              "\n",
              "    [theme=dark] .colab-df-convert:hover {\n",
              "      background-color: #434B5C;\n",
              "      box-shadow: 0px 1px 3px 1px rgba(0, 0, 0, 0.15);\n",
              "      filter: drop-shadow(0px 1px 2px rgba(0, 0, 0, 0.3));\n",
              "      fill: #FFFFFF;\n",
              "    }\n",
              "  </style>\n",
              "\n",
              "      <script>\n",
              "        const buttonEl =\n",
              "          document.querySelector('#df-e9a8891f-8151-4e50-ac11-cdf4589e1ed1 button.colab-df-convert');\n",
              "        buttonEl.style.display =\n",
              "          google.colab.kernel.accessAllowed ? 'block' : 'none';\n",
              "\n",
              "        async function convertToInteractive(key) {\n",
              "          const element = document.querySelector('#df-e9a8891f-8151-4e50-ac11-cdf4589e1ed1');\n",
              "          const dataTable =\n",
              "            await google.colab.kernel.invokeFunction('convertToInteractive',\n",
              "                                                     [key], {});\n",
              "          if (!dataTable) return;\n",
              "\n",
              "          const docLinkHtml = 'Like what you see? Visit the ' +\n",
              "            '<a target=\"_blank\" href=https://colab.research.google.com/notebooks/data_table.ipynb>data table notebook</a>'\n",
              "            + ' to learn more about interactive tables.';\n",
              "          element.innerHTML = '';\n",
              "          dataTable['output_type'] = 'display_data';\n",
              "          await google.colab.output.renderOutput(dataTable, element);\n",
              "          const docLink = document.createElement('div');\n",
              "          docLink.innerHTML = docLinkHtml;\n",
              "          element.appendChild(docLink);\n",
              "        }\n",
              "      </script>\n",
              "    </div>\n",
              "  </div>\n",
              "  "
            ]
          },
          "metadata": {},
          "execution_count": 45
        }
      ]
    },
    {
      "cell_type": "code",
      "source": [
        "todos.to_csv('calificaciones_promedio_v2.csv', sep=',')"
      ],
      "metadata": {
        "id": "GappXmKBu1yB"
      },
      "execution_count": 48,
      "outputs": []
    },
    {
      "cell_type": "code",
      "source": [],
      "metadata": {
        "id": "pFg4pQgYvgfR"
      },
      "execution_count": null,
      "outputs": []
    }
  ]
}