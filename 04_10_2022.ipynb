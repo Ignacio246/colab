{
  "nbformat": 4,
  "nbformat_minor": 0,
  "metadata": {
    "colab": {
      "provenance": [],
      "authorship_tag": "ABX9TyNS+1f4cDOx5Mmg4Aqd6Ea7",
      "include_colab_link": true
    },
    "kernelspec": {
      "name": "python3",
      "display_name": "Python 3"
    },
    "language_info": {
      "name": "python"
    }
  },
  "cells": [
    {
      "cell_type": "markdown",
      "metadata": {
        "id": "view-in-github",
        "colab_type": "text"
      },
      "source": [
        "<a href=\"https://colab.research.google.com/github/Ignacio246/colab/blob/main/04_10_2022.ipynb\" target=\"_parent\"><img src=\"https://colab.research.google.com/assets/colab-badge.svg\" alt=\"Open In Colab\"/></a>"
      ]
    },
    {
      "cell_type": "code",
      "execution_count": 2,
      "metadata": {
        "id": "glpB3ly7eeMv",
        "colab": {
          "base_uri": "https://localhost:8080/"
        },
        "outputId": "889ba512-0060-494e-d11e-45387dc8d653"
      },
      "outputs": [
        {
          "output_type": "stream",
          "name": "stdout",
          "text": [
            "Looking in indexes: https://pypi.org/simple, https://us-python.pkg.dev/colab-wheels/public/simple/\n",
            "Requirement already satisfied: numpy in /usr/local/lib/python3.7/dist-packages (1.21.6)\n"
          ]
        }
      ],
      "source": [
        "pip install numpy"
      ]
    },
    {
      "cell_type": "code",
      "source": [
        "import numpy as np\n",
        "from numpy import int64, int32, zeros"
      ],
      "metadata": {
        "id": "20kFnvOPf9E_"
      },
      "execution_count": 42,
      "outputs": []
    },
    {
      "cell_type": "code",
      "source": [
        "np.__version__"
      ],
      "metadata": {
        "colab": {
          "base_uri": "https://localhost:8080/",
          "height": 35
        },
        "id": "8FUIN8dhgRYv",
        "outputId": "e1c628f9-df6f-4142-a3c6-79241667b53f"
      },
      "execution_count": 4,
      "outputs": [
        {
          "output_type": "execute_result",
          "data": {
            "text/plain": [
              "'1.21.6'"
            ],
            "application/vnd.google.colaboratory.intrinsic+json": {
              "type": "string"
            }
          },
          "metadata": {},
          "execution_count": 4
        }
      ]
    },
    {
      "cell_type": "markdown",
      "source": [
        "## Numero de dimensiones\n",
        "array.ndim\n",
        "\n",
        "##Numero de caracteres"
      ],
      "metadata": {
        "id": "vg6Va9dCj5lw"
      }
    },
    {
      "cell_type": "code",
      "source": [
        "lista = [1,2,3,4,3]\n",
        "array = np.array(lista)\n",
        "\n",
        "#array.ndim #Numero de dimensiones\n",
        "\n",
        "#array.shape #Numero de caracteres\n",
        "\n",
        "#array.size #Cuantos elementos tiene\n",
        "\n",
        "#array.dtype #Tipo de dato\n",
        "\n",
        "#array.itemsize #El numero de bits que esta ocupando los valores\n",
        "\n",
        "#array.data #Ubicacion en la memoria donde esta ubicado´\n",
        "#type(array)\n",
        "\n",
        "#array.max()\n",
        "array.min()"
      ],
      "metadata": {
        "colab": {
          "base_uri": "https://localhost:8080/"
        },
        "id": "c-k1AY_2gTUX",
        "outputId": "53ae0638-b7b3-4ee2-e6aa-12cd72906b65"
      },
      "execution_count": 18,
      "outputs": [
        {
          "output_type": "execute_result",
          "data": {
            "text/plain": [
              "1"
            ]
          },
          "metadata": {},
          "execution_count": 18
        }
      ]
    },
    {
      "cell_type": "code",
      "source": [
        "lista1=[1,2,3]\n",
        "lista2=[4,5,6]\n",
        "array = np.array([lista1,lista2])\n",
        "array.shape"
      ],
      "metadata": {
        "colab": {
          "base_uri": "https://localhost:8080/"
        },
        "id": "tQQe6NFNhuIP",
        "outputId": "42c4ba53-7433-4f2d-e662-55897c15dd42"
      },
      "execution_count": 25,
      "outputs": [
        {
          "output_type": "execute_result",
          "data": {
            "text/plain": [
              "(2, 3)"
            ]
          },
          "metadata": {},
          "execution_count": 25
        }
      ]
    },
    {
      "cell_type": "code",
      "source": [
        "lista1=[1,2,]\n",
        "lista2=[3,4,5]\n",
        "lista3=[6,7,8,9]\n",
        "array = np.array([lista1],dtype=int64)\n",
        "array"
      ],
      "metadata": {
        "colab": {
          "base_uri": "https://localhost:8080/"
        },
        "id": "hlqlxXlHlTIv",
        "outputId": "99b46c47-996f-463d-e2a1-8e42511c6e0f"
      },
      "execution_count": 38,
      "outputs": [
        {
          "output_type": "execute_result",
          "data": {
            "text/plain": [
              "array([[1, 2]])"
            ]
          },
          "metadata": {},
          "execution_count": 38
        }
      ]
    },
    {
      "cell_type": "code",
      "source": [
        "#Simula un For\n",
        "array = np.arange(5)\n",
        "array"
      ],
      "metadata": {
        "colab": {
          "base_uri": "https://localhost:8080/"
        },
        "id": "X97pQ2UJmb31",
        "outputId": "9c22def9-db2e-404f-c278-2fa84e7eac55"
      },
      "execution_count": 39,
      "outputs": [
        {
          "output_type": "execute_result",
          "data": {
            "text/plain": [
              "array([0, 1, 2, 3, 4])"
            ]
          },
          "metadata": {},
          "execution_count": 39
        }
      ]
    },
    {
      "cell_type": "code",
      "source": [
        "np.arange(5,10,3)"
      ],
      "metadata": {
        "colab": {
          "base_uri": "https://localhost:8080/"
        },
        "id": "c6S3_1qcoW2k",
        "outputId": "5af25fb1-f5b3-48e6-ccf9-cc2a7ca49fd5"
      },
      "execution_count": 40,
      "outputs": [
        {
          "output_type": "execute_result",
          "data": {
            "text/plain": [
              "array([5, 8])"
            ]
          },
          "metadata": {},
          "execution_count": 40
        }
      ]
    },
    {
      "cell_type": "code",
      "source": [
        "#Genera un arregolo de solo 0'\n",
        "np.zeros((3,4))"
      ],
      "metadata": {
        "colab": {
          "base_uri": "https://localhost:8080/"
        },
        "id": "avFVRut_pJyx",
        "outputId": "babd32e0-48eb-43a1-fee4-df9095d18c05"
      },
      "execution_count": 44,
      "outputs": [
        {
          "output_type": "execute_result",
          "data": {
            "text/plain": [
              "array([[0., 0., 0., 0.],\n",
              "       [0., 0., 0., 0.],\n",
              "       [0., 0., 0., 0.]])"
            ]
          },
          "metadata": {},
          "execution_count": 44
        }
      ]
    },
    {
      "cell_type": "code",
      "source": [
        "#Genera un arrelo de solo 1'\n",
        "np.ones((4,3))"
      ],
      "metadata": {
        "colab": {
          "base_uri": "https://localhost:8080/"
        },
        "id": "OgN86Z8GpNis",
        "outputId": "d4177987-f603-4bf9-d5f6-a7c4f4b01f3c"
      },
      "execution_count": 45,
      "outputs": [
        {
          "output_type": "execute_result",
          "data": {
            "text/plain": [
              "array([[1., 1., 1.],\n",
              "       [1., 1., 1.],\n",
              "       [1., 1., 1.],\n",
              "       [1., 1., 1.]])"
            ]
          },
          "metadata": {},
          "execution_count": 45
        }
      ]
    },
    {
      "cell_type": "code",
      "source": [
        "#Generar \"n\" numeros en un rango de \"n\" valores \n",
        "np.linspace(0,9,3)"
      ],
      "metadata": {
        "colab": {
          "base_uri": "https://localhost:8080/"
        },
        "id": "AvQau3oKpnK8",
        "outputId": "9968f836-eb36-4cb1-c4ee-85949d8972b9"
      },
      "execution_count": 53,
      "outputs": [
        {
          "output_type": "execute_result",
          "data": {
            "text/plain": [
              "array([0. , 4.5, 9. ])"
            ]
          },
          "metadata": {},
          "execution_count": 53
        }
      ]
    },
    {
      "cell_type": "code",
      "source": [],
      "metadata": {
        "id": "rYyUJx8CqK1M"
      },
      "execution_count": null,
      "outputs": []
    }
  ]
}