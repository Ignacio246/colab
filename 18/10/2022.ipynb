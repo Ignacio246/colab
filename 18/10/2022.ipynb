{
  "nbformat": 4,
  "nbformat_minor": 0,
  "metadata": {
    "colab": {
      "provenance": [],
      "collapsed_sections": [],
      "authorship_tag": "ABX9TyOyTNMu8Odt1/aRgWW/IY2K",
      "include_colab_link": true
    },
    "kernelspec": {
      "name": "python3",
      "display_name": "Python 3"
    },
    "language_info": {
      "name": "python"
    }
  },
  "cells": [
    {
      "cell_type": "markdown",
      "metadata": {
        "id": "view-in-github",
        "colab_type": "text"
      },
      "source": [
        "<a href=\"https://colab.research.google.com/github/Ignacio246/colab/blob/main/18/10/2022.ipynb\" target=\"_parent\"><img src=\"https://colab.research.google.com/assets/colab-badge.svg\" alt=\"Open In Colab\"/></a>"
      ]
    },
    {
      "cell_type": "code",
      "source": [
        "pip install pandas"
      ],
      "metadata": {
        "colab": {
          "base_uri": "https://localhost:8080/"
        },
        "id": "-FVLJJihwnKN",
        "outputId": "92503137-f5b9-4319-f8e0-1bbd7871825a"
      },
      "execution_count": 44,
      "outputs": [
        {
          "output_type": "stream",
          "name": "stdout",
          "text": [
            "Looking in indexes: https://pypi.org/simple, https://us-python.pkg.dev/colab-wheels/public/simple/\n",
            "Requirement already satisfied: pandas in /usr/local/lib/python3.7/dist-packages (1.3.5)\n",
            "Requirement already satisfied: pytz>=2017.3 in /usr/local/lib/python3.7/dist-packages (from pandas) (2022.4)\n",
            "Requirement already satisfied: python-dateutil>=2.7.3 in /usr/local/lib/python3.7/dist-packages (from pandas) (2.8.2)\n",
            "Requirement already satisfied: numpy>=1.17.3 in /usr/local/lib/python3.7/dist-packages (from pandas) (1.21.6)\n",
            "Requirement already satisfied: six>=1.5 in /usr/local/lib/python3.7/dist-packages (from python-dateutil>=2.7.3->pandas) (1.15.0)\n"
          ]
        }
      ]
    },
    {
      "cell_type": "code",
      "execution_count": 1,
      "metadata": {
        "id": "EqT7Oezul5GU"
      },
      "outputs": [],
      "source": [
        "import pandas as pd\n",
        "import numpy as np"
      ]
    },
    {
      "cell_type": "markdown",
      "source": [
        "### Tema 1: Creacion de Series"
      ],
      "metadata": {
        "id": "0pF2SI4GyCNH"
      }
    },
    {
      "cell_type": "code",
      "source": [
        "## Creacion de series\n",
        "etiquetas =[\"A\",\"B\",\"C\"]\n",
        "datos = [1,2,3]\n",
        "s = pd.Series(data=datos,index=etiquetas)\n",
        "s"
      ],
      "metadata": {
        "colab": {
          "base_uri": "https://localhost:8080/"
        },
        "id": "rA8qGZsHndNx",
        "outputId": "a0a80f34-8ea4-4409-abe3-275943cc7f3b"
      },
      "execution_count": 2,
      "outputs": [
        {
          "output_type": "execute_result",
          "data": {
            "text/plain": [
              "A    1\n",
              "B    2\n",
              "C    3\n",
              "dtype: int64"
            ]
          },
          "metadata": {},
          "execution_count": 2
        }
      ]
    },
    {
      "cell_type": "code",
      "source": [
        "datos = {\"a\":1,\"b\":\"Hola\",\"c\":True}"
      ],
      "metadata": {
        "id": "16zQFSSontiW"
      },
      "execution_count": 6,
      "outputs": []
    },
    {
      "cell_type": "code",
      "source": [
        "s = pd.Series(datos)\n",
        "s"
      ],
      "metadata": {
        "colab": {
          "base_uri": "https://localhost:8080/"
        },
        "id": "oZsIf8fMnhqq",
        "outputId": "56ac9eff-0859-4d92-b6c8-d8397a8626cb"
      },
      "execution_count": 7,
      "outputs": [
        {
          "output_type": "execute_result",
          "data": {
            "text/plain": [
              "a       1\n",
              "b    Hola\n",
              "c    True\n",
              "dtype: object"
            ]
          },
          "metadata": {},
          "execution_count": 7
        }
      ]
    },
    {
      "cell_type": "code",
      "source": [
        "s.dtype"
      ],
      "metadata": {
        "colab": {
          "base_uri": "https://localhost:8080/"
        },
        "id": "iCHCc9PKnkEr",
        "outputId": "0c1a1313-c169-458d-c3e0-abaab20add6d"
      },
      "execution_count": 8,
      "outputs": [
        {
          "output_type": "execute_result",
          "data": {
            "text/plain": [
              "dtype('O')"
            ]
          },
          "metadata": {},
          "execution_count": 8
        }
      ]
    },
    {
      "cell_type": "code",
      "source": [
        "## Acceder medienate la etiqueta\n",
        "s[\"c\"]"
      ],
      "metadata": {
        "colab": {
          "base_uri": "https://localhost:8080/"
        },
        "id": "MT9YzP0hn77m",
        "outputId": "c51af639-3239-4c3f-d938-749fda04e3aa"
      },
      "execution_count": 10,
      "outputs": [
        {
          "output_type": "execute_result",
          "data": {
            "text/plain": [
              "True"
            ]
          },
          "metadata": {},
          "execution_count": 10
        }
      ]
    },
    {
      "cell_type": "code",
      "source": [
        "## Acceder desde la posicion o el Index\n",
        "s[2]"
      ],
      "metadata": {
        "colab": {
          "base_uri": "https://localhost:8080/"
        },
        "id": "DnGpn6l3oE6g",
        "outputId": "4582d53a-7eea-41c7-f55f-3d7c03cb1025"
      },
      "execution_count": 11,
      "outputs": [
        {
          "output_type": "execute_result",
          "data": {
            "text/plain": [
              "True"
            ]
          },
          "metadata": {},
          "execution_count": 11
        }
      ]
    },
    {
      "cell_type": "code",
      "source": [
        "## Mostrar solo los primeros 2\n",
        "s[0:2]"
      ],
      "metadata": {
        "colab": {
          "base_uri": "https://localhost:8080/"
        },
        "id": "mdsxohtWoTX3",
        "outputId": "8253539f-e3ed-4d0c-c847-181d1b00fc0a"
      },
      "execution_count": 13,
      "outputs": [
        {
          "output_type": "execute_result",
          "data": {
            "text/plain": [
              "a       1\n",
              "b    Hola\n",
              "dtype: object"
            ]
          },
          "metadata": {},
          "execution_count": 13
        }
      ]
    },
    {
      "cell_type": "code",
      "source": [
        "## Imprime el valor en la posicion \n",
        "s.head(1)"
      ],
      "metadata": {
        "colab": {
          "base_uri": "https://localhost:8080/"
        },
        "id": "FdGfiG2focXS",
        "outputId": "eae5a3c2-3058-4349-d318-a39bbda81979"
      },
      "execution_count": 15,
      "outputs": [
        {
          "output_type": "execute_result",
          "data": {
            "text/plain": [
              "a    1\n",
              "dtype: object"
            ]
          },
          "metadata": {},
          "execution_count": 15
        }
      ]
    },
    {
      "cell_type": "code",
      "source": [
        "## Imprime la cola de la serie empezando de abajo hacia arriba\n",
        "s.tail(1)"
      ],
      "metadata": {
        "colab": {
          "base_uri": "https://localhost:8080/"
        },
        "id": "UYMrWHSmorR3",
        "outputId": "23b6654c-0400-4bca-83cb-b58c0d0f77a6"
      },
      "execution_count": 17,
      "outputs": [
        {
          "output_type": "execute_result",
          "data": {
            "text/plain": [
              "c    True\n",
              "dtype: object"
            ]
          },
          "metadata": {},
          "execution_count": 17
        }
      ]
    },
    {
      "cell_type": "code",
      "source": [
        "## Creamos una nueva serie\n",
        "etiquetas = [\"a\",\"b\",\"c\"]\n",
        "datos = [1,\"Hola\",True]\n",
        "s=pd.Series(datos,etiquetas)\n",
        "s"
      ],
      "metadata": {
        "colab": {
          "base_uri": "https://localhost:8080/"
        },
        "id": "FBO6kbghpH8h",
        "outputId": "5dd9cbca-1cae-4570-bf5e-224412e70fe4"
      },
      "execution_count": 20,
      "outputs": [
        {
          "output_type": "execute_result",
          "data": {
            "text/plain": [
              "a       1\n",
              "b    Hola\n",
              "c    True\n",
              "dtype: object"
            ]
          },
          "metadata": {},
          "execution_count": 20
        }
      ]
    },
    {
      "cell_type": "code",
      "source": [
        "## Vemo que tipo de dato es\n",
        "type(s[\"a\"])"
      ],
      "metadata": {
        "colab": {
          "base_uri": "https://localhost:8080/"
        },
        "id": "0jWOJiFoqAP3",
        "outputId": "96f81088-3df1-486f-b89c-ed04d07bbd72"
      },
      "execution_count": 24,
      "outputs": [
        {
          "output_type": "execute_result",
          "data": {
            "text/plain": [
              "int"
            ]
          },
          "metadata": {},
          "execution_count": 24
        }
      ]
    },
    {
      "cell_type": "code",
      "source": [
        "## Creamos una nueva serie\n",
        "etiquetas = [\"a\",\"b\",\"c\"]\n",
        "datos = [1,\"Hola\",True]\n",
        "s = pd.Series(data=datos,index=etiquetas,name=\"Serie1\")\n",
        "s"
      ],
      "metadata": {
        "colab": {
          "base_uri": "https://localhost:8080/"
        },
        "id": "q0kf9Tm3qyzD",
        "outputId": "18da6b02-9ffe-49bd-bda9-1d969501450f"
      },
      "execution_count": 29,
      "outputs": [
        {
          "output_type": "execute_result",
          "data": {
            "text/plain": [
              "a       1\n",
              "b    Hola\n",
              "c    True\n",
              "Name: Serie1, dtype: object"
            ]
          },
          "metadata": {},
          "execution_count": 29
        }
      ]
    },
    {
      "cell_type": "code",
      "source": [
        "## Vemos como se llama nuestra serie\n",
        "s.name"
      ],
      "metadata": {
        "colab": {
          "base_uri": "https://localhost:8080/",
          "height": 36
        },
        "id": "EsV27XPLrx57",
        "outputId": "013918e5-e0d5-4a05-d5f4-ca762d071877"
      },
      "execution_count": 30,
      "outputs": [
        {
          "output_type": "execute_result",
          "data": {
            "text/plain": [
              "'Serie1'"
            ],
            "application/vnd.google.colaboratory.intrinsic+json": {
              "type": "string"
            }
          },
          "metadata": {},
          "execution_count": 30
        }
      ]
    },
    {
      "cell_type": "code",
      "source": [
        "## Renombramos la serie\n",
        "s.rename(\"Serie 2\")"
      ],
      "metadata": {
        "colab": {
          "base_uri": "https://localhost:8080/"
        },
        "id": "Cf_U4kbIscea",
        "outputId": "60f37d24-03b6-452d-ec31-cbe273f69ef2"
      },
      "execution_count": 31,
      "outputs": [
        {
          "output_type": "execute_result",
          "data": {
            "text/plain": [
              "a       1\n",
              "b    Hola\n",
              "c    True\n",
              "Name: Serie 2, dtype: object"
            ]
          },
          "metadata": {},
          "execution_count": 31
        }
      ]
    },
    {
      "cell_type": "code",
      "source": [
        "## Describe toda la informacion de la serie\n",
        "s.describe()"
      ],
      "metadata": {
        "colab": {
          "base_uri": "https://localhost:8080/"
        },
        "id": "nqSBv43usnom",
        "outputId": "aeb53ab7-8d24-4021-fb63-0cdef3109811"
      },
      "execution_count": 36,
      "outputs": [
        {
          "output_type": "execute_result",
          "data": {
            "text/plain": [
              "count     3\n",
              "unique    2\n",
              "top       1\n",
              "freq      2\n",
              "Name: Serie1, dtype: int64"
            ]
          },
          "metadata": {},
          "execution_count": 36
        }
      ]
    },
    {
      "cell_type": "code",
      "source": [
        "etiquetas = [\"a\",\"b\",\"c\"]\n",
        "datos = [10,20,30]\n",
        "s = pd.Series(data=datos,index=etiquetas,name=\"Serie1\")\n",
        "s"
      ],
      "metadata": {
        "colab": {
          "base_uri": "https://localhost:8080/"
        },
        "id": "ZIU-Mwa5s0Oc",
        "outputId": "f36df38b-bce7-4e03-bf19-7a7e469fb40f"
      },
      "execution_count": 37,
      "outputs": [
        {
          "output_type": "execute_result",
          "data": {
            "text/plain": [
              "a    10\n",
              "b    20\n",
              "c    30\n",
              "Name: Serie1, dtype: int64"
            ]
          },
          "metadata": {},
          "execution_count": 37
        }
      ]
    },
    {
      "cell_type": "code",
      "source": [
        "## Describe toda la informacion de la serie(en forma de estadistica)\n",
        "s.describe()"
      ],
      "metadata": {
        "colab": {
          "base_uri": "https://localhost:8080/"
        },
        "id": "q7KVSml4tXU2",
        "outputId": "f8894c61-177c-4042-e722-2db660e69f27"
      },
      "execution_count": 38,
      "outputs": [
        {
          "output_type": "execute_result",
          "data": {
            "text/plain": [
              "count     3.0\n",
              "mean     20.0\n",
              "std      10.0\n",
              "min      10.0\n",
              "25%      15.0\n",
              "50%      20.0\n",
              "75%      25.0\n",
              "max      30.0\n",
              "Name: Serie1, dtype: float64"
            ]
          },
          "metadata": {},
          "execution_count": 38
        }
      ]
    },
    {
      "cell_type": "code",
      "source": [
        "etiquetas = [\"a\",\"b\",\"c\",\"d\"]\n",
        "datos = [10,20,30,True]\n",
        "s = pd.Series(data=datos,index=etiquetas,name=\"Serie Descripcion\")\n",
        "s"
      ],
      "metadata": {
        "colab": {
          "base_uri": "https://localhost:8080/"
        },
        "id": "v5Qq6ztOtZtj",
        "outputId": "334f1b29-8d8f-43c0-9a03-cc1c92bdb2e9"
      },
      "execution_count": 39,
      "outputs": [
        {
          "output_type": "execute_result",
          "data": {
            "text/plain": [
              "a      10\n",
              "b      20\n",
              "c      30\n",
              "d    True\n",
              "Name: Serie Descripcion, dtype: object"
            ]
          },
          "metadata": {},
          "execution_count": 39
        }
      ]
    },
    {
      "cell_type": "code",
      "source": [
        "s.describe()"
      ],
      "metadata": {
        "colab": {
          "base_uri": "https://localhost:8080/"
        },
        "id": "5V26X8vtuYqw",
        "outputId": "c2d7f26e-081f-4a2c-8236-78658a534801"
      },
      "execution_count": 41,
      "outputs": [
        {
          "output_type": "execute_result",
          "data": {
            "text/plain": [
              "count      4\n",
              "unique     4\n",
              "top       10\n",
              "freq       1\n",
              "Name: Serie Descripcion, dtype: int64"
            ]
          },
          "metadata": {},
          "execution_count": 41
        }
      ]
    },
    {
      "cell_type": "code",
      "source": [
        "etiquetas = [\"uno\",\"dos\",\"cuatro\"]\n",
        "datos = {\"uno\":1,\"dos\":2,\"tres\":3}\n",
        "s=pd.Series(data=datos,index=etiquetas,name=\"Serie\")\n",
        "s"
      ],
      "metadata": {
        "colab": {
          "base_uri": "https://localhost:8080/"
        },
        "id": "G-Rz7c7kuZlY",
        "outputId": "76a98c8f-a185-4a4c-c039-45d6279998f7"
      },
      "execution_count": 42,
      "outputs": [
        {
          "output_type": "execute_result",
          "data": {
            "text/plain": [
              "uno       1.0\n",
              "dos       2.0\n",
              "cuatro    NaN\n",
              "Name: Serie, dtype: float64"
            ]
          },
          "metadata": {},
          "execution_count": 42
        }
      ]
    },
    {
      "cell_type": "code",
      "source": [
        "etiquetas = [\"uno\",\"dos\",\"uno\"]\n",
        "datos = {\"uno\":1,\"dos\":2,\"tres\":3}\n",
        "s=pd.Series(data=datos,index=etiquetas,name=\"Serie\")\n",
        "s"
      ],
      "metadata": {
        "colab": {
          "base_uri": "https://localhost:8080/"
        },
        "id": "CS0xGvO5vkRB",
        "outputId": "fa257309-3b9a-48fd-f751-d2dd0262fa49"
      },
      "execution_count": 43,
      "outputs": [
        {
          "output_type": "execute_result",
          "data": {
            "text/plain": [
              "uno    1\n",
              "dos    2\n",
              "uno    1\n",
              "Name: Serie, dtype: int64"
            ]
          },
          "metadata": {},
          "execution_count": 43
        }
      ]
    },
    {
      "cell_type": "code",
      "source": [
        "s.describe()"
      ],
      "metadata": {
        "colab": {
          "base_uri": "https://localhost:8080/"
        },
        "id": "TvXuUYxcwFeX",
        "outputId": "d0616304-879e-4ba9-c296-54006c3bc1e7"
      },
      "execution_count": 45,
      "outputs": [
        {
          "output_type": "execute_result",
          "data": {
            "text/plain": [
              "count    3.000000\n",
              "mean     1.333333\n",
              "std      0.577350\n",
              "min      1.000000\n",
              "25%      1.000000\n",
              "50%      1.000000\n",
              "75%      1.500000\n",
              "max      2.000000\n",
              "Name: Serie, dtype: float64"
            ]
          },
          "metadata": {},
          "execution_count": 45
        }
      ]
    },
    {
      "cell_type": "markdown",
      "source": [
        "### Tema 2: "
      ],
      "metadata": {
        "id": "GOLIHrKMyHjw"
      }
    },
    {
      "cell_type": "code",
      "source": [
        "### Creamos una serie\n",
        "s1 = pd.Series([1,2,3],['a','b','c'])\n",
        "s2 = pd.Series([4,5,6],['a','b','c'])\n"
      ],
      "metadata": {
        "id": "vvn4jhvjw8Kz"
      },
      "execution_count": 47,
      "outputs": []
    },
    {
      "cell_type": "code",
      "source": [
        "### Sumamos la serie con los elementos que contiene\n",
        "### Operadores de Python(**,+,-,*,/,//,%)\n",
        "s1*5"
      ],
      "metadata": {
        "colab": {
          "base_uri": "https://localhost:8080/"
        },
        "id": "QReY5NkyyXDJ",
        "outputId": "03d0aa51-0413-4ed0-e7c1-1393976b3f59"
      },
      "execution_count": 54,
      "outputs": [
        {
          "output_type": "execute_result",
          "data": {
            "text/plain": [
              "a     5\n",
              "b    10\n",
              "c    15\n",
              "dtype: int64"
            ]
          },
          "metadata": {},
          "execution_count": 54
        }
      ]
    },
    {
      "cell_type": "code",
      "source": [
        "## mostramos la mediana\n",
        "s1.median()"
      ],
      "metadata": {
        "colab": {
          "base_uri": "https://localhost:8080/"
        },
        "id": "tdHIW-8Iybhp",
        "outputId": "3937c56b-36c8-4c86-8f04-7953d3550393"
      },
      "execution_count": 60,
      "outputs": [
        {
          "output_type": "execute_result",
          "data": {
            "text/plain": [
              "2.0"
            ]
          },
          "metadata": {},
          "execution_count": 60
        }
      ]
    },
    {
      "cell_type": "code",
      "source": [
        "### Valores menores que la mediana\n",
        "s1[s1<s1.median()]"
      ],
      "metadata": {
        "colab": {
          "base_uri": "https://localhost:8080/"
        },
        "id": "YidoAuV0zfaX",
        "outputId": "dd48f81d-bc4c-4192-c0aa-c353619d7a6f"
      },
      "execution_count": 59,
      "outputs": [
        {
          "output_type": "execute_result",
          "data": {
            "text/plain": [
              "a    1\n",
              "dtype: int64"
            ]
          },
          "metadata": {},
          "execution_count": 59
        }
      ]
    },
    {
      "cell_type": "code",
      "source": [
        "### Valores Menores a 3\n",
        "s1[s1<3]"
      ],
      "metadata": {
        "colab": {
          "base_uri": "https://localhost:8080/"
        },
        "id": "eXalynvVzxDl",
        "outputId": "32aa14d0-e680-4de0-a740-35e6f2016b41"
      },
      "execution_count": 61,
      "outputs": [
        {
          "output_type": "execute_result",
          "data": {
            "text/plain": [
              "a    1\n",
              "b    2\n",
              "dtype: int64"
            ]
          },
          "metadata": {},
          "execution_count": 61
        }
      ]
    },
    {
      "cell_type": "code",
      "source": [
        "## Busca el index en la serie, si existe(True), no existe(False)\n",
        "\"a\" in s1"
      ],
      "metadata": {
        "colab": {
          "base_uri": "https://localhost:8080/"
        },
        "id": "AanS_CIzz65o",
        "outputId": "aace5221-c023-4231-db44-020122e02e9b"
      },
      "execution_count": 62,
      "outputs": [
        {
          "output_type": "execute_result",
          "data": {
            "text/plain": [
              "True"
            ]
          },
          "metadata": {},
          "execution_count": 62
        }
      ]
    },
    {
      "cell_type": "code",
      "source": [
        "\"x\" in s1"
      ],
      "metadata": {
        "colab": {
          "base_uri": "https://localhost:8080/"
        },
        "id": "rEZC5WME0rEB",
        "outputId": "c1e5f890-e5cf-460d-fcc7-87ec443b2398"
      },
      "execution_count": 63,
      "outputs": [
        {
          "output_type": "execute_result",
          "data": {
            "text/plain": [
              "False"
            ]
          },
          "metadata": {},
          "execution_count": 63
        }
      ]
    },
    {
      "cell_type": "code",
      "source": [
        "\"3\" in s1"
      ],
      "metadata": {
        "colab": {
          "base_uri": "https://localhost:8080/"
        },
        "id": "_5muRjUy0uoX",
        "outputId": "65775b1e-7fe2-47ff-ea7c-659250da7a83"
      },
      "execution_count": 64,
      "outputs": [
        {
          "output_type": "execute_result",
          "data": {
            "text/plain": [
              "False"
            ]
          },
          "metadata": {},
          "execution_count": 64
        }
      ]
    },
    {
      "cell_type": "code",
      "source": [
        "help(pd.Series)"
      ],
      "metadata": {
        "id": "eEvnWu1i0w1a"
      },
      "execution_count": null,
      "outputs": []
    },
    {
      "cell_type": "code",
      "source": [
        "type(s1)"
      ],
      "metadata": {
        "colab": {
          "base_uri": "https://localhost:8080/"
        },
        "id": "_yHkPEdT1Yka",
        "outputId": "aec91d4c-2048-47f3-b870-56eff6d16bc0"
      },
      "execution_count": 68,
      "outputs": [
        {
          "output_type": "execute_result",
          "data": {
            "text/plain": [
              "pandas.core.series.Series"
            ]
          },
          "metadata": {},
          "execution_count": 68
        }
      ]
    },
    {
      "cell_type": "code",
      "source": [],
      "metadata": {
        "id": "oM_mF_YL1kzL"
      },
      "execution_count": null,
      "outputs": []
    }
  ]
}